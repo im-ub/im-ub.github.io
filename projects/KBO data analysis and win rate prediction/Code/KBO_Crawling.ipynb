{
 "cells": [
  {
   "cell_type": "code",
   "execution_count": 141,
   "metadata": {},
   "outputs": [],
   "source": [
    "from bs4 import BeautifulSoup\n",
    "import requests\n",
    "import pandas as pd\n",
    "import urllib\n",
    "\n",
    "from pandas import DataFrame\n",
    "from pandas import read_csv"
   ]
  },
  {
   "cell_type": "markdown",
   "metadata": {},
   "source": [
    "팀 리스트 가져오기"
   ]
  },
  {
   "cell_type": "code",
   "execution_count": 142,
   "metadata": {},
   "outputs": [],
   "source": [
    "\n",
    "headers = {\n",
    "    'User-Agent': 'Mozilla/5.0 (Macintosh; Intel Mac OS X 10_10_3) AppleWebKit/537.36 (KHTML, like Gecko) Chrome/46.0.2490.80 Safari/537.36',\n",
    "    'Referer': 'https://www.koreabaseball.com/Player/Search.aspx',\n",
    "    'Origin': 'https://www.koreabaseball.com',\n",
    "    'Content-Type': 'application/x-www-form-urlencoded',\n",
    "}"
   ]
  },
  {
   "cell_type": "code",
   "execution_count": 143,
   "metadata": {},
   "outputs": [],
   "source": [
    "rq = requests.Session()"
   ]
  },
  {
   "cell_type": "code",
   "execution_count": 144,
   "metadata": {},
   "outputs": [],
   "source": [
    "src = BeautifulSoup(rq.get('https://www.koreabaseball.com/Player/Search.aspx', headers=headers).text)\n",
    "teams = [(team.text, team['value']) for team in src.find(class_='select02').find_all('option')][1:]"
   ]
  },
  {
   "cell_type": "code",
   "execution_count": 145,
   "metadata": {},
   "outputs": [
    {
     "name": "stdout",
     "output_type": "stream",
     "text": [
      "NC NC\n",
      "두산 OB\n",
      "KT KT\n",
      "LG LG\n",
      "키움 WO\n",
      "KIA HT\n",
      "롯데 LT\n",
      "삼성 SS\n",
      "SK SK\n",
      "한화 HH\n"
     ]
    }
   ],
   "source": [
    "\n",
    "for x,y in teams:\n",
    "    print x, y"
   ]
  },
  {
   "cell_type": "markdown",
   "metadata": {},
   "source": [
    "팀별 선수목록 가져오기"
   ]
  },
  {
   "cell_type": "code",
   "execution_count": 146,
   "metadata": {},
   "outputs": [],
   "source": [
    "def make_post_next_pageset(code):\n",
    "    return urllib.urlencode({        \n",
    "        '__EVENTTARGET':'ctl00$ctl00$ctl00$cphContents$cphContents$cphContents$ucPager$btnLast',\n",
    "        '__EVENTARGUMENT': '',\n",
    "        '__LASTFOCUS': '',\n",
    "        '__VIEWSTATE': __VIEWSTATE,\n",
    "        '__VIEWSTATEGENERATOR': __VIEWSTATEGENERATOR,\n",
    "        '__EVENTVALIDATION': __EVENTVALIDATION,\n",
    "        'ctl00$ctl00$ctl00$cphContents$cphContents$cphContents$udpRecord': '',\n",
    "        'ctl00$ctl00$ctl00$cphContents$cphContents$cphContents$hfPage': __PREVPAGE,\n",
    "        'ctl00$ctl00$ctl00$cphContents$cphContents$cphContents$ddlTeam': str(code),\n",
    "        'ctl00$ctl00$ctl00$cphContents$cphContents$cphContents$ddlPosition': '',\n",
    "        'ctl00$ctl00$ctl00$cphContents$cphContents$cphContents$txtSearchPlayerName': ''\n",
    "           })"
   ]
  },
  {
   "cell_type": "code",
   "execution_count": 147,
   "metadata": {},
   "outputs": [],
   "source": [
    "def make_post_page(code, page):\n",
    "    return urllib.urlencode({\n",
    "        '__EVENTTARGET':'ctl00$ctl00$ctl00$cphContents$cphContents$cphContents$ucPager$btnNo' + str(page % 5 + 5*(page % 5 == 0)),\n",
    "        '__EVENTARGUMENT': '',\n",
    "        '__LASTFOCUS': '',\n",
    "        '__VIEWSTATE': __VIEWSTATE,          \n",
    "        '__VIEWSTATEGENERATOR': __VIEWSTATEGENERATOR,\n",
    "        '__EVENTVALIDATION': __EVENTVALIDATION,\n",
    "        'ctl00$ctl00$ctl00$cphContents$cphContents$cphContents$udpRecord': '',\n",
    "        'ctl00$ctl00$ctl00$cphContents$cphContents$cphContents$hfPage': __PREVPAGE,\n",
    "        'ctl00$ctl00$ctl00$cphContents$cphContents$cphContents$ddlTeam': str(code),\n",
    "        'ctl00$ctl00$ctl00$cphContents$cphContents$cphContents$ddlPosition': '',\n",
    "        'ctl00$ctl00$ctl00$cphContents$cphContents$cphContents$txtSearchPlayerName': ''\n",
    "           })"
   ]
  },
  {
   "cell_type": "code",
   "execution_count": 148,
   "metadata": {},
   "outputs": [],
   "source": [
    "def make_post_data(code, page=1):\n",
    "    return urllib.urlencode({\n",
    "        '__EVENTTARGET':'ctl00$ctl00$ctl00$cphContents$cphContents$cphContents$ddlTeam',\n",
    "        '__EVENTARGUMENT': '',\n",
    "        '__LASTFOCUS': '',\n",
    "        '__VIEWSTATE': __VIEWSTATE,\n",
    "        '__VIEWSTATEGENERATOR': __VIEWSTATEGENERATOR,\n",
    "        '__EVENTVALIDATION': __EVENTVALIDATION,        \n",
    "        'ctl00$ctl00$ctl00$cphContents$cphContents$cphContents$udpRecord': '',\n",
    "        'ctl00$ctl00$ctl00$cphContents$cphContents$cphContents$hfPage': '1',\n",
    "        'ctl00$ctl00$ctl00$cphContents$cphContents$cphContents$ddlTeam': str(code),\n",
    "        'ctl00$ctl00$ctl00$cphContents$cphContents$cphContents$ddlPosition': '',\n",
    "        'ctl00$ctl00$ctl00$cphContents$cphContents$cphContents$txtSearchPlayerName': ''\n",
    "           })"
   ]
  },
  {
   "cell_type": "code",
   "execution_count": 149,
   "metadata": {},
   "outputs": [],
   "source": [
    "def update_state(res, page=1):\n",
    "    global __VIEWSTATE, __EVENTVALIDATION, __VIEWSTATEGENERATOR, __PREVPAGE\n",
    "    src = BeautifulSoup(res)\n",
    "    if not src.find('input', {'name':'__VIEWSTATE'}):\n",
    "        # Exception!!\n",
    "        # print src\n",
    "        pass\n",
    "    __PREVPAGE = str(page)\n",
    "    __VIEWSTATE = src.find('input', {'name':'__VIEWSTATE'})['value']\n",
    "    __VIEWSTATEGENERATOR = src.find(id='__VIEWSTATEGENERATOR')['value']\n",
    "    __EVENTVALIDATION = src.find(id='__EVENTVALIDATION')['value']"
   ]
  },
  {
   "cell_type": "code",
   "execution_count": 150,
   "metadata": {},
   "outputs": [],
   "source": [
    "def get_player_list(code):\n",
    "    rq = requests.Session()\n",
    "    res = rq.get('https://www.koreabaseball.com/Player/Search.aspx', headers=headers)\n",
    "    update_state(res.text)\n",
    "    \n",
    "    batters = []; pitchers = []\n",
    "    \n",
    "    for i in xrange(1,9):\n",
    "        if i % 5 == 1:\n",
    "            if i > 1:\n",
    "                res = rq.post('https://www.koreabaseball.com/Player/Search.aspx', data=make_post_next_pageset(code), headers=headers)\n",
    "            else:\n",
    "                res = rq.post('https://www.koreabaseball.com/Player/Search.aspx', data=make_post_data(code, i), headers=headers)\n",
    "            try:\n",
    "                update_state(res.text)\n",
    "            except:\n",
    "                print 'Break at %d' % i\n",
    "                break\n",
    "        res = rq.post('https://www.koreabaseball.com/Player/Search.aspx', data=make_post_page(code, i), headers=headers)\n",
    "        try:\n",
    "            update_state(res.text, i)\n",
    "        except:\n",
    "            print 'Break at %d' % i\n",
    "            break\n",
    "        src = BeautifulSoup(res.text)\n",
    "        if src.find(class_='tEx') == None:\n",
    "            print code, i, make_post_page(code, i), res.text\n",
    "            break\n",
    "        rows = src.find(class_='tEx').find('tbody').find_all('tr')\n",
    "        print '%s_%d: %d' % (code, i, len(rows))\n",
    "        if len(rows) == 0:\n",
    "            break\n",
    "        for j in xrange(len(rows)):\n",
    "            link = rows[j].find('a')\n",
    "            if link['href'].find('HitterDetail') != -1:\n",
    "                batters.append(link['href'].split('playerId=')[-1])\n",
    "            if link['href'].find('PitcherDetail') != -1:\n",
    "                pitchers.append(link['href'].split('playerId=')[-1])\n",
    "    return (batters, pitchers)\n",
    "    "
   ]
  },
  {
   "cell_type": "code",
   "execution_count": 151,
   "metadata": {},
   "outputs": [],
   "source": [
    "player_list = {\n",
    "               'SS': None,\n",
    "               'WO': None,\n",
    "               'NC': None,\n",
    "               'OB': None,\n",
    "               'LG': None,\n",
    "               'SK': None,\n",
    "               'KT': None,\n",
    "               'LT': None,\n",
    "               'HT': None,\n",
    "               'HH': None\n",
    "              }"
   ]
  },
  {
   "cell_type": "code",
   "execution_count": 152,
   "metadata": {},
   "outputs": [
    {
     "name": "stdout",
     "output_type": "stream",
     "text": [
      "SK_1: 20\n",
      "SK_2: 20\n",
      "SK_3: 20\n",
      "SK_4: 20\n",
      "SK_5: 11\n",
      "SK_6: 20\n",
      "SK_7: 20\n",
      "SK_8: 20\n",
      "WO_1: 20\n",
      "WO_2: 20\n",
      "WO_3: 20\n",
      "WO_4: 20\n",
      "WO_5: 1\n",
      "WO_6: 20\n",
      "WO_7: 20\n",
      "WO_8: 20\n",
      "LT_1: 20\n",
      "LT_2: 20\n",
      "LT_3: 20\n",
      "LT_4: 20\n",
      "LT_5: 6\n",
      "LT_6: 20\n",
      "LT_7: 20\n",
      "LT_8: 20\n",
      "KT_1: 20\n",
      "KT_2: 20\n",
      "KT_3: 20\n",
      "KT_4: 20\n",
      "KT_5: 17\n",
      "KT_6: 20\n",
      "KT_7: 20\n",
      "KT_8: 20\n",
      "HH_1: 20\n",
      "HH_2: 20\n",
      "HH_3: 20\n",
      "HH_4: 20\n",
      "HH_5: 16\n",
      "HH_6: 20\n",
      "HH_7: 20\n",
      "HH_8: 20\n",
      "LG_1: 20\n",
      "LG_2: 20\n",
      "LG_3: 20\n",
      "LG_4: 20\n",
      "LG_5: 5\n",
      "LG_6: 20\n",
      "LG_7: 20\n",
      "LG_8: 20\n",
      "SS_1: 20\n",
      "SS_2: 20\n",
      "SS_3: 20\n",
      "SS_4: 20\n",
      "SS_5: 4\n",
      "SS_6: 20\n",
      "SS_7: 20\n",
      "SS_8: 20\n",
      "NC_1: 20\n",
      "NC_2: 20\n",
      "NC_3: 20\n",
      "NC_4: 20\n",
      "NC_5: 14\n",
      "NC_6: 20\n",
      "NC_7: 20\n",
      "NC_8: 20\n",
      "OB_1: 20\n",
      "OB_2: 20\n",
      "OB_3: 20\n",
      "OB_4: 20\n",
      "OB_5: 16\n",
      "OB_6: 20\n",
      "OB_7: 20\n",
      "OB_8: 20\n",
      "HT_1: 20\n",
      "HT_2: 20\n",
      "HT_3: 20\n",
      "HT_4: 20\n",
      "HT_5: 8\n",
      "HT_6: 20\n",
      "HT_7: 20\n",
      "HT_8: 20\n"
     ]
    }
   ],
   "source": [
    "for team in player_list.keys():\n",
    "    player_list[team] = get_player_list(team)"
   ]
  },
  {
   "cell_type": "markdown",
   "metadata": {},
   "source": [
    "선수별 데이터 가져오기"
   ]
  },
  {
   "cell_type": "code",
   "execution_count": 14,
   "metadata": {},
   "outputs": [],
   "source": [
    "def get_basic_info(src):\n",
    "    items = src.find(class_='player_basic').find_all('li')\n",
    "    dic = {}\n",
    "    \n",
    "    for item in items:\n",
    "        dic[item.find('strong').text.replace(':', '')] = item.find('span').text\n",
    "    \n",
    "    return dic"
   ]
  },
  {
   "cell_type": "markdown",
   "metadata": {},
   "source": [
    "투수 정보 가져오기"
   ]
  },
  {
   "cell_type": "code",
   "execution_count": 15,
   "metadata": {},
   "outputs": [],
   "source": [
    "def get_pitcher_info(id):\n",
    "    url = 'https://www.koreabaseball.com/Record/Player/PitcherDetail/Basic.aspx?playerId=' + str(id)\n",
    "    src = BeautifulSoup(rq.get(url, headers=headers).text)\n",
    "    \n",
    "    tables = src.find_all(class_='tt')[:2]\n",
    "    ret = {}\n",
    "    \n",
    "    for table in tables:\n",
    "        keys = [x.find('a')['title'].strip() if x and x.find('a') else x.text for x in table.find('thead').find_all('th')]\n",
    "        values = [x.text for x in table.find('tbody').find_all('td')]\n",
    "        \n",
    "        if len(values) != len(keys) or values.count('-') > 0:\n",
    "            return None\n",
    "        \n",
    "        fvalues = []\n",
    "\n",
    "        def frac_to_float(val):\n",
    "            return float(val.split('/')[0]) / float(val.split('/')[-1])\n",
    "\n",
    "        for key, val in zip(keys, values):\n",
    "            if key == u'팀명':\n",
    "                fvalues.append(val)\n",
    "                continue\n",
    "                \n",
    "            try:\n",
    "                fvalues.append(float(val))\n",
    "            except:\n",
    "                if val.find(' ') != -1:\n",
    "                    fvalues.append(sum([frac_to_float(x) if x.find('/') != -1 else float(x) for x in val.split()]))\n",
    "                    \n",
    "        ret.update(dict(zip(keys, fvalues)))\n",
    "        \n",
    "    ret.update(get_basic_info(src))\n",
    "    return ret"
   ]
  },
  {
   "cell_type": "markdown",
   "metadata": {},
   "source": [
    "타자정보가져오기"
   ]
  },
  {
   "cell_type": "code",
   "execution_count": 16,
   "metadata": {},
   "outputs": [],
   "source": [
    "def get_batter_info(id):\n",
    "    url = 'https://www.koreabaseball.com/Record/Player/HitterDetail/Basic.aspx?playerId=' + str(id)\n",
    "    src = BeautifulSoup(rq.get(url, headers=headers).text)\n",
    "    \n",
    "    tables = src.find_all(class_='tt')[:2]\n",
    "    ret = {}\n",
    "    \n",
    "    for table in tables:\n",
    "        keys = [x.find('a')['title'].strip() if x and x.find('a') else x.text for x in table.find('thead').find_all('th')]\n",
    "        values = [x.text for x in table.find('tbody').find_all('td')]\n",
    "        \n",
    "        if len(values) != len(keys) or values.count('-') > 0:\n",
    "            return None\n",
    "        \n",
    "        fvalues = []\n",
    "\n",
    "        def frac_to_float(val):\n",
    "            return float(val.split('/')[0]) / float(val.split('/')[-1])\n",
    "\n",
    "        for key, val in zip(keys, values):\n",
    "            if key == u'팀명':\n",
    "                fvalues.append(val)\n",
    "                continue\n",
    "                \n",
    "            try:\n",
    "                fvalues.append(float(val))\n",
    "            except:\n",
    "                if val.find(' ') != -1:\n",
    "                    fvalues.append(sum([frac_to_float(x) if x.find('/') != -1 else float(x) for x in val.split()]))\n",
    "                    \n",
    "        ret.update(dict(zip(keys, fvalues)))\n",
    "        \n",
    "    ret.update(get_basic_info(src))\n",
    "    return ret"
   ]
  },
  {
   "cell_type": "markdown",
   "metadata": {},
   "source": [
    "CSV 저장하기"
   ]
  },
  {
   "cell_type": "code",
   "execution_count": 17,
   "metadata": {},
   "outputs": [],
   "source": [
    "from collections import defaultdict\n",
    "\n",
    "def merge_dicts(dicts):\n",
    "    ret = defaultdict(list)\n",
    "    \n",
    "    for d in dicts:\n",
    "        for k in d.keys():\n",
    "            ret[k].append(d[k])\n",
    "    \n",
    "    return ret"
   ]
  },
  {
   "cell_type": "code",
   "execution_count": 18,
   "metadata": {},
   "outputs": [],
   "source": [
    "def get_batter_info(id):\n",
    "    url = 'https://www.koreabaseball.com/Record/Player/HitterDetail/Basic.aspx?playerId=' + str(id)\n",
    "    src = BeautifulSoup(rq.get(url, headers=headers).text)\n",
    "    \n",
    "    tables = src.find_all(class_='tt')[:2]\n",
    "    ret = {}\n",
    "    \n",
    "    for table in tables:\n",
    "        keys = [x.find('a')['title'].strip() if x and x.find('a') else x.text for x in table.find('thead').find_all('th')]\n",
    "        values = [x.text for x in table.find('tbody').find_all('td')]\n",
    "        \n",
    "        if len(values) != len(keys) or values.count('-') > 0:\n",
    "            return None\n",
    "        \n",
    "        fvalues = []\n",
    "\n",
    "        def frac_to_float(val):\n",
    "            return float(val.split('/')[0]) / float(val.split('/')[-1])\n",
    "\n",
    "        for key, val in zip(keys, values):\n",
    "            if key == u'팀명':\n",
    "                fvalues.append(val)\n",
    "                continue\n",
    "                \n",
    "            try:\n",
    "                fvalues.append(float(val))\n",
    "            except:\n",
    "                if val.find(' ') != -1:\n",
    "                    fvalues.append(sum([frac_to_float(x) if x.find('/') != -1 else float(x) for x in val.split()]))\n",
    "                    \n",
    "        ret.update(dict(zip(keys, fvalues)))\n",
    "        \n",
    "    ret.update(get_basic_info(src))\n",
    "    return ret"
   ]
  },
  {
   "cell_type": "markdown",
   "metadata": {},
   "source": [
    "csv 저장"
   ]
  },
  {
   "cell_type": "code",
   "execution_count": 19,
   "metadata": {},
   "outputs": [],
   "source": [
    "from collections import defaultdict\n",
    "\n",
    "def merge_dicts(dicts):\n",
    "    ret = defaultdict(list)\n",
    "    \n",
    "    for d in dicts:\n",
    "        for k in d.keys():\n",
    "            ret[k].append(d[k])\n",
    "    \n",
    "    return ret"
   ]
  },
  {
   "cell_type": "code",
   "execution_count": 20,
   "metadata": {},
   "outputs": [],
   "source": [
    "def get_players_in_team(code):\n",
    "    ret = {\n",
    "        'batters': [],\n",
    "        'pitchers': []\n",
    "    }\n",
    "    \n",
    "    for men in player_list[code][0]:\n",
    "        r = get_batter_info(men)\n",
    "        if r:\n",
    "            ret['batters'].append(r)\n",
    "    for men in player_list[code][1]:\n",
    "        r = get_pitcher_info(men)\n",
    "        if r:\n",
    "            ret['pitchers'].append(r)\n",
    "            \n",
    "    ret['batters'] = merge_dicts(ret['batters'])\n",
    "    ret['pitchers'] = merge_dicts(ret['pitchers'])\n",
    "    \n",
    "    return ret"
   ]
  },
  {
   "cell_type": "code",
   "execution_count": 21,
   "metadata": {},
   "outputs": [],
   "source": [
    "SS = get_players_in_team('SS')\n",
    "SSBatter = pd.DataFrame(SS['batters'])\n",
    "SSPitcher = pd.DataFrame(SS['pitchers'])"
   ]
  },
  {
   "cell_type": "code",
   "execution_count": 22,
   "metadata": {},
   "outputs": [],
   "source": [
    "NC = get_players_in_team('NC')\n",
    "NCBatter = pd.DataFrame(NC['batters'])\n",
    "NCPitcher = pd.DataFrame(NC['pitchers'])"
   ]
  },
  {
   "cell_type": "code",
   "execution_count": 24,
   "metadata": {},
   "outputs": [],
   "source": [
    "#WO = get_players_in_team('WO')\n",
    "#WOBatter = pd.DataFrame(WO['batters'])\n",
    "#WOPitcher = pd.DataFrame(WO['pitchers'])"
   ]
  },
  {
   "cell_type": "code",
   "execution_count": 25,
   "metadata": {},
   "outputs": [],
   "source": [
    "OB = get_players_in_team('OB')\n",
    "OBBatter = pd.DataFrame(OB['batters'])\n",
    "OBPitcher = pd.DataFrame(OB['pitchers'])"
   ]
  },
  {
   "cell_type": "code",
   "execution_count": 26,
   "metadata": {},
   "outputs": [],
   "source": [
    "\n",
    "SK = get_players_in_team('SK')\n",
    "SKBatter = pd.DataFrame  (SK['batters'])\n",
    "SKPitcher = pd.DataFrame (SK['pitchers'])"
   ]
  },
  {
   "cell_type": "code",
   "execution_count": 27,
   "metadata": {},
   "outputs": [],
   "source": [
    "LG = get_players_in_team('LG')\n",
    "LGBatter = pd.DataFrame  (LG['batters'])\n",
    "LGPitcher = pd.DataFrame (LG['pitchers'])"
   ]
  },
  {
   "cell_type": "code",
   "execution_count": 28,
   "metadata": {},
   "outputs": [],
   "source": [
    "LT = get_players_in_team('LT')\n",
    "LTBatter = pd.DataFrame  (LT['batters'])\n",
    "LTPitcher = pd.DataFrame (LT['pitchers'])"
   ]
  },
  {
   "cell_type": "code",
   "execution_count": 29,
   "metadata": {},
   "outputs": [],
   "source": [
    "HT = get_players_in_team('HT')\n",
    "HTBatter = pd.DataFrame  (HT['batters'])\n",
    "HTPitcher = pd.DataFrame (HT['pitchers'])"
   ]
  },
  {
   "cell_type": "code",
   "execution_count": 30,
   "metadata": {},
   "outputs": [],
   "source": [
    "HH = get_players_in_team('HH')\n",
    "HHBatter = pd.DataFrame  (HH['batters'])\n",
    "HHPitcher = pd.DataFrame (HH['pitchers'])"
   ]
  },
  {
   "cell_type": "code",
   "execution_count": 31,
   "metadata": {},
   "outputs": [],
   "source": [
    "KT = get_players_in_team('KT')\n",
    "KTBatter = pd.DataFrame  (KT['batters'])\n",
    "KTPitcher = pd.DataFrame (KT['pitchers'])"
   ]
  },
  {
   "cell_type": "code",
   "execution_count": 32,
   "metadata": {},
   "outputs": [],
   "source": [
    "\n",
    "LGBatter.to_csv('data/lg_batters.csv', encoding='utf-8', index=False)\n",
    "LGPitcher.to_csv('data/lg_pitchers.csv', encoding='utf-8', index=False)\n",
    "\n",
    "SKBatter.to_csv('data/sk_batters.csv', encoding='utf-8', index=False)\n",
    "SKPitcher.to_csv('data/sk_pitchers.csv', encoding='utf-8', index=False)\n",
    "\n",
    "LTBatter.to_csv('data/lt_batters.csv', encoding='utf-8', index=False)\n",
    "LTPitcher.to_csv('data/lt_pitchers.csv', encoding='utf-8', index=False)\n",
    "\n",
    "HTBatter.to_csv('data/kia_batters.csv', encoding='utf-8', index=False)\n",
    "HTPitcher.to_csv('data/kia_pitchers.csv', encoding='utf-8', index=False)\n",
    "\n",
    "HHBatter.to_csv('data/hh_batters.csv', encoding='utf-8', index=False)\n",
    "HHPitcher.to_csv('data/hh_pitchers.csv', encoding='utf-8', index=False)"
   ]
  },
  {
   "cell_type": "code",
   "execution_count": 33,
   "metadata": {},
   "outputs": [],
   "source": [
    "LGBatter.to_csv( 'data/lg_batters_windows.csv',   encoding='euc_kr', index=False)\n",
    "LGPitcher.to_csv('data/lg_pitchers_windows.csv',  encoding='euc_kr', index=False)\n",
    "\n",
    "SKBatter.to_csv( 'data/sk_batters_windows.csv',   encoding='euc_kr', index=False)\n",
    "SKPitcher.to_csv('data/sk_pitchers_windows.csv',  encoding='euc_kr', index=False)\n",
    "\n",
    "LTBatter.to_csv( 'data/lt_batters_windows.csv',   encoding='euc_kr', index=False)\n",
    "LTPitcher.to_csv('data/lt_pitchers_windows.csv',  encoding='euc_kr', index=False)\n",
    "\n",
    "HTBatter.to_csv( 'data/kia_batters_windows.csv',   encoding='euc_kr', index=False)\n",
    "HTPitcher.to_csv('data/kia_pitchers_windows.csv',  encoding='euc_kr', index=False)\n",
    "\n",
    "HHBatter.to_csv( 'data/hh_batters_windows.csv',   encoding='euc_kr', index=False)\n",
    "HHPitcher.to_csv('data/hh_pitchers_windows.csv',  encoding='euc_kr', index=False)"
   ]
  },
  {
   "cell_type": "code",
   "execution_count": 35,
   "metadata": {},
   "outputs": [],
   "source": [
    "SSBatter.to_csv('data/ss_batters.csv', encoding='utf-8', index=False)\n",
    "SSPitcher.to_csv('data/ss_pitchers.csv', encoding='utf-8', index=False)\n",
    "\n",
    "NCBatter.to_csv('data/nc_batters.csv', encoding='utf-8', index=False)\n",
    "NCPitcher.to_csv('data/nc_pitchers.csv', encoding='utf-8', index=False)\n",
    "\n",
    "#WOBatter.to_csv('data/nx_batters.csv', encoding='utf-8', index=False)\n",
    "#WOPitcher.to_csv('data/nx_pitchers.csv', encoding='utf-8', index=False)\n",
    "\n",
    "OBBatter.to_csv('data/ds_batters.csv', encoding='utf-8', index=False)\n",
    "OBPitcher.to_csv('data/ds_pitchers.csv', encoding='utf-8', index=False)\n",
    "\n",
    "KTBatter.to_csv('data/kt_batters.csv', encoding='utf-8', index=False)\n",
    "KTPitcher.to_csv('data/kt_pitchers.csv', encoding='utf-8', index=False)\n"
   ]
  },
  {
   "cell_type": "code",
   "execution_count": 37,
   "metadata": {},
   "outputs": [],
   "source": [
    "SSBatter.to_csv('data/ss_batters_windows.csv', encoding='euc-kr', index=False)\n",
    "SSPitcher.to_csv('data/ss_pitchers_windows.csv', encoding='euc-kr', index=False)\n",
    "\n",
    "NCBatter.to_csv('data/nc_batters_windows.csv', encoding='euc-kr', index=False)\n",
    "NCPitcher.to_csv('data/nc_pitchers_windows.csv', encoding='euc-kr', index=False)\n",
    "\n",
    "#WOBatter.to_csv('data/nx_batters_windows.csv', encoding='euc-kr', index=False)\n",
    "#WOPitcher.to_csv('data/nx_pitchers_windows.csv', encoding='euc-kr', index=False)\n",
    "\n",
    "OBBatter.to_csv('data/ds_batters_windows.csv', encoding='euc-kr', index=False)\n",
    "OBPitcher.to_csv('data/ds_pitchers_windows.csv', encoding='euc-kr', index=False)\n",
    "\n",
    "KTBatter.to_csv('data/kt_batters_windows.csv', encoding='euc-kr', index=False)\n",
    "KTPitcher.to_csv('data/kt_pitchers_windows.csv', encoding='euc-kr', index=False)\n",
    "\n"
   ]
  },
  {
   "cell_type": "markdown",
   "metadata": {},
   "source": [
    "팀별 승무패 가져오기"
   ]
  },
  {
   "cell_type": "code",
   "execution_count": 68,
   "metadata": {},
   "outputs": [],
   "source": [
    "\n",
    "soup = BeautifulSoup(requests.get('https://www.koreabaseball.com/TeamRank/TeamRank.aspx', headers=headers).text)"
   ]
  },
  {
   "cell_type": "code",
   "execution_count": 117,
   "metadata": {},
   "outputs": [],
   "source": [
    "WDLtable = soup.find_all('table', class_='tData')[-1]\n",
    "WDLhdr = WDLtable.find('thead').find_all('th')\n",
    "WDLrows = WDLtable.find('tbody').find_all('tr')"
   ]
  },
  {
   "cell_type": "code",
   "execution_count": 173,
   "metadata": {},
   "outputs": [],
   "source": [
    "\n",
    "teamseq = [x.text.split('(')[0] for x in WDLhdr][1:-1]"
   ]
  },
  {
   "cell_type": "code",
   "execution_count": 174,
   "metadata": {},
   "outputs": [
    {
     "name": "stdout",
     "output_type": "stream",
     "text": [
      "NC 두산 KT LG 키움 KIA 롯데 삼성 SK 한화\n"
     ]
    }
   ],
   "source": [
    "print \" \".join(teamseq)"
   ]
  },
  {
   "cell_type": "code",
   "execution_count": 171,
   "metadata": {},
   "outputs": [],
   "source": [
    "teams = ['ss', 'nx', 'nc', 'lg', 'sk', 'ds', 'lt', 'kia', 'hh','kt']"
   ]
  },
  {
   "cell_type": "code",
   "execution_count": 207,
   "metadata": {},
   "outputs": [],
   "source": [
    "from copy import deepcopy\n",
    "\n",
    "WDLtable = {team1: {team2: deepcopy({}) for team2 in teams if team1 != team2} for team1 in teams}\n",
    "\n",
    "i = 0; j = 0\n",
    "for row in WDLrows[:-1]:\n",
    "    j = 0\n",
    "    for col in row.find_all('td')[1:len(teamseq)]:\n",
    "        if i != j:\n",
    "            s = col.text.strip().split('-')\n",
    "            WDLtable[teams[i]][teams[j]]['W'] = int(s[0])\n",
    "            WDLtable[teams[i]][teams[j]]['L'] = int(s[1])\n",
    "            WDLtable[teams[i]][teams[j]]['D'] = int(s[2])\n",
    "        j += 1\n",
    "    i += 1  "
   ]
  },
  {
   "cell_type": "markdown",
   "metadata": {},
   "source": [
    "WDLtable['ds']['ss'] 이렇게 하면 두산의 삼성에 대한 승패무를 볼 수 있음(W/L/D):\n",
    "\n",
    "WDLtable['ds']['ss']['W'] : 승\n",
    "\n",
    "WDLtable['ds']['ss']['L'] : 패\n",
    "\n",
    "WDLtable['ds']['ss']['D'] : 무"
   ]
  },
  {
   "cell_type": "code",
   "execution_count": 208,
   "metadata": {},
   "outputs": [],
   "source": [
    "import json\n",
    "with open('data/WDL1.json', 'w') as fout:\n",
    "    print >> fout, json.dumps(WDLtable)"
   ]
  },
  {
   "cell_type": "code",
   "execution_count": 209,
   "metadata": {},
   "outputs": [],
   "source": [
    "WDL = pd.DataFrame(WDLtable)\n"
   ]
  },
  {
   "cell_type": "code",
   "execution_count": 210,
   "metadata": {},
   "outputs": [],
   "source": [
    "WDL.to_csv('data/WDL6.csv', encoding='utf-8', index=False)"
   ]
  },
  {
   "cell_type": "code",
   "execution_count": 44,
   "metadata": {},
   "outputs": [],
   "source": [
    "import json\n",
    "with open('data/WDL.csv', 'w') as fout:\n",
    "    print >> fout, json.dumps(WDLtable)"
   ]
  }
 ],
 "metadata": {
  "kernelspec": {
   "display_name": "Python 3",
   "language": "python",
   "name": "python3"
  },
  "language_info": {
   "codemirror_mode": {
    "name": "ipython",
    "version": 3
   },
   "file_extension": ".py",
   "mimetype": "text/x-python",
   "name": "python",
   "nbconvert_exporter": "python",
   "pygments_lexer": "ipython3",
   "version": "3.8.5"
  }
 },
 "nbformat": 4,
 "nbformat_minor": 4
}
