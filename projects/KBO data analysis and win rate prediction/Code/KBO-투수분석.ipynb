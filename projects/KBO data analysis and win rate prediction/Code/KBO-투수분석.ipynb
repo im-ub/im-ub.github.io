{
 "cells": [
  {
   "cell_type": "code",
   "execution_count": 83,
   "metadata": {},
   "outputs": [],
   "source": [
    "pitchers = read.csv('data/nc_pitchers.csv', stringsAsFactors=FALSE)"
   ]
  },
  {
   "cell_type": "code",
   "execution_count": 84,
   "metadata": {},
   "outputs": [],
   "source": [
    "pitchers_org = pitchers"
   ]
  },
  {
   "cell_type": "code",
   "execution_count": 85,
   "metadata": {},
   "outputs": [
    {
     "name": "stdout",
     "output_type": "stream",
     "text": [
      "'data.frame':\t40 obs. of  40 variables:\n",
      " $ X2루타           : num  6 7 12 6 9 8 0 27 12 10 ...\n",
      " $ X3루타           : num  0 0 0 0 2 2 0 2 3 1 ...\n",
      " $ 경기             : num  22 30 15 33 20 48 3 29 30 56 ...\n",
      " $ 경력             : chr  \"진북초-덕수중-유신고-두산-상무-두산\" \"서울이수초-서울경원중-장충고-히어로즈-넥센-상무-넥센\" \"천안남산초-덕수중-울산공고\" \"광주수창초-무등중-진흥고-넥센-상무-넥센\" ...\n",
      " $ 고의4구          : num  1 0 0 0 0 1 0 0 0 0 ...\n",
      " $ 등번호           : int  21 68 59 24 58 55 67 12 40 56 ...\n",
      " $ 보크             : num  0 0 0 0 2 0 0 2 0 0 ...\n",
      " $ 볼넷             : num  11 11 18 25 14 10 8 63 57 15 ...\n",
      " $ 블론세이브       : num  1 0 0 1 0 1 0 0 0 3 ...\n",
      " $ 삼진             : num  17 15 102 37 55 56 7 125 167 44 ...\n",
      " $ 생년월일         : chr  \"1992년 12월 18일\" \"1990년 07월 10일\" \"1997년 02월 17일\" \"1991년 10월 02일\" ...\n",
      " $ 선수명           : chr  \"강동연\" \"강윤구\" \"구창모\" \"김건태\" ...\n",
      " $ 세이브           : num  0 0 0 0 0 0 0 0 0 10 ...\n",
      " $ 승률             : num  0.333 0.5 1 0.5 0.5 1 0 0.55 0.792 0 ...\n",
      " $ 승리             : num  1 1 9 1 2 3 0 11 19 0 ...\n",
      " $ 신장.체중        : chr  \"195cm/94kg\" \"183cm/89kg\" \"183cm/85kg\" \"185cm/85kg\" ...\n",
      " $ 실점             : num  17 16 20 19 47 16 10 87 67 35 ...\n",
      " $ 연봉             : chr  \"3400만원\" \"15500만원\" \"18000만원\" \"9000만원\" ...\n",
      " $ 완봉             : num  0 0 0 0 0 0 0 0 0 0 ...\n",
      " $ 완투             : num  0 0 0 0 0 0 0 0 0 0 ...\n",
      " $ 이닝             : num  24 21 93.3 35 67.7 ...\n",
      " $ 이닝당.출루허용률: num  1.58 2 0.81 1.54 1.43 1.08 2.13 1.44 1.26 1.27 ...\n",
      " $ 입단.계약금      : chr  \"\" \"12000만원\" \"15000만원\" \"18000만원\" ...\n",
      " $ 입단년도         : chr  \"12두산\" \"09히어로즈\" \"15NC\" \"10넥센\" ...\n",
      " $ 자책점           : num  16 16 18 19 41 14 10 82 62 29 ...\n",
      " $ 지명순위         : chr  \"11 두산 육성선수\" \"09 히어로즈 1차\" \"15 NC 2차 1라운드 3순위\" \"10 넥센 1라운드 2순위\" ...\n",
      " $ 퀄리티스타트     : num  0 0 12 0 4 0 0 13 20 0 ...\n",
      " $ 타자수           : num  106 103 348 155 296 190 54 696 770 225 ...\n",
      " $ 투구수           : num  410 379 1378 674 1177 ...\n",
      " $ 팀명             : chr  \"NC\" \"NC\" \"NC\" \"NC\" ...\n",
      " $ 패배             : num  2 1 0 1 2 0 1 9 5 5 ...\n",
      " $ 평균자책점       : num  6 6.86 1.74 4.89 5.45 2.66 8.71 4.68 3.05 5.02 ...\n",
      " $ 포지션           : chr  \"투수(우투우타)\" \"투수(좌투좌타)\" \"투수(좌투좌타)\" \"투수(우투우타)\" ...\n",
      " $ 폭투             : num  0 2 2 3 5 2 1 5 11 0 ...\n",
      " $ 피안타           : num  27 31 58 29 83 41 14 164 173 51 ...\n",
      " $ 피안타율         : num  0.293 0.337 0.177 0.232 0.302 0.232 0.311 0.266 0.25 0.248 ...\n",
      " $ 홀드             : num  1 3 1 4 1 6 0 0 0 11 ...\n",
      " $ 홈런             : num  3 3 7 4 12 4 5 12 14 11 ...\n",
      " $ 희생번트         : num  1 0 2 2 1 1 0 5 10 0 ...\n",
      " $ 희생플라이       : num  1 0 1 1 4 2 0 1 1 2 ...\n"
     ]
    }
   ],
   "source": [
    "str(pitchers)"
   ]
  },
  {
   "cell_type": "code",
   "execution_count": 86,
   "metadata": {},
   "outputs": [
    {
     "data": {
      "text/html": [
       "1"
      ],
      "text/latex": [
       "1"
      ],
      "text/markdown": [
       "1"
      ],
      "text/plain": [
       "[1] 1"
      ]
     },
     "metadata": {},
     "output_type": "display_data"
    },
    {
     "data": {
      "text/html": [],
      "text/latex": [],
      "text/markdown": [],
      "text/plain": [
       "integer(0)"
      ]
     },
     "metadata": {},
     "output_type": "display_data"
    },
    {
     "data": {
      "text/html": [],
      "text/latex": [],
      "text/markdown": [],
      "text/plain": [
       "integer(0)"
      ]
     },
     "metadata": {},
     "output_type": "display_data"
    },
    {
     "data": {
      "text/html": [
       "1"
      ],
      "text/latex": [
       "1"
      ],
      "text/markdown": [
       "1"
      ],
      "text/plain": [
       "[1] 1"
      ]
     },
     "metadata": {},
     "output_type": "display_data"
    }
   ],
   "source": [
    "\n",
    "grep(\"달러\", \"50000달러\")\n",
    "grep(\"만원\", \"50000달러\")\n",
    "grep(\"달러\", \"5000만원\")\n",
    "grep(\"만원\", \"5000만원\")"
   ]
  },
  {
   "cell_type": "code",
   "execution_count": 87,
   "metadata": {},
   "outputs": [],
   "source": [
    "parseCurrency = function(item) {\n",
    "    if (length(grep('달러', item))) {\n",
    "        item = as.numeric(substr(item, 1, nchar(item)-2)) * 1130\n",
    "    } else if (length(grep('만원', item))) {\n",
    "        item = as.numeric(substr(item, 1, nchar(item)-2)) * 10000\n",
    "    } else {\n",
    "        item = as.numeric(item)\n",
    "    }\n",
    "    return(item)\n",
    "}"
   ]
  },
  {
   "cell_type": "code",
   "execution_count": 88,
   "metadata": {},
   "outputs": [
    {
     "name": "stdout",
     "output_type": "stream",
     "text": [
      " num [1:40] 3.40e+07 1.55e+08 1.80e+08 9.00e+07 6.30e+07 1.60e+08 2.70e+07 9.04e+08 1.13e+09 1.15e+08 ...\n"
     ]
    }
   ],
   "source": [
    "\n",
    "pitchers$연봉 = sapply(pitchers$연봉, parseCurrency)\n",
    "str(pitchers$연봉)"
   ]
  },
  {
   "cell_type": "code",
   "execution_count": 89,
   "metadata": {},
   "outputs": [],
   "source": [
    "parseAge = function(item) {\n",
    "    return(2020 - as.numeric(substr(item, 1, 4)))\n",
    "}\n",
    "pitchers$나이 = sapply(pitchers$생년월일, parseAge)"
   ]
  },
  {
   "cell_type": "code",
   "execution_count": 90,
   "metadata": {},
   "outputs": [
    {
     "data": {
      "text/plain": [
       "\n",
       "20 21 22 23 24 25 28 29 30 31 32 33 35 \n",
       " 4  2  2  3  2  2  4  2 10  1  2  2  4 "
      ]
     },
     "metadata": {},
     "output_type": "display_data"
    }
   ],
   "source": [
    "table(pitchers$나이)"
   ]
  },
  {
   "cell_type": "code",
   "execution_count": 91,
   "metadata": {},
   "outputs": [
    {
     "data": {
      "text/html": [
       "189"
      ],
      "text/latex": [
       "189"
      ],
      "text/markdown": [
       "189"
      ],
      "text/plain": [
       "[1] 189"
      ]
     },
     "metadata": {},
     "output_type": "display_data"
    },
    {
     "data": {
      "text/html": [
       "75"
      ],
      "text/latex": [
       "75"
      ],
      "text/markdown": [
       "75"
      ],
      "text/plain": [
       "[1] 75"
      ]
     },
     "metadata": {},
     "output_type": "display_data"
    }
   ],
   "source": [
    "weight = strsplit(\"189cm/75kg\", \"/\")[[1]][[1]]\n",
    "height = strsplit(\"189cm/75kg\", \"/\")[[1]][[2]]\n",
    "\n",
    "as.numeric(substr(weight, 1, nchar(weight)-2))\n",
    "as.numeric(substr(height, 1, nchar(height)-2))"
   ]
  },
  {
   "cell_type": "code",
   "execution_count": 92,
   "metadata": {},
   "outputs": [],
   "source": [
    "parseHeight = function(item) {\n",
    "    height = strsplit(item, \"/\")[[1]][[1]]\n",
    "    return(as.numeric(substr(height, 1, nchar(height)-2)))\n",
    "}\n",
    "parseWeight = function(item) {\n",
    "    weight = strsplit(item, \"/\")[[1]][[2]]\n",
    "    return(as.numeric(substr(weight, 1, nchar(weight)-2)))\n",
    "}"
   ]
  },
  {
   "cell_type": "code",
   "execution_count": 93,
   "metadata": {},
   "outputs": [
    {
     "name": "stdout",
     "output_type": "stream",
     "text": [
      " num [1:40] 195 183 183 185 188 186 183 198 188 186 ...\n",
      " num [1:40] 94 89 85 85 86 92 90 97 91 85 ...\n"
     ]
    }
   ],
   "source": [
    "pitchers$신장 = sapply(pitchers$신장.체중, parseHeight)\n",
    "pitchers$체중 = sapply(pitchers$신장.체중, parseWeight)\n",
    "str(pitchers$신장)\n",
    "str(pitchers$체중)"
   ]
  },
  {
   "cell_type": "code",
   "execution_count": 94,
   "metadata": {},
   "outputs": [],
   "source": [
    "\n",
    "drops = c('등번호')\n",
    "pitchers = pitchers[, !(names(pitchers) %in% drops)]"
   ]
  },
  {
   "cell_type": "markdown",
   "metadata": {},
   "source": [
    "non-numeric 데이터 제거, normalization, nan 제거"
   ]
  },
  {
   "cell_type": "code",
   "execution_count": 95,
   "metadata": {},
   "outputs": [],
   "source": [
    "normalize = function(x) {\n",
    "    (x - min(x)) / (max(x) - min(x))\n",
    "}"
   ]
  },
  {
   "cell_type": "code",
   "execution_count": 96,
   "metadata": {},
   "outputs": [
    {
     "name": "stdout",
     "output_type": "stream",
     "text": [
      "'data.frame':\t40 obs. of  31 variables:\n",
      " $ X2루타           : num  0.222 0.259 0.444 0.222 0.333 ...\n",
      " $ X3루타           : num  0 0 0 0 0.667 ...\n",
      " $ 경기             : num  0.288 0.409 0.182 0.455 0.258 ...\n",
      " $ 고의4구          : num  0.333 0 0 0 0 ...\n",
      " $ 보크             : num  0 0 0 0 1 0 0 1 0 0 ...\n",
      " $ 볼넷             : num  0.0877 0.0877 0.2105 0.3333 0.1404 ...\n",
      " $ 블론세이브       : num  0.167 0 0 0.167 0 ...\n",
      " $ 삼진             : num  0.0625 0.05 0.5938 0.1875 0.3 ...\n",
      " $ 세이브           : num  0 0 0 0 0 ...\n",
      " $ 승률             : num  0.333 0.5 1 0.5 0.5 1 0 0.55 0.792 0 ...\n",
      " $ 승리             : num  0.0526 0.0526 0.4737 0.0526 0.1053 ...\n",
      " $ 실점             : num  0.157 0.145 0.193 0.181 0.518 ...\n",
      " $ 연봉             : num  0.00635 0.11605 0.13871 0.05712 0.03264 ...\n",
      " $ 이닝             : num  0.0792 0.0618 0.4807 0.1429 0.332 ...\n",
      " $ 이닝당.출루허용률: num  0.583 0.902 0 0.553 0.47 ...\n",
      " $ 자책점           : num  0.165 0.165 0.19 0.203 0.481 ...\n",
      " $ 퀄리티스타트     : num  0 0 0.6 0 0.2 0 0 0.65 1 0 ...\n",
      " $ 타자수           : num  0.0726 0.0684 0.4106 0.1411 0.338 ...\n",
      " $ 투구수           : num  0.077 0.0659 0.4218 0.171 0.3502 ...\n",
      " $ 패배             : num  0.222 0.111 0 0.111 0.222 ...\n",
      " $ 평균자책점       : num  0.6467 0.7588 0.0913 0.502 0.575 ...\n",
      " $ 폭투             : num  0 0.182 0.182 0.273 0.455 ...\n",
      " $ 피안타           : num  0.0818 0.1069 0.2767 0.0943 0.434 ...\n",
      " $ 피안타율         : num  0.725 1 0 0.344 0.781 ...\n",
      " $ 홀드             : num  0.0455 0.1364 0.0455 0.1818 0.0455 ...\n",
      " $ 홈런             : num  0.0833 0.0833 0.4167 0.1667 0.8333 ...\n",
      " $ 희생번트         : num  0.1 0 0.2 0.2 0.1 0.1 0 0.5 1 0 ...\n",
      " $ 희생플라이       : num  0.2 0 0.2 0.2 0.8 0.4 0 0.2 0.2 0.4 ...\n",
      " $ 나이             : num  0.533 0.667 0.2 0.6 0 ...\n",
      " $ 신장             : num  0.85 0.25 0.25 0.35 0.5 0.4 0.25 1 0.5 0.4 ...\n",
      " $ 체중             : num  0.87 0.652 0.478 0.478 0.522 ...\n"
     ]
    }
   ],
   "source": [
    "pitchers[, sapply(pitchers, is.numeric)] = lapply(pitchers[, sapply(pitchers, is.numeric)], normalize)\n",
    "pitchers = pitchers[, sapply(pitchers, is.numeric)]\n",
    "pitchers = pitchers[!sapply(pitchers, function(x) { all(is.nan(x)) })]\n",
    "str(pitchers)"
   ]
  },
  {
   "cell_type": "markdown",
   "metadata": {},
   "source": [
    "## 상관관계 분석"
   ]
  },
  {
   "cell_type": "code",
   "execution_count": 97,
   "metadata": {},
   "outputs": [],
   "source": [
    "library(reshape2)"
   ]
  },
  {
   "cell_type": "code",
   "execution_count": 98,
   "metadata": {},
   "outputs": [
    {
     "data": {
      "text/html": [
       "<table>\n",
       "<thead><tr><th></th><th scope=col>Var1</th><th scope=col>Var2</th><th scope=col>value</th></tr></thead>\n",
       "<tbody>\n",
       "\t<tr><th scope=row>318</th><td>삼진             </td><td>승리             </td><td>0.9341190        </td></tr>\n",
       "\t<tr><th scope=row>342</th><td>X2루타           </td><td>실점             </td><td>0.8611970        </td></tr>\n",
       "\t<tr><th scope=row>347</th><td>볼넷             </td><td>실점             </td><td>0.8346771        </td></tr>\n",
       "\t<tr><th scope=row>380</th><td>삼진             </td><td>연봉             </td><td>0.8535757        </td></tr>\n",
       "\t<tr><th scope=row>383</th><td>승리             </td><td>연봉             </td><td>0.8281693        </td></tr>\n",
       "\t<tr><th scope=row>409</th><td>볼넷             </td><td>이닝             </td><td>0.8413149        </td></tr>\n",
       "\t<tr><th scope=row>411</th><td>삼진             </td><td>이닝             </td><td>0.9639438        </td></tr>\n",
       "\t<tr><th scope=row>414</th><td>승리             </td><td>이닝             </td><td>0.9044872        </td></tr>\n",
       "\t<tr><th scope=row>415</th><td>실점             </td><td>이닝             </td><td>0.8573925        </td></tr>\n",
       "\t<tr><th scope=row>416</th><td>연봉             </td><td>이닝             </td><td>0.8830119        </td></tr>\n",
       "\t<tr><th scope=row>466</th><td>X2루타           </td><td>자책점           </td><td>0.8695728        </td></tr>\n",
       "\t<tr><th scope=row>471</th><td>볼넷             </td><td>자책점           </td><td>0.8464922        </td></tr>\n",
       "\t<tr><th scope=row>477</th><td>실점             </td><td>자책점           </td><td>0.9956416        </td></tr>\n",
       "\t<tr><th scope=row>479</th><td>이닝             </td><td>자책점           </td><td>0.8495137        </td></tr>\n",
       "\t<tr><th scope=row>504</th><td>삼진             </td><td>퀄리티스타트     </td><td>0.9383989        </td></tr>\n",
       "\t<tr><th scope=row>507</th><td>승리             </td><td>퀄리티스타트     </td><td>0.8906860        </td></tr>\n",
       "\t<tr><th scope=row>509</th><td>연봉             </td><td>퀄리티스타트     </td><td>0.8609592        </td></tr>\n",
       "\t<tr><th scope=row>510</th><td>이닝             </td><td>퀄리티스타트     </td><td>0.9263294        </td></tr>\n",
       "\t<tr><th scope=row>533</th><td>볼넷             </td><td>타자수           </td><td>0.8706059        </td></tr>\n",
       "\t<tr><th scope=row>535</th><td>삼진             </td><td>타자수           </td><td>0.9435008        </td></tr>\n",
       "\t<tr><th scope=row>538</th><td>승리             </td><td>타자수           </td><td>0.8883484        </td></tr>\n",
       "\t<tr><th scope=row>539</th><td>실점             </td><td>타자수           </td><td>0.8917885        </td></tr>\n",
       "\t<tr><th scope=row>540</th><td>연봉             </td><td>타자수           </td><td>0.8909811        </td></tr>\n",
       "\t<tr><th scope=row>541</th><td>이닝             </td><td>타자수           </td><td>0.9960019        </td></tr>\n",
       "\t<tr><th scope=row>543</th><td>자책점           </td><td>타자수           </td><td>0.8848785        </td></tr>\n",
       "\t<tr><th scope=row>544</th><td>퀄리티스타트     </td><td>타자수           </td><td>0.9061833        </td></tr>\n",
       "\t<tr><th scope=row>564</th><td>볼넷             </td><td>투구수           </td><td>0.8787559        </td></tr>\n",
       "\t<tr><th scope=row>566</th><td>삼진             </td><td>투구수           </td><td>0.9455615        </td></tr>\n",
       "\t<tr><th scope=row>569</th><td>승리             </td><td>투구수           </td><td>0.8863120        </td></tr>\n",
       "\t<tr><th scope=row>570</th><td>실점             </td><td>투구수           </td><td>0.8897375        </td></tr>\n",
       "\t<tr><th scope=row>571</th><td>연봉             </td><td>투구수           </td><td>0.8830145        </td></tr>\n",
       "\t<tr><th scope=row>572</th><td>이닝             </td><td>투구수           </td><td>0.9949554        </td></tr>\n",
       "\t<tr><th scope=row>574</th><td>자책점           </td><td>투구수           </td><td>0.8831720        </td></tr>\n",
       "\t<tr><th scope=row>575</th><td>퀄리티스타트     </td><td>투구수           </td><td>0.9043571        </td></tr>\n",
       "\t<tr><th scope=row>576</th><td>타자수           </td><td>투구수           </td><td>0.9986232        </td></tr>\n",
       "\t<tr><th scope=row>601</th><td>실점             </td><td>패배             </td><td>0.8708077        </td></tr>\n",
       "\t<tr><th scope=row>605</th><td>자책점           </td><td>패배             </td><td>0.8667281        </td></tr>\n",
       "\t<tr><th scope=row>635</th><td>이닝당.출루허용률</td><td>평균자책점       </td><td>0.8858875        </td></tr>\n",
       "\t<tr><th scope=row>688</th><td>볼넷             </td><td>피안타           </td><td>0.8389182        </td></tr>\n",
       "\t<tr><th scope=row>690</th><td>삼진             </td><td>피안타           </td><td>0.8806592        </td></tr>\n",
       "\t<tr><th scope=row>693</th><td>승리             </td><td>피안타           </td><td>0.8282313        </td></tr>\n",
       "\t<tr><th scope=row>694</th><td>실점             </td><td>피안타           </td><td>0.9416501        </td></tr>\n",
       "\t<tr><th scope=row>695</th><td>연봉             </td><td>피안타           </td><td>0.8767571        </td></tr>\n",
       "\t<tr><th scope=row>696</th><td>이닝             </td><td>피안타           </td><td>0.9648525        </td></tr>\n",
       "\t<tr><th scope=row>698</th><td>자책점           </td><td>피안타           </td><td>0.9364695        </td></tr>\n",
       "\t<tr><th scope=row>699</th><td>퀄리티스타트     </td><td>피안타           </td><td>0.8609212        </td></tr>\n",
       "\t<tr><th scope=row>700</th><td>타자수           </td><td>피안타           </td><td>0.9801253        </td></tr>\n",
       "\t<tr><th scope=row>701</th><td>투구수           </td><td>피안타           </td><td>0.9749800        </td></tr>\n",
       "\t<tr><th scope=row>734</th><td>평균자책점       </td><td>피안타율         </td><td>0.8191486        </td></tr>\n",
       "\t<tr><th scope=row>791</th><td>자책점           </td><td>홈런             </td><td>0.8019161        </td></tr>\n",
       "\t<tr><th scope=row>817</th><td>승리             </td><td>희생번트         </td><td>0.8177227        </td></tr>\n",
       "\t<tr><th scope=row>828</th><td>폭투             </td><td>희생번트         </td><td>0.8001657        </td></tr>\n",
       "</tbody>\n",
       "</table>\n"
      ],
      "text/latex": [
       "\\begin{tabular}{r|lll}\n",
       "  & Var1 & Var2 & value\\\\\n",
       "\\hline\n",
       "\t318 & 삼진              & 승리              & 0.9341190        \\\\\n",
       "\t342 & X2루타            & 실점              & 0.8611970        \\\\\n",
       "\t347 & 볼넷              & 실점              & 0.8346771        \\\\\n",
       "\t380 & 삼진              & 연봉              & 0.8535757        \\\\\n",
       "\t383 & 승리              & 연봉              & 0.8281693        \\\\\n",
       "\t409 & 볼넷              & 이닝              & 0.8413149        \\\\\n",
       "\t411 & 삼진              & 이닝              & 0.9639438        \\\\\n",
       "\t414 & 승리              & 이닝              & 0.9044872        \\\\\n",
       "\t415 & 실점              & 이닝              & 0.8573925        \\\\\n",
       "\t416 & 연봉              & 이닝              & 0.8830119        \\\\\n",
       "\t466 & X2루타            & 자책점            & 0.8695728        \\\\\n",
       "\t471 & 볼넷              & 자책점            & 0.8464922        \\\\\n",
       "\t477 & 실점              & 자책점            & 0.9956416        \\\\\n",
       "\t479 & 이닝              & 자책점            & 0.8495137        \\\\\n",
       "\t504 & 삼진              & 퀄리티스타트      & 0.9383989        \\\\\n",
       "\t507 & 승리              & 퀄리티스타트      & 0.8906860        \\\\\n",
       "\t509 & 연봉              & 퀄리티스타트      & 0.8609592        \\\\\n",
       "\t510 & 이닝              & 퀄리티스타트      & 0.9263294        \\\\\n",
       "\t533 & 볼넷              & 타자수            & 0.8706059        \\\\\n",
       "\t535 & 삼진              & 타자수            & 0.9435008        \\\\\n",
       "\t538 & 승리              & 타자수            & 0.8883484        \\\\\n",
       "\t539 & 실점              & 타자수            & 0.8917885        \\\\\n",
       "\t540 & 연봉              & 타자수            & 0.8909811        \\\\\n",
       "\t541 & 이닝              & 타자수            & 0.9960019        \\\\\n",
       "\t543 & 자책점            & 타자수            & 0.8848785        \\\\\n",
       "\t544 & 퀄리티스타트      & 타자수            & 0.9061833        \\\\\n",
       "\t564 & 볼넷              & 투구수            & 0.8787559        \\\\\n",
       "\t566 & 삼진              & 투구수            & 0.9455615        \\\\\n",
       "\t569 & 승리              & 투구수            & 0.8863120        \\\\\n",
       "\t570 & 실점              & 투구수            & 0.8897375        \\\\\n",
       "\t571 & 연봉              & 투구수            & 0.8830145        \\\\\n",
       "\t572 & 이닝              & 투구수            & 0.9949554        \\\\\n",
       "\t574 & 자책점            & 투구수            & 0.8831720        \\\\\n",
       "\t575 & 퀄리티스타트      & 투구수            & 0.9043571        \\\\\n",
       "\t576 & 타자수            & 투구수            & 0.9986232        \\\\\n",
       "\t601 & 실점              & 패배              & 0.8708077        \\\\\n",
       "\t605 & 자책점            & 패배              & 0.8667281        \\\\\n",
       "\t635 & 이닝당.출루허용률 & 평균자책점        & 0.8858875        \\\\\n",
       "\t688 & 볼넷              & 피안타            & 0.8389182        \\\\\n",
       "\t690 & 삼진              & 피안타            & 0.8806592        \\\\\n",
       "\t693 & 승리              & 피안타            & 0.8282313        \\\\\n",
       "\t694 & 실점              & 피안타            & 0.9416501        \\\\\n",
       "\t695 & 연봉              & 피안타            & 0.8767571        \\\\\n",
       "\t696 & 이닝              & 피안타            & 0.9648525        \\\\\n",
       "\t698 & 자책점            & 피안타            & 0.9364695        \\\\\n",
       "\t699 & 퀄리티스타트      & 피안타            & 0.8609212        \\\\\n",
       "\t700 & 타자수            & 피안타            & 0.9801253        \\\\\n",
       "\t701 & 투구수            & 피안타            & 0.9749800        \\\\\n",
       "\t734 & 평균자책점        & 피안타율          & 0.8191486        \\\\\n",
       "\t791 & 자책점            & 홈런              & 0.8019161        \\\\\n",
       "\t817 & 승리              & 희생번트          & 0.8177227        \\\\\n",
       "\t828 & 폭투              & 희생번트          & 0.8001657        \\\\\n",
       "\\end{tabular}\n"
      ],
      "text/markdown": [
       "\n",
       "| <!--/--> | Var1 | Var2 | value |\n",
       "|---|---|---|---|\n",
       "| 318 | 삼진              | 승리              | 0.9341190         |\n",
       "| 342 | X2루타            | 실점              | 0.8611970         |\n",
       "| 347 | 볼넷              | 실점              | 0.8346771         |\n",
       "| 380 | 삼진              | 연봉              | 0.8535757         |\n",
       "| 383 | 승리              | 연봉              | 0.8281693         |\n",
       "| 409 | 볼넷              | 이닝              | 0.8413149         |\n",
       "| 411 | 삼진              | 이닝              | 0.9639438         |\n",
       "| 414 | 승리              | 이닝              | 0.9044872         |\n",
       "| 415 | 실점              | 이닝              | 0.8573925         |\n",
       "| 416 | 연봉              | 이닝              | 0.8830119         |\n",
       "| 466 | X2루타            | 자책점            | 0.8695728         |\n",
       "| 471 | 볼넷              | 자책점            | 0.8464922         |\n",
       "| 477 | 실점              | 자책점            | 0.9956416         |\n",
       "| 479 | 이닝              | 자책점            | 0.8495137         |\n",
       "| 504 | 삼진              | 퀄리티스타트      | 0.9383989         |\n",
       "| 507 | 승리              | 퀄리티스타트      | 0.8906860         |\n",
       "| 509 | 연봉              | 퀄리티스타트      | 0.8609592         |\n",
       "| 510 | 이닝              | 퀄리티스타트      | 0.9263294         |\n",
       "| 533 | 볼넷              | 타자수            | 0.8706059         |\n",
       "| 535 | 삼진              | 타자수            | 0.9435008         |\n",
       "| 538 | 승리              | 타자수            | 0.8883484         |\n",
       "| 539 | 실점              | 타자수            | 0.8917885         |\n",
       "| 540 | 연봉              | 타자수            | 0.8909811         |\n",
       "| 541 | 이닝              | 타자수            | 0.9960019         |\n",
       "| 543 | 자책점            | 타자수            | 0.8848785         |\n",
       "| 544 | 퀄리티스타트      | 타자수            | 0.9061833         |\n",
       "| 564 | 볼넷              | 투구수            | 0.8787559         |\n",
       "| 566 | 삼진              | 투구수            | 0.9455615         |\n",
       "| 569 | 승리              | 투구수            | 0.8863120         |\n",
       "| 570 | 실점              | 투구수            | 0.8897375         |\n",
       "| 571 | 연봉              | 투구수            | 0.8830145         |\n",
       "| 572 | 이닝              | 투구수            | 0.9949554         |\n",
       "| 574 | 자책점            | 투구수            | 0.8831720         |\n",
       "| 575 | 퀄리티스타트      | 투구수            | 0.9043571         |\n",
       "| 576 | 타자수            | 투구수            | 0.9986232         |\n",
       "| 601 | 실점              | 패배              | 0.8708077         |\n",
       "| 605 | 자책점            | 패배              | 0.8667281         |\n",
       "| 635 | 이닝당.출루허용률 | 평균자책점        | 0.8858875         |\n",
       "| 688 | 볼넷              | 피안타            | 0.8389182         |\n",
       "| 690 | 삼진              | 피안타            | 0.8806592         |\n",
       "| 693 | 승리              | 피안타            | 0.8282313         |\n",
       "| 694 | 실점              | 피안타            | 0.9416501         |\n",
       "| 695 | 연봉              | 피안타            | 0.8767571         |\n",
       "| 696 | 이닝              | 피안타            | 0.9648525         |\n",
       "| 698 | 자책점            | 피안타            | 0.9364695         |\n",
       "| 699 | 퀄리티스타트      | 피안타            | 0.8609212         |\n",
       "| 700 | 타자수            | 피안타            | 0.9801253         |\n",
       "| 701 | 투구수            | 피안타            | 0.9749800         |\n",
       "| 734 | 평균자책점        | 피안타율          | 0.8191486         |\n",
       "| 791 | 자책점            | 홈런              | 0.8019161         |\n",
       "| 817 | 승리              | 희생번트          | 0.8177227         |\n",
       "| 828 | 폭투              | 희생번트          | 0.8001657         |\n",
       "\n"
      ],
      "text/plain": [
       "    Var1              Var2         value    \n",
       "318 삼진              승리         0.9341190\n",
       "342 X2루타            실점         0.8611970\n",
       "347 볼넷              실점         0.8346771\n",
       "380 삼진              연봉         0.8535757\n",
       "383 승리              연봉         0.8281693\n",
       "409 볼넷              이닝         0.8413149\n",
       "411 삼진              이닝         0.9639438\n",
       "414 승리              이닝         0.9044872\n",
       "415 실점              이닝         0.8573925\n",
       "416 연봉              이닝         0.8830119\n",
       "466 X2루타            자책점       0.8695728\n",
       "471 볼넷              자책점       0.8464922\n",
       "477 실점              자책점       0.9956416\n",
       "479 이닝              자책점       0.8495137\n",
       "504 삼진              퀄리티스타트 0.9383989\n",
       "507 승리              퀄리티스타트 0.8906860\n",
       "509 연봉              퀄리티스타트 0.8609592\n",
       "510 이닝              퀄리티스타트 0.9263294\n",
       "533 볼넷              타자수       0.8706059\n",
       "535 삼진              타자수       0.9435008\n",
       "538 승리              타자수       0.8883484\n",
       "539 실점              타자수       0.8917885\n",
       "540 연봉              타자수       0.8909811\n",
       "541 이닝              타자수       0.9960019\n",
       "543 자책점            타자수       0.8848785\n",
       "544 퀄리티스타트      타자수       0.9061833\n",
       "564 볼넷              투구수       0.8787559\n",
       "566 삼진              투구수       0.9455615\n",
       "569 승리              투구수       0.8863120\n",
       "570 실점              투구수       0.8897375\n",
       "571 연봉              투구수       0.8830145\n",
       "572 이닝              투구수       0.9949554\n",
       "574 자책점            투구수       0.8831720\n",
       "575 퀄리티스타트      투구수       0.9043571\n",
       "576 타자수            투구수       0.9986232\n",
       "601 실점              패배         0.8708077\n",
       "605 자책점            패배         0.8667281\n",
       "635 이닝당.출루허용률 평균자책점   0.8858875\n",
       "688 볼넷              피안타       0.8389182\n",
       "690 삼진              피안타       0.8806592\n",
       "693 승리              피안타       0.8282313\n",
       "694 실점              피안타       0.9416501\n",
       "695 연봉              피안타       0.8767571\n",
       "696 이닝              피안타       0.9648525\n",
       "698 자책점            피안타       0.9364695\n",
       "699 퀄리티스타트      피안타       0.8609212\n",
       "700 타자수            피안타       0.9801253\n",
       "701 투구수            피안타       0.9749800\n",
       "734 평균자책점        피안타율     0.8191486\n",
       "791 자책점            홈런         0.8019161\n",
       "817 승리              희생번트     0.8177227\n",
       "828 폭투              희생번트     0.8001657"
      ]
     },
     "metadata": {},
     "output_type": "display_data"
    },
    {
     "data": {
      "text/html": [
       "<table>\n",
       "<thead><tr><th scope=col>Var1</th><th scope=col>Var2</th><th scope=col>value</th></tr></thead>\n",
       "<tbody>\n",
       "</tbody>\n",
       "</table>\n"
      ],
      "text/latex": [
       "\\begin{tabular}{r|lll}\n",
       " Var1 & Var2 & value\\\\\n",
       "\\hline\n",
       "\\end{tabular}\n"
      ],
      "text/markdown": [
       "\n",
       "| Var1 | Var2 | value |\n",
       "|---|---|---|\n",
       "\n"
      ],
      "text/plain": [
       "     Var1 Var2 value"
      ]
     },
     "metadata": {},
     "output_type": "display_data"
    }
   ],
   "source": [
    "\n",
    "CM = cor(pitchers)\n",
    "CM[lower.tri(CM, diag = TRUE)] = NA\n",
    "subset(melt(CM, na.rm = TRUE), value >= .80)\n",
    "subset(melt(CM, na.rm = TRUE), value <= -.80)"
   ]
  },
  {
   "cell_type": "markdown",
   "metadata": {},
   "source": [
    "## 다중회귀분석"
   ]
  },
  {
   "cell_type": "code",
   "execution_count": 99,
   "metadata": {},
   "outputs": [],
   "source": [
    "salary_model = lm(연봉 ~ ., data=pitchers)"
   ]
  },
  {
   "cell_type": "code",
   "execution_count": 100,
   "metadata": {},
   "outputs": [
    {
     "data": {
      "text/plain": [
       "\n",
       "Call:\n",
       "lm(formula = 연봉 ~ ., data = pitchers)\n",
       "\n",
       "Residuals:\n",
       "       Min         1Q     Median         3Q        Max \n",
       "-5.113e-15 -6.777e-16  0.000e+00  6.777e-16  5.113e-15 \n",
       "\n",
       "Coefficients: (10 not defined because of singularities)\n",
       "                    Estimate Std. Error    t value Pr(>|t|)    \n",
       "(Intercept)        2.234e+00  4.538e-14  4.923e+13   <2e-16 ***\n",
       "X2루타             2.183e+00  3.206e-14  6.810e+13   <2e-16 ***\n",
       "X3루타            -6.852e-01  1.887e-14 -3.630e+13   <2e-16 ***\n",
       "경기               6.664e-01  7.288e-15  9.144e+13   <2e-16 ***\n",
       "고의4구            3.718e+00  5.770e-14  6.443e+13   <2e-16 ***\n",
       "보크              -6.906e-01  6.544e-15 -1.055e+14   <2e-16 ***\n",
       "볼넷              -1.335e+00  1.640e-14 -8.141e+13   <2e-16 ***\n",
       "블론세이브        -5.110e+00  8.360e-14 -6.112e+13   <2e-16 ***\n",
       "삼진               6.648e+00  1.308e-13  5.082e+13   <2e-16 ***\n",
       "세이브             5.067e+00  7.558e-14  6.704e+13   <2e-16 ***\n",
       "승률              -3.982e+00  7.296e-14 -5.458e+13   <2e-16 ***\n",
       "승리              -7.021e-01  1.667e-14 -4.210e+13   <2e-16 ***\n",
       "실점              -3.176e+00  5.243e-14 -6.057e+13   <2e-16 ***\n",
       "이닝              -2.258e+01  2.560e-13 -8.823e+13   <2e-16 ***\n",
       "이닝당.출루허용률  2.313e+00  4.984e-14  4.640e+13   <2e-16 ***\n",
       "자책점             6.335e+00  9.559e-14  6.628e+13   <2e-16 ***\n",
       "퀄리티스타트      -4.757e-01  3.960e-14 -1.201e+13   <2e-16 ***\n",
       "타자수             1.456e+01  2.688e-13  5.416e+13   <2e-16 ***\n",
       "투구수             5.756e+00  1.050e-13  5.484e+13   <2e-16 ***\n",
       "패배              -4.722e+00  8.201e-14 -5.758e+13   <2e-16 ***\n",
       "평균자책점        -4.307e+00  8.920e-14 -4.829e+13   <2e-16 ***\n",
       "폭투                      NA         NA         NA       NA    \n",
       "피안타                    NA         NA         NA       NA    \n",
       "피안타율                  NA         NA         NA       NA    \n",
       "홀드                      NA         NA         NA       NA    \n",
       "홈런                      NA         NA         NA       NA    \n",
       "희생번트                  NA         NA         NA       NA    \n",
       "희생플라이                NA         NA         NA       NA    \n",
       "나이                      NA         NA         NA       NA    \n",
       "신장                      NA         NA         NA       NA    \n",
       "체중                      NA         NA         NA       NA    \n",
       "---\n",
       "Signif. codes:  0 '***' 0.001 '**' 0.01 '*' 0.05 '.' 0.1 ' ' 1\n",
       "\n",
       "Residual standard error: 1.928e-15 on 19 degrees of freedom\n",
       "Multiple R-squared:      1,\tAdjusted R-squared:      1 \n",
       "F-statistic: 3.521e+28 on 20 and 19 DF,  p-value: < 2.2e-16\n"
      ]
     },
     "metadata": {},
     "output_type": "display_data"
    }
   ],
   "source": [
    "summary(salary_model)"
   ]
  },
  {
   "cell_type": "markdown",
   "metadata": {},
   "source": [
    "## PCA 분석"
   ]
  },
  {
   "cell_type": "code",
   "execution_count": 101,
   "metadata": {},
   "outputs": [
    {
     "data": {
      "text/plain": [
       "Importance of components:\n",
       "                          PC1    PC2    PC3     PC4     PC5     PC6     PC7\n",
       "Standard deviation     3.6052 2.0878 1.7710 1.44304 1.24700 1.17274 1.07633\n",
       "Proportion of Variance 0.4332 0.1453 0.1046 0.06941 0.05183 0.04584 0.03862\n",
       "Cumulative Proportion  0.4332 0.5785 0.6831 0.75250 0.80433 0.85018 0.88879\n",
       "                           PC8     PC9    PC10    PC11    PC12    PC13   PC14\n",
       "Standard deviation     0.90752 0.84022 0.75488 0.59138 0.52099 0.46703 0.3836\n",
       "Proportion of Variance 0.02745 0.02353 0.01899 0.01166 0.00905 0.00727 0.0049\n",
       "Cumulative Proportion  0.91625 0.93978 0.95877 0.97043 0.97948 0.98675 0.9917\n",
       "                         PC15   PC16    PC17    PC18    PC19    PC20      PC21\n",
       "Standard deviation     0.3195 0.2681 0.23471 0.10801 0.08005 0.05716 2.807e-16\n",
       "Proportion of Variance 0.0034 0.0024 0.00184 0.00039 0.00021 0.00011 0.000e+00\n",
       "Cumulative Proportion  0.9951 0.9974 0.99929 0.99968 0.99989 1.00000 1.000e+00\n",
       "                            PC22      PC23      PC24      PC25      PC26\n",
       "Standard deviation     2.807e-16 2.807e-16 2.807e-16 2.807e-16 2.807e-16\n",
       "Proportion of Variance 0.000e+00 0.000e+00 0.000e+00 0.000e+00 0.000e+00\n",
       "Cumulative Proportion  1.000e+00 1.000e+00 1.000e+00 1.000e+00 1.000e+00\n",
       "                            PC27      PC28      PC29      PC30\n",
       "Standard deviation     2.807e-16 2.807e-16 2.807e-16 1.072e-16\n",
       "Proportion of Variance 0.000e+00 0.000e+00 0.000e+00 0.000e+00\n",
       "Cumulative Proportion  1.000e+00 1.000e+00 1.000e+00 1.000e+00"
      ]
     },
     "metadata": {},
     "output_type": "display_data"
    }
   ],
   "source": [
    "pitchers_pca = prcomp(pitchers[,!(names(pitchers) == c('연봉'))], center=TRUE, scale=TRUE)\n",
    "summary(pitchers_pca)"
   ]
  },
  {
   "cell_type": "code",
   "execution_count": 102,
   "metadata": {
    "scrolled": false
   },
   "outputs": [
    {
     "data": {
      "image/png": "[encoded data removed]",
      "text/plain": [
       "Plot with title \"pitchers_pca\""
      ]
     },
     "metadata": {},
     "output_type": "display_data"
    }
   ],
   "source": [
    "plot(pitchers_pca, type = \"l\")"
   ]
  },
  {
   "cell_type": "markdown",
   "metadata": {},
   "source": [
    "각 Principal Component에 따른 데이터의 분산을 그려보았다(분산이 클수록 해당 주성분이 데이터의 분포를 많이 설명한다는 뜻이다)."
   ]
  },
  {
   "cell_type": "code",
   "execution_count": 103,
   "metadata": {},
   "outputs": [],
   "source": [
    "library(devtools)"
   ]
  },
  {
   "cell_type": "code",
   "execution_count": 29,
   "metadata": {},
   "outputs": [
    {
     "name": "stderr",
     "output_type": "stream",
     "text": [
      "also installing the dependencies 'memoise', 'git2r'\n",
      "\n",
      "Warning message:\n",
      "\"unable to access index for repository http://cran.nexr.com/bin/windows/contrib/3.6:\n",
      "  URL 'http://cran.nexr.com/bin/windows/contrib/3.6/PACKAGES'를 열 수 없습니다\"Packages which are only available in source form, and may need\n",
      "  compilation of C/C++/Fortran: 'git2r' 'devtools'\n"
     ]
    },
    {
     "name": "stdout",
     "output_type": "stream",
     "text": [
      "  These will not be installed\n"
     ]
    },
    {
     "name": "stderr",
     "output_type": "stream",
     "text": [
      "installing the source package 'memoise'\n",
      "\n"
     ]
    }
   ],
   "source": [
    "\n",
    "install.packages('devtools', repos='http://cran.nexr.com/')"
   ]
  },
  {
   "cell_type": "code",
   "execution_count": 31,
   "metadata": {},
   "outputs": [
    {
     "name": "stderr",
     "output_type": "stream",
     "text": [
      "also installing the dependencies 'credentials', 'openssl', 'zip', 'gitcreds', 'ini', 'diffobj', 'rematch2', 'fs', 'gert', 'gh', 'lifecycle', 'rappdirs', 'rprojroot', 'processx', 'rex', 'crosstalk', 'xopen', 'brew', 'commonmark', 'purrr', 'brio', 'praise', 'ps', 'waldo', 'usethis', 'callr', 'cli', 'covr', 'desc', 'DT', 'ellipsis', 'httr', 'jsonlite', 'pkgbuild', 'pkgload', 'rcmdcheck', 'remotes', 'rlang', 'roxygen2', 'rstudioapi', 'rversions', 'sessioninfo', 'testthat', 'withr'\n",
      "\n"
     ]
    },
    {
     "name": "stdout",
     "output_type": "stream",
     "text": [
      "package 'credentials' successfully unpacked and MD5 sums checked\n",
      "package 'openssl' successfully unpacked and MD5 sums checked\n",
      "package 'zip' successfully unpacked and MD5 sums checked\n",
      "package 'gitcreds' successfully unpacked and MD5 sums checked\n",
      "package 'ini' successfully unpacked and MD5 sums checked\n",
      "package 'diffobj' successfully unpacked and MD5 sums checked\n",
      "package 'rematch2' successfully unpacked and MD5 sums checked\n",
      "package 'fs' successfully unpacked and MD5 sums checked\n",
      "package 'gert' successfully unpacked and MD5 sums checked\n",
      "package 'gh' successfully unpacked and MD5 sums checked\n",
      "package 'lifecycle' successfully unpacked and MD5 sums checked\n",
      "package 'rappdirs' successfully unpacked and MD5 sums checked\n",
      "package 'rprojroot' successfully unpacked and MD5 sums checked\n",
      "package 'processx' successfully unpacked and MD5 sums checked\n",
      "package 'rex' successfully unpacked and MD5 sums checked\n",
      "package 'crosstalk' successfully unpacked and MD5 sums checked\n",
      "package 'xopen' successfully unpacked and MD5 sums checked\n",
      "package 'brew' successfully unpacked and MD5 sums checked\n",
      "package 'commonmark' successfully unpacked and MD5 sums checked\n",
      "package 'purrr' successfully unpacked and MD5 sums checked\n",
      "package 'brio' successfully unpacked and MD5 sums checked\n",
      "package 'praise' successfully unpacked and MD5 sums checked\n",
      "package 'ps' successfully unpacked and MD5 sums checked\n",
      "package 'waldo' successfully unpacked and MD5 sums checked\n",
      "package 'usethis' successfully unpacked and MD5 sums checked\n",
      "package 'callr' successfully unpacked and MD5 sums checked\n",
      "package 'cli' successfully unpacked and MD5 sums checked\n",
      "package 'covr' successfully unpacked and MD5 sums checked\n",
      "package 'desc' successfully unpacked and MD5 sums checked\n",
      "package 'DT' successfully unpacked and MD5 sums checked\n",
      "package 'ellipsis' successfully unpacked and MD5 sums checked\n",
      "package 'httr' successfully unpacked and MD5 sums checked\n",
      "package 'jsonlite' successfully unpacked and MD5 sums checked\n"
     ]
    },
    {
     "name": "stderr",
     "output_type": "stream",
     "text": [
      "Warning message:\n",
      "\"cannot remove prior installation of package 'jsonlite'\"Warning message in file.copy(savedcopy, lib, recursive = TRUE):\n",
      "\"C:\\Users\\user\\anaconda3\\envs\\kbo\\Lib\\R\\library\\00LOCK\\jsonlite\\libs\\x64\\jsonlite.dll를 C:\\Users\\user\\anaconda3\\envs\\kbo\\Lib\\R\\library\\jsonlite\\libs\\x64\\jsonlite.dll로 복사하는데 문제가 발생했습니다: Permission denied\"Warning message:\n",
      "\"restored 'jsonlite'\""
     ]
    },
    {
     "name": "stdout",
     "output_type": "stream",
     "text": [
      "package 'pkgbuild' successfully unpacked and MD5 sums checked\n",
      "package 'pkgload' successfully unpacked and MD5 sums checked\n",
      "package 'rcmdcheck' successfully unpacked and MD5 sums checked\n",
      "package 'remotes' successfully unpacked and MD5 sums checked\n",
      "package 'rlang' successfully unpacked and MD5 sums checked\n",
      "package 'roxygen2' successfully unpacked and MD5 sums checked\n",
      "package 'rstudioapi' successfully unpacked and MD5 sums checked\n",
      "package 'rversions' successfully unpacked and MD5 sums checked\n",
      "package 'sessioninfo' successfully unpacked and MD5 sums checked\n",
      "package 'testthat' successfully unpacked and MD5 sums checked\n",
      "package 'withr' successfully unpacked and MD5 sums checked\n",
      "package 'devtools' successfully unpacked and MD5 sums checked\n",
      "\n",
      "The downloaded binary packages are in\n",
      "\tC:\\Users\\user\\AppData\\Local\\Temp\\Rtmp6h0QAq\\downloaded_packages\n"
     ]
    }
   ],
   "source": [
    "install.packages(\"devtools\")"
   ]
  },
  {
   "cell_type": "code",
   "execution_count": 104,
   "metadata": {},
   "outputs": [],
   "source": [
    "library(devtools)"
   ]
  },
  {
   "cell_type": "code",
   "execution_count": 43,
   "metadata": {
    "scrolled": false
   },
   "outputs": [
    {
     "name": "stderr",
     "output_type": "stream",
     "text": [
      "WARNING: Rtools is required to build R packages, but is not currently installed.\n",
      "\n",
      "Please download and install Rtools 3.5 from https://cran.r-project.org/bin/windows/Rtools/.\n",
      "Downloading GitHub repo vqv/ggbiplot@HEAD\n"
     ]
    },
    {
     "name": "stdout",
     "output_type": "stream",
     "text": [
      "colorspace  (1.4-1  -> 2.0-0 ) [CRAN]\n",
      "glue        (1.3.1  -> 1.4.2 ) [CRAN]\n",
      "digest      (0.6.18 -> 0.6.27) [CRAN]\n",
      "vctrs       (NA     -> 0.3.6 ) [CRAN]\n",
      "pkgconfig   (2.0.2  -> 2.0.3 ) [CRAN]\n",
      "pillar      (1.3.1  -> 1.4.7 ) [CRAN]\n",
      "magrittr    (1.5    -> 2.0.1 ) [CRAN]\n",
      "fansi       (0.4.0  -> 0.4.1 ) [CRAN]\n",
      "R6          (2.4.0  -> 2.5.0 ) [CRAN]\n",
      "labeling    (0.3    -> 0.4.2 ) [CRAN]\n",
      "farver      (NA     -> 2.0.3 ) [CRAN]\n",
      "prettyunits (1.0.2  -> 1.1.1 ) [CRAN]\n",
      "tibble      (2.1.1  -> 3.0.4 ) [CRAN]\n",
      "jsonlite    (1.6    -> 1.7.2 ) [CRAN]\n",
      "evaluate    (0.13   -> 0.14  ) [CRAN]\n",
      "Rcpp        (1.0.1  -> 1.0.5 ) [CRAN]\n",
      "scales      (1.0.0  -> 1.1.1 ) [CRAN]\n",
      "isoband     (NA     -> 0.2.3 ) [CRAN]\n",
      "plyr        (1.8.4  -> 1.8.6 ) [CRAN]\n",
      "ggplot2     (3.1.1  -> 3.3.2 ) [CRAN]\n"
     ]
    },
    {
     "name": "stderr",
     "output_type": "stream",
     "text": [
      "Installing 20 packages: colorspace, glue, digest, vctrs, pkgconfig, pillar, magrittr, fansi, R6, labeling, farver, prettyunits, tibble, jsonlite, evaluate, Rcpp, scales, isoband, plyr, ggplot2\n"
     ]
    },
    {
     "name": "stdout",
     "output_type": "stream",
     "text": [
      "package 'colorspace' successfully unpacked and MD5 sums checked\n",
      "package 'glue' successfully unpacked and MD5 sums checked\n"
     ]
    },
    {
     "ename": "ERROR",
     "evalue": "Error: Failed to install 'ggbiplot' from GitHub:\n  (converted from warning) cannot remove prior installation of package 'glue'\n",
     "output_type": "error",
     "traceback": [
      "Error: Failed to install 'ggbiplot' from GitHub:\n  (converted from warning) cannot remove prior installation of package 'glue'\nTraceback:\n",
      "1. install_github(\"vqv/ggbiplot\", force = TRUE)",
      "2. pkgbuild::with_build_tools({\n .     ellipsis::check_dots_used(action = getOption(\"devtools.ellipsis_action\", \n .         rlang::warn))\n .     {\n .         remotes <- lapply(repo, github_remote, ref = ref, subdir = subdir, \n .             auth_token = auth_token, host = host)\n .         install_remotes(remotes, auth_token = auth_token, host = host, \n .             dependencies = dependencies, upgrade = upgrade, force = force, \n .             quiet = quiet, build = build, build_opts = build_opts, \n .             build_manual = build_manual, build_vignettes = build_vignettes, \n .             repos = repos, type = type, ...)\n .     }\n . }, required = FALSE)",
      "3. install_remotes(remotes, auth_token = auth_token, host = host, \n .     dependencies = dependencies, upgrade = upgrade, force = force, \n .     quiet = quiet, build = build, build_opts = build_opts, build_manual = build_manual, \n .     build_vignettes = build_vignettes, repos = repos, type = type, \n .     ...)",
      "4. tryCatch(res[[i]] <- install_remote(remotes[[i]], ...), error = function(e) {\n .     stop(remote_install_error(remotes[[i]], e))\n . })",
      "5. tryCatchList(expr, classes, parentenv, handlers)",
      "6. tryCatchOne(expr, names, parentenv, handlers[[1L]])",
      "7. value[[3L]](cond)"
     ]
    }
   ],
   "source": [
    "install_github(\"vqv/ggbiplot\", force = TRUE)"
   ]
  },
  {
   "cell_type": "code",
   "execution_count": 105,
   "metadata": {},
   "outputs": [
    {
     "data": {
      "text/html": [
       "<table>\n",
       "<thead><tr><th></th><th scope=col>PC1</th><th scope=col>PC2</th></tr></thead>\n",
       "<tbody>\n",
       "\t<tr><th scope=row>X2루타</th><td> 0.22321793</td><td>-0.09759069</td></tr>\n",
       "\t<tr><th scope=row>X3루타</th><td> 0.17882513</td><td> 0.08305680</td></tr>\n",
       "\t<tr><th scope=row>경기</th><td>-0.02249544</td><td> 0.32065515</td></tr>\n",
       "\t<tr><th scope=row>고의4구</th><td>-0.04607880</td><td> 0.21088269</td></tr>\n",
       "\t<tr><th scope=row>보크</th><td> 0.11787449</td><td>-0.11883685</td></tr>\n",
       "\t<tr><th scope=row>볼넷</th><td> 0.24488241</td><td>-0.01918965</td></tr>\n",
       "\t<tr><th scope=row>블론세이브</th><td>-0.03241255</td><td> 0.19423742</td></tr>\n",
       "\t<tr><th scope=row>삼진</th><td> 0.25813946</td><td> 0.10436252</td></tr>\n",
       "\t<tr><th scope=row>세이브</th><td>-0.01557245</td><td> 0.12135314</td></tr>\n",
       "\t<tr><th scope=row>승률</th><td> 0.08827816</td><td> 0.27116619</td></tr>\n",
       "\t<tr><th scope=row>승리</th><td> 0.24297967</td><td> 0.09802664</td></tr>\n",
       "\t<tr><th scope=row>실점</th><td> 0.25181000</td><td>-0.13209267</td></tr>\n",
       "\t<tr><th scope=row>이닝</th><td> 0.27341324</td><td> 0.03406477</td></tr>\n",
       "\t<tr><th scope=row>이닝당.출루허용률</th><td>-0.08590862</td><td>-0.35101940</td></tr>\n",
       "\t<tr><th scope=row>자책점</th><td> 0.25018744</td><td>-0.14862945</td></tr>\n",
       "\t<tr><th scope=row>퀄리티스타트</th><td> 0.24402600</td><td> 0.01463470</td></tr>\n",
       "\t<tr><th scope=row>타자수</th><td> 0.27561130</td><td> 0.01054908</td></tr>\n",
       "\t<tr><th scope=row>투구수</th><td> 0.27558185</td><td> 0.01182513</td></tr>\n",
       "\t<tr><th scope=row>패배</th><td> 0.19857592</td><td>-0.12620186</td></tr>\n",
       "\t<tr><th scope=row>평균자책점</th><td>-0.08901159</td><td>-0.40462531</td></tr>\n",
       "\t<tr><th scope=row>폭투</th><td> 0.21843988</td><td> 0.06363074</td></tr>\n",
       "\t<tr><th scope=row>피안타</th><td> 0.27211754</td><td>-0.05819075</td></tr>\n",
       "\t<tr><th scope=row>피안타율</th><td>-0.03308673</td><td>-0.38720935</td></tr>\n",
       "\t<tr><th scope=row>홀드</th><td>-0.09289147</td><td> 0.22811957</td></tr>\n",
       "\t<tr><th scope=row>홈런</th><td> 0.20977420</td><td>-0.18911327</td></tr>\n",
       "\t<tr><th scope=row>희생번트</th><td> 0.19817593</td><td> 0.18076319</td></tr>\n",
       "\t<tr><th scope=row>희생플라이</th><td> 0.06254980</td><td>-0.03624075</td></tr>\n",
       "\t<tr><th scope=row>나이</th><td> 0.02800746</td><td> 0.21769448</td></tr>\n",
       "\t<tr><th scope=row>신장</th><td> 0.11762131</td><td> 0.01793907</td></tr>\n",
       "\t<tr><th scope=row>체중</th><td> 0.08183360</td><td>-0.06641814</td></tr>\n",
       "</tbody>\n",
       "</table>\n"
      ],
      "text/latex": [
       "\\begin{tabular}{r|ll}\n",
       "  & PC1 & PC2\\\\\n",
       "\\hline\n",
       "\tX2루타 &  0.22321793 & -0.09759069\\\\\n",
       "\tX3루타 &  0.17882513 &  0.08305680\\\\\n",
       "\t경기 & -0.02249544 &  0.32065515\\\\\n",
       "\t고의4구 & -0.04607880 &  0.21088269\\\\\n",
       "\t보크 &  0.11787449 & -0.11883685\\\\\n",
       "\t볼넷 &  0.24488241 & -0.01918965\\\\\n",
       "\t블론세이브 & -0.03241255 &  0.19423742\\\\\n",
       "\t삼진 &  0.25813946 &  0.10436252\\\\\n",
       "\t세이브 & -0.01557245 &  0.12135314\\\\\n",
       "\t승률 &  0.08827816 &  0.27116619\\\\\n",
       "\t승리 &  0.24297967 &  0.09802664\\\\\n",
       "\t실점 &  0.25181000 & -0.13209267\\\\\n",
       "\t이닝 &  0.27341324 &  0.03406477\\\\\n",
       "\t이닝당.출루허용률 & -0.08590862 & -0.35101940\\\\\n",
       "\t자책점 &  0.25018744 & -0.14862945\\\\\n",
       "\t퀄리티스타트 &  0.24402600 &  0.01463470\\\\\n",
       "\t타자수 &  0.27561130 &  0.01054908\\\\\n",
       "\t투구수 &  0.27558185 &  0.01182513\\\\\n",
       "\t패배 &  0.19857592 & -0.12620186\\\\\n",
       "\t평균자책점 & -0.08901159 & -0.40462531\\\\\n",
       "\t폭투 &  0.21843988 &  0.06363074\\\\\n",
       "\t피안타 &  0.27211754 & -0.05819075\\\\\n",
       "\t피안타율 & -0.03308673 & -0.38720935\\\\\n",
       "\t홀드 & -0.09289147 &  0.22811957\\\\\n",
       "\t홈런 &  0.20977420 & -0.18911327\\\\\n",
       "\t희생번트 &  0.19817593 &  0.18076319\\\\\n",
       "\t희생플라이 &  0.06254980 & -0.03624075\\\\\n",
       "\t나이 &  0.02800746 &  0.21769448\\\\\n",
       "\t신장 &  0.11762131 &  0.01793907\\\\\n",
       "\t체중 &  0.08183360 & -0.06641814\\\\\n",
       "\\end{tabular}\n"
      ],
      "text/markdown": [
       "\n",
       "| <!--/--> | PC1 | PC2 |\n",
       "|---|---|---|\n",
       "| X2루타 |  0.22321793 | -0.09759069 |\n",
       "| X3루타 |  0.17882513 |  0.08305680 |\n",
       "| 경기 | -0.02249544 |  0.32065515 |\n",
       "| 고의4구 | -0.04607880 |  0.21088269 |\n",
       "| 보크 |  0.11787449 | -0.11883685 |\n",
       "| 볼넷 |  0.24488241 | -0.01918965 |\n",
       "| 블론세이브 | -0.03241255 |  0.19423742 |\n",
       "| 삼진 |  0.25813946 |  0.10436252 |\n",
       "| 세이브 | -0.01557245 |  0.12135314 |\n",
       "| 승률 |  0.08827816 |  0.27116619 |\n",
       "| 승리 |  0.24297967 |  0.09802664 |\n",
       "| 실점 |  0.25181000 | -0.13209267 |\n",
       "| 이닝 |  0.27341324 |  0.03406477 |\n",
       "| 이닝당.출루허용률 | -0.08590862 | -0.35101940 |\n",
       "| 자책점 |  0.25018744 | -0.14862945 |\n",
       "| 퀄리티스타트 |  0.24402600 |  0.01463470 |\n",
       "| 타자수 |  0.27561130 |  0.01054908 |\n",
       "| 투구수 |  0.27558185 |  0.01182513 |\n",
       "| 패배 |  0.19857592 | -0.12620186 |\n",
       "| 평균자책점 | -0.08901159 | -0.40462531 |\n",
       "| 폭투 |  0.21843988 |  0.06363074 |\n",
       "| 피안타 |  0.27211754 | -0.05819075 |\n",
       "| 피안타율 | -0.03308673 | -0.38720935 |\n",
       "| 홀드 | -0.09289147 |  0.22811957 |\n",
       "| 홈런 |  0.20977420 | -0.18911327 |\n",
       "| 희생번트 |  0.19817593 |  0.18076319 |\n",
       "| 희생플라이 |  0.06254980 | -0.03624075 |\n",
       "| 나이 |  0.02800746 |  0.21769448 |\n",
       "| 신장 |  0.11762131 |  0.01793907 |\n",
       "| 체중 |  0.08183360 | -0.06641814 |\n",
       "\n"
      ],
      "text/plain": [
       "                  PC1         PC2        \n",
       "X2루타             0.22321793 -0.09759069\n",
       "X3루타             0.17882513  0.08305680\n",
       "경기              -0.02249544  0.32065515\n",
       "고의4구           -0.04607880  0.21088269\n",
       "보크               0.11787449 -0.11883685\n",
       "볼넷               0.24488241 -0.01918965\n",
       "블론세이브        -0.03241255  0.19423742\n",
       "삼진               0.25813946  0.10436252\n",
       "세이브            -0.01557245  0.12135314\n",
       "승률               0.08827816  0.27116619\n",
       "승리               0.24297967  0.09802664\n",
       "실점               0.25181000 -0.13209267\n",
       "이닝               0.27341324  0.03406477\n",
       "이닝당.출루허용률 -0.08590862 -0.35101940\n",
       "자책점             0.25018744 -0.14862945\n",
       "퀄리티스타트       0.24402600  0.01463470\n",
       "타자수             0.27561130  0.01054908\n",
       "투구수             0.27558185  0.01182513\n",
       "패배               0.19857592 -0.12620186\n",
       "평균자책점        -0.08901159 -0.40462531\n",
       "폭투               0.21843988  0.06363074\n",
       "피안타             0.27211754 -0.05819075\n",
       "피안타율          -0.03308673 -0.38720935\n",
       "홀드              -0.09289147  0.22811957\n",
       "홈런               0.20977420 -0.18911327\n",
       "희생번트           0.19817593  0.18076319\n",
       "희생플라이         0.06254980 -0.03624075\n",
       "나이               0.02800746  0.21769448\n",
       "신장               0.11762131  0.01793907\n",
       "체중               0.08183360 -0.06641814"
      ]
     },
     "metadata": {},
     "output_type": "display_data"
    }
   ],
   "source": [
    "pitchers_pca$rotation[, 1:2]"
   ]
  },
  {
   "cell_type": "markdown",
   "metadata": {},
   "source": [
    "## PCA + 다중회귀분석"
   ]
  },
  {
   "cell_type": "code",
   "execution_count": 106,
   "metadata": {},
   "outputs": [
    {
     "name": "stdout",
     "output_type": "stream",
     "text": [
      "'data.frame':\t40 obs. of  3 variables:\n",
      " $ PC1   : num  -2.75 -3.26 1.17 -2 1.33 ...\n",
      " $ PC2   : num  -1.011 -2 2.41 0.398 -2.187 ...\n",
      " $ salary: num  0.00635 0.11605 0.13871 0.05712 0.03264 ...\n"
     ]
    }
   ],
   "source": [
    "\n",
    "pitchers2d = data.frame(predict(pitchers_pca, pitchers)[, 1:2])\n",
    "pitchers2d$salary = pitchers$연봉\n",
    "str(pitchers2d)\n"
   ]
  },
  {
   "cell_type": "code",
   "execution_count": 107,
   "metadata": {},
   "outputs": [
    {
     "data": {
      "text/plain": [
       "\n",
       "Call:\n",
       "lm(formula = salary ~ ., data = pitchers2d)\n",
       "\n",
       "Residuals:\n",
       "     Min       1Q   Median       3Q      Max \n",
       "-0.33131 -0.05620  0.01433  0.06824  0.24418 \n",
       "\n",
       "Coefficients:\n",
       "            Estimate Std. Error t value Pr(>|t|)    \n",
       "(Intercept) 0.160993   0.020802   7.739 3.01e-09 ***\n",
       "PC1         0.062229   0.005844  10.649 8.04e-13 ***\n",
       "PC2         0.009041   0.010091   0.896    0.376    \n",
       "---\n",
       "Signif. codes:  0 '***' 0.001 '**' 0.01 '*' 0.05 '.' 0.1 ' ' 1\n",
       "\n",
       "Residual standard error: 0.1316 on 37 degrees of freedom\n",
       "Multiple R-squared:  0.7553,\tAdjusted R-squared:  0.7421 \n",
       "F-statistic:  57.1 on 2 and 37 DF,  p-value: 4.897e-12\n"
      ]
     },
     "metadata": {},
     "output_type": "display_data"
    }
   ],
   "source": [
    "salary2d = lm(salary ~ ., data=pitchers2d)\n",
    "summary(salary2d)"
   ]
  },
  {
   "cell_type": "code",
   "execution_count": 108,
   "metadata": {},
   "outputs": [],
   "source": [
    "\n",
    "salary_factors = salary2d$coefficients['PC1'][[1]] * pitchers_pca$rotation[,1]\n",
    "salary_factors = salary_factors + salary2d$coefficients['PC2'][[1]] * pitchers_pca$rotation[,2]"
   ]
  },
  {
   "cell_type": "code",
   "execution_count": 109,
   "metadata": {},
   "outputs": [
    {
     "data": {
      "text/html": [
       "<dl class=dl-horizontal>\n",
       "\t<dt>이닝</dt>\n",
       "\t\t<dd>0.0173221465455966</dd>\n",
       "\t<dt>투구수</dt>\n",
       "\t\t<dd>0.0172560326420379</dd>\n",
       "\t<dt>타자수</dt>\n",
       "\t\t<dd>0.0172463286217947</dd>\n",
       "\t<dt>삼진</dt>\n",
       "\t\t<dd>0.0170072242265248</dd>\n",
       "\t<dt>피안타</dt>\n",
       "\t\t<dd>0.0164074547243309</dd>\n",
       "\t<dt>승리</dt>\n",
       "\t\t<dd>0.0160065675876102</dd>\n",
       "\t<dt>퀄리티스타트</dt>\n",
       "\t\t<dd>0.0153177510465915</dd>\n",
       "\t<dt>볼넷</dt>\n",
       "\t\t<dd>0.0150652461216961</dd>\n",
       "\t<dt>실점</dt>\n",
       "\t\t<dd>0.0144756103269154</dd>\n",
       "\t<dt>자책점</dt>\n",
       "\t\t<dd>0.0142251349239638</dd>\n",
       "\t<dt>폭투</dt>\n",
       "\t\t<dd>0.0141685206318511</dd>\n",
       "\t<dt>희생번트</dt>\n",
       "\t\t<dd>0.0139664878976184</dd>\n",
       "\t<dt>X2루타</dt>\n",
       "\t\t<dd>0.013008284837994</dd>\n",
       "\t<dt>X3루타</dt>\n",
       "\t\t<dd>0.0118789695939949</dd>\n",
       "\t<dt>홈런</dt>\n",
       "\t\t<dd>0.011344262291862</dd>\n",
       "\t<dt>패배</dt>\n",
       "\t\t<dd>0.0112161751136004</dd>\n",
       "\t<dt>승률</dt>\n",
       "\t\t<dd>0.00794499651709023</dd>\n",
       "\t<dt>신장</dt>\n",
       "\t\t<dd>0.0074816147715284</dd>\n",
       "\t<dt>보크</dt>\n",
       "\t\t<dd>0.0062608090097465</dd>\n",
       "\t<dt>체중</dt>\n",
       "\t\t<dd>0.00449193386056966</dd>\n",
       "\t<dt>나이</dt>\n",
       "\t\t<dd>0.00371099857262797</dd>\n",
       "\t<dt>희생플라이</dt>\n",
       "\t\t<dd>0.00356475363113827</dd>\n",
       "\t<dt>경기</dt>\n",
       "\t\t<dd>0.00149910908119172</dd>\n",
       "\t<dt>세이브</dt>\n",
       "\t\t<dd>0.000128072235099231</dd>\n",
       "\t<dt>블론세이브</dt>\n",
       "\t\t<dd>-0.000260935947711024</dd>\n",
       "\t<dt>고의4구</dt>\n",
       "\t\t<dd>-0.000960883814135019</dd>\n",
       "\t<dt>홀드</dt>\n",
       "\t\t<dd>-0.00371814438309026</dd>\n",
       "\t<dt>피안타율</dt>\n",
       "\t\t<dd>-0.00555962161874451</dd>\n",
       "\t<dt>이닝당.출루허용률</dt>\n",
       "\t\t<dd>-0.00851947867061705</dd>\n",
       "\t<dt>평균자책점</dt>\n",
       "\t\t<dd>-0.00919721181291307</dd>\n",
       "</dl>\n"
      ],
      "text/latex": [
       "\\begin{description*}\n",
       "\\item[이닝] 0.0173221465455966\n",
       "\\item[투구수] 0.0172560326420379\n",
       "\\item[타자수] 0.0172463286217947\n",
       "\\item[삼진] 0.0170072242265248\n",
       "\\item[피안타] 0.0164074547243309\n",
       "\\item[승리] 0.0160065675876102\n",
       "\\item[퀄리티스타트] 0.0153177510465915\n",
       "\\item[볼넷] 0.0150652461216961\n",
       "\\item[실점] 0.0144756103269154\n",
       "\\item[자책점] 0.0142251349239638\n",
       "\\item[폭투] 0.0141685206318511\n",
       "\\item[희생번트] 0.0139664878976184\n",
       "\\item[X2루타] 0.013008284837994\n",
       "\\item[X3루타] 0.0118789695939949\n",
       "\\item[홈런] 0.011344262291862\n",
       "\\item[패배] 0.0112161751136004\n",
       "\\item[승률] 0.00794499651709023\n",
       "\\item[신장] 0.0074816147715284\n",
       "\\item[보크] 0.0062608090097465\n",
       "\\item[체중] 0.00449193386056966\n",
       "\\item[나이] 0.00371099857262797\n",
       "\\item[희생플라이] 0.00356475363113827\n",
       "\\item[경기] 0.00149910908119172\n",
       "\\item[세이브] 0.000128072235099231\n",
       "\\item[블론세이브] -0.000260935947711024\n",
       "\\item[고의4구] -0.000960883814135019\n",
       "\\item[홀드] -0.00371814438309026\n",
       "\\item[피안타율] -0.00555962161874451\n",
       "\\item[이닝당.출루허용률] -0.00851947867061705\n",
       "\\item[평균자책점] -0.00919721181291307\n",
       "\\end{description*}\n"
      ],
      "text/markdown": [
       "이닝\n",
       ":   0.0173221465455966투구수\n",
       ":   0.0172560326420379타자수\n",
       ":   0.0172463286217947삼진\n",
       ":   0.0170072242265248피안타\n",
       ":   0.0164074547243309승리\n",
       ":   0.0160065675876102퀄리티스타트\n",
       ":   0.0153177510465915볼넷\n",
       ":   0.0150652461216961실점\n",
       ":   0.0144756103269154자책점\n",
       ":   0.0142251349239638폭투\n",
       ":   0.0141685206318511희생번트\n",
       ":   0.0139664878976184X2루타\n",
       ":   0.013008284837994X3루타\n",
       ":   0.0118789695939949홈런\n",
       ":   0.011344262291862패배\n",
       ":   0.0112161751136004승률\n",
       ":   0.00794499651709023신장\n",
       ":   0.0074816147715284보크\n",
       ":   0.0062608090097465체중\n",
       ":   0.00449193386056966나이\n",
       ":   0.00371099857262797희생플라이\n",
       ":   0.00356475363113827경기\n",
       ":   0.00149910908119172세이브\n",
       ":   0.000128072235099231블론세이브\n",
       ":   -0.000260935947711024고의4구\n",
       ":   -0.000960883814135019홀드\n",
       ":   -0.00371814438309026피안타율\n",
       ":   -0.00555962161874451이닝당.출루허용률\n",
       ":   -0.00851947867061705평균자책점\n",
       ":   -0.00919721181291307\n",
       "\n"
      ],
      "text/plain": [
       "             이닝            투구수            타자수              삼진 \n",
       "     0.0173221465      0.0172560326      0.0172463286      0.0170072242 \n",
       "           피안타              승리      퀄리티스타트              볼넷 \n",
       "     0.0164074547      0.0160065676      0.0153177510      0.0150652461 \n",
       "             실점            자책점              폭투          희생번트 \n",
       "     0.0144756103      0.0142251349      0.0141685206      0.0139664879 \n",
       "           X2루타            X3루타              홈런              패배 \n",
       "     0.0130082848      0.0118789696      0.0113442623      0.0112161751 \n",
       "             승률              신장              보크              체중 \n",
       "     0.0079449965      0.0074816148      0.0062608090      0.0044919339 \n",
       "             나이        희생플라이              경기            세이브 \n",
       "     0.0037109986      0.0035647536      0.0014991091      0.0001280722 \n",
       "       블론세이브           고의4구              홀드          피안타율 \n",
       "    -0.0002609359     -0.0009608838     -0.0037181444     -0.0055596216 \n",
       "이닝당.출루허용률        평균자책점 \n",
       "    -0.0085194787     -0.0091972118 "
      ]
     },
     "metadata": {},
     "output_type": "display_data"
    }
   ],
   "source": [
    "sort(salary_factors, decreasing=TRUE)"
   ]
  },
  {
   "cell_type": "code",
   "execution_count": null,
   "metadata": {},
   "outputs": [],
   "source": []
  }
 ],
 "metadata": {
  "kernelspec": {
   "display_name": "R",
   "language": "R",
   "name": "ir"
  },
  "language_info": {
   "codemirror_mode": "r",
   "file_extension": ".r",
   "mimetype": "text/x-r-source",
   "name": "R",
   "pygments_lexer": "r",
   "version": "3.6.1"
  }
 },
 "nbformat": 4,
 "nbformat_minor": 4
}
