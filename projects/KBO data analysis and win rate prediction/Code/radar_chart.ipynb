#-*-coding:utf-8-*-
get_radarchart_row = function(batters, pitchers) {

    return(data.frame(
            'OBP'= c(mean(batters$�����)),
            'SLG'= c(mean(batters$��Ÿ��)),
            'AVG'= c(mean(batters$Ÿ��)),
            'WHIP'= c(0.80/(sum(pitchers$�̴״�.�������*pitchers$�̴�)/
                            sum(pitchers$�̴�))),
            'QS'= c(mean(pitchers$����Ƽ��ŸƮ[pitchers$����Ƽ��ŸƮ != 0])),
            'FIP'= c(0.17/mean(pitchers$FIP)),
            'SAVE'=c(mean(pitchers$SAVEP[pitchers$���̺� != 0]))
    ))
}

draw.radar = function(data, title, colors, densities,
                      labels, legend.title, legend.labels,
                      svg.filename='') {

    if (nchar(svg.filename) > 0) {
        svg(svg.filename, family='Korea1deb')
        radarchart(data, title=title, seg=10, pdensity=densities,
                   pcol=colors, pfcol=colors, plwd=0.33, plty=1, 
                   cglwd=1, cglcol=8, cglty=1, axistype=0,
                   vlabels=labels, maxmin=TRUE)
    } else {
        radarchart(data, title=title, seg=10, pdensity=densities,
                   pcol=colors, pfcol=colors, plwd=0.33, plty=1,
                   cglwd=1, cglcol=8, cglty=1, axistype=0,
                   vlabels=labels, maxmin=TRUE)
    }

    legend('bottomright', legend=legend.labels,
           title=legend.title, bty="n", lwd=6, col=colors)

    if (nchar(svg.filename) > 0) {
        dev.off()
        display_html(data=paste('<center><iframe style="border:none" src="http://ipy.lucent.me/R/KBOProject/',  svg.filename, '" type="application/svg" width="700" height="700" scrolling="no"></iframe></center>', sep=''))
    }
}
