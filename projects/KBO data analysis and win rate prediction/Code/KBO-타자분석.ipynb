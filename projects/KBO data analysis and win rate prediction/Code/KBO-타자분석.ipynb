{
 "cells": [
  {
   "cell_type": "code",
   "execution_count": 37,
   "metadata": {},
   "outputs": [],
   "source": [
    "\n",
    "batters = read.csv('data/nc_batters.csv', stringsAsFactors=FALSE)"
   ]
  },
  {
   "cell_type": "code",
   "execution_count": 38,
   "metadata": {},
   "outputs": [],
   "source": [
    "batters_org = batters\n"
   ]
  },
  {
   "cell_type": "code",
   "execution_count": 39,
   "metadata": {},
   "outputs": [
    {
     "name": "stdout",
     "output_type": "stream",
     "text": [
      "'data.frame':\t32 obs. of  39 variables:\n",
      " $ X2루타       : num  25 16 4 6 37 22 27 15 4 20 ...\n",
      " $ X3루타       : num  0 0 1 0 2 3 5 0 0 7 ...\n",
      " $ 경기         : num  121 123 104 56 130 132 126 123 32 136 ...\n",
      " $ 경력         : chr  \"가동초-잠신중-경기고-NC-경찰\" \"동천초-경주중-경주고-경남대-NC-상무\" \"광주서림초-충장중-진흥고\" \"양정초-경남중-경남고\" ...\n",
      " $ 고의4구      : num  0 0 0 0 2 3 2 2 0 3 ...\n",
      " $ 대타타율     : num  0.375 0.316 0.059 0.167 1 0.125 0.6 0.533 0.111 0 ...\n",
      " $ 도루         : num  9 3 12 3 3 0 13 0 1 22 ...\n",
      " $ 도루성공률   : num  90 100 70.6 75 75 0 68.4 0 100 88 ...\n",
      " $ 도루실패     : num  1 0 5 1 1 4 6 1 0 3 ...\n",
      " $ 득점         : num  53 67 32 10 115 70 82 58 4 90 ...\n",
      " $ 득점권타울   : num  0.348 0.286 0.297 0.316 0.338 0.351 0.388 0.327 0.231 0.333 ...\n",
      " $ 등번호       : int  49 36 31 5 47 52 2 18 13 23 ...\n",
      " $ 루타         : num  183 142 73 25 313 205 222 166 11 261 ...\n",
      " $ 멀티히트     : num  32 19 9 2 53 34 47 20 1 38 ...\n",
      " $ 병살타       : num  11 6 0 0 6 8 12 11 2 10 ...\n",
      " $ 볼넷         : num  20 58 17 4 49 49 36 75 2 46 ...\n",
      " $ 사구         : num  9 11 4 1 9 5 15 10 3 12 ...\n",
      " $ 삼진         : num  46 72 40 11 148 106 48 62 17 149 ...\n",
      " $ 생년월일     : chr  \"1993년 10월 19일\" \"1990년 12월 30일\" \"1993년 05월 01일\" \"1997년 12월 29일\" ...\n",
      " $ 선수명       : chr  \"강진성\" \"권희동\" \"김성욱\" \"김찬형\" ...\n",
      " $ 신장.체중    : chr  \"180cm/81kg\" \"177cm/85kg\" \"181cm/83kg\" \"182cm/80kg\" ...\n",
      " $ 실책         : num  4 2 0 10 0 9 10 14 2 2 ...\n",
      " $ 안타         : num  122 90 43 19 170 117 161 109 7 134 ...\n",
      " $ 연봉         : chr  \"3800만원\" \"13500만원\" \"12000만원\" \"5800만원\" ...\n",
      " $ 입단.계약금  : chr  \"7000만원\" \"3000만원\" \"7000만원\" \"5000만원\" ...\n",
      " $ 입단년도     : chr  \"12NC\" \"13NC\" \"12NC\" \"16NC\" ...\n",
      " $ 장타율       : num  0.463 0.41 0.374 0.391 0.596 0.48 0.475 0.466 0.239 0.541 ...\n",
      " $ 지명순위     : chr  \"12 NC 4라운드 33순위\" \"13 NC 9라운드 84순위\" \"12 NC 3라운드 32순위\" \"16 NC 2차 6라운드 53순위\" ...\n",
      " $ 출루율       : num  0.351 0.379 0.294 0.343 0.39 0.356 0.402 0.436 0.235 0.352 ...\n",
      " $ 출루율.장타율: num  0.814 0.789 0.668 0.734 0.986 0.836 0.877 0.902 0.474 0.893 ...\n",
      " $ 타석         : num  432 426 225 72 584 484 530 448 51 546 ...\n",
      " $ 타수         : num  395 346 195 64 525 427 467 356 46 482 ...\n",
      " $ 타율         : num  0.309 0.26 0.221 0.297 0.324 0.274 0.345 0.306 0.152 0.278 ...\n",
      " $ 타점         : num  70 50 26 7 112 82 63 63 3 108 ...\n",
      " $ 팀명         : chr  \"NC\" \"NC\" \"NC\" \"NC\" ...\n",
      " $ 포지션       : chr  \"외야수(우투우타)\" \"외야수(우투우타)\" \"외야수(우투우타)\" \"내야수(우투우타)\" ...\n",
      " $ 홈런         : num  12 12 8 0 34 20 8 14 0 31 ...\n",
      " $ 희생번트     : num  2 6 7 2 0 3 2 2 0 0 ...\n",
      " $ 희생플라이   : num  6 5 2 1 1 0 10 4 0 6 ...\n"
     ]
    }
   ],
   "source": [
    "str(batters)"
   ]
  },
  {
   "cell_type": "markdown",
   "metadata": {},
   "source": [
    "연봉을 숫자로 변환"
   ]
  },
  {
   "cell_type": "code",
   "execution_count": 40,
   "metadata": {},
   "outputs": [
    {
     "data": {
      "text/html": [
       "1"
      ],
      "text/latex": [
       "1"
      ],
      "text/markdown": [
       "1"
      ],
      "text/plain": [
       "[1] 1"
      ]
     },
     "metadata": {},
     "output_type": "display_data"
    },
    {
     "data": {
      "text/html": [],
      "text/latex": [],
      "text/markdown": [],
      "text/plain": [
       "integer(0)"
      ]
     },
     "metadata": {},
     "output_type": "display_data"
    },
    {
     "data": {
      "text/html": [],
      "text/latex": [],
      "text/markdown": [],
      "text/plain": [
       "integer(0)"
      ]
     },
     "metadata": {},
     "output_type": "display_data"
    },
    {
     "data": {
      "text/html": [
       "1"
      ],
      "text/latex": [
       "1"
      ],
      "text/markdown": [
       "1"
      ],
      "text/plain": [
       "[1] 1"
      ]
     },
     "metadata": {},
     "output_type": "display_data"
    }
   ],
   "source": [
    "grep(\"달러\", \"50000달러\")\n",
    "grep(\"만원\", \"50000달러\")\n",
    "grep(\"달러\", \"5000만원\")\n",
    "grep(\"만원\", \"5000만원\")"
   ]
  },
  {
   "cell_type": "code",
   "execution_count": 41,
   "metadata": {},
   "outputs": [
    {
     "data": {
      "text/html": [
       "7"
      ],
      "text/latex": [
       "7"
      ],
      "text/markdown": [
       "7"
      ],
      "text/plain": [
       "[1] 7"
      ]
     },
     "metadata": {},
     "output_type": "display_data"
    }
   ],
   "source": [
    "nchar('안녕하세요^^')"
   ]
  },
  {
   "cell_type": "code",
   "execution_count": 42,
   "metadata": {},
   "outputs": [],
   "source": [
    "parseCurrency = function(item) {\n",
    "    if (length(grep('달러', item))) {\n",
    "        item = as.numeric(substr(item, 1, nchar(item)-2)) * 1130\n",
    "    } else if (length(grep('만원', item))) {\n",
    "        item = as.numeric(substr(item, 1, nchar(item)-2)) * 10000\n",
    "    } else {\n",
    "        item = as.numeric(item)\n",
    "    }\n",
    "    return(item)\n",
    "}"
   ]
  },
  {
   "cell_type": "code",
   "execution_count": 43,
   "metadata": {},
   "outputs": [
    {
     "name": "stdout",
     "output_type": "stream",
     "text": [
      " num [1:32] 3.80e+07 1.35e+08 1.20e+08 5.80e+07 5.00e+08 1.40e+08 5.20e+08 7.00e+08 2.70e+07 9.04e+08 ...\n"
     ]
    }
   ],
   "source": [
    "batters$연봉 = sapply(batters$연봉, parseCurrency)\n",
    "\n",
    "str(batters$연봉)"
   ]
  },
  {
   "cell_type": "markdown",
   "metadata": {},
   "source": [
    "나이를 숫자로 변환"
   ]
  },
  {
   "cell_type": "code",
   "execution_count": 44,
   "metadata": {},
   "outputs": [
    {
     "data": {
      "text/html": [
       "27"
      ],
      "text/latex": [
       "27"
      ],
      "text/markdown": [
       "27"
      ],
      "text/plain": [
       "[1] 27"
      ]
     },
     "metadata": {},
     "output_type": "display_data"
    }
   ],
   "source": [
    "2020 - as.numeric(substr(\"1993년 02월 12일\", 1, 4))"
   ]
  },
  {
   "cell_type": "code",
   "execution_count": 45,
   "metadata": {},
   "outputs": [],
   "source": [
    "parseAge = function(item) {\n",
    "    return(2020 - as.numeric(substr(item, 1, 4)))\n",
    "}"
   ]
  },
  {
   "cell_type": "code",
   "execution_count": 46,
   "metadata": {},
   "outputs": [
    {
     "data": {
      "text/plain": [
       "\n",
       "20 23 27 29 30 31 33 35 36 \n",
       " 1  4  8  2  2  8  4  2  1 "
      ]
     },
     "metadata": {},
     "output_type": "display_data"
    }
   ],
   "source": [
    "batters$나이 = sapply(batters$생년월일, parseAge)\n",
    "table(batters$나이)"
   ]
  },
  {
   "cell_type": "markdown",
   "metadata": {},
   "source": [
    "신장과 체중을 분리하고 숫자로 변환"
   ]
  },
  {
   "cell_type": "code",
   "execution_count": 47,
   "metadata": {},
   "outputs": [
    {
     "data": {
      "text/html": [
       "189"
      ],
      "text/latex": [
       "189"
      ],
      "text/markdown": [
       "189"
      ],
      "text/plain": [
       "[1] 189"
      ]
     },
     "metadata": {},
     "output_type": "display_data"
    },
    {
     "data": {
      "text/html": [
       "75"
      ],
      "text/latex": [
       "75"
      ],
      "text/markdown": [
       "75"
      ],
      "text/plain": [
       "[1] 75"
      ]
     },
     "metadata": {},
     "output_type": "display_data"
    }
   ],
   "source": [
    "weight = strsplit(\"189cm/75kg\", \"/\")[[1]][[1]]\n",
    "height = strsplit(\"189cm/75kg\", \"/\")[[1]][[2]]\n",
    "\n",
    "as.numeric(substr(weight, 1, nchar(weight)-2))\n",
    "as.numeric(substr(height, 1, nchar(height)-2))"
   ]
  },
  {
   "cell_type": "code",
   "execution_count": 48,
   "metadata": {},
   "outputs": [],
   "source": [
    "parseHeight = function(item) {\n",
    "    height = strsplit(item, \"/\")[[1]][[1]]\n",
    "    return(as.numeric(substr(height, 1, nchar(height)-2)))\n",
    "}\n",
    "parseWeight = function(item) {\n",
    "    weight = strsplit(item, \"/\")[[1]][[2]]\n",
    "    return(as.numeric(substr(weight, 1, nchar(weight)-2)))\n",
    "}"
   ]
  },
  {
   "cell_type": "code",
   "execution_count": 49,
   "metadata": {},
   "outputs": [],
   "source": [
    "batters$신장 = sapply(batters$신장.체중, parseHeight)\n",
    "batters$체중 = sapply(batters$신장.체중, parseWeight)"
   ]
  },
  {
   "cell_type": "code",
   "execution_count": 50,
   "metadata": {},
   "outputs": [
    {
     "name": "stdout",
     "output_type": "stream",
     "text": [
      " num [1:32] 180 177 181 182 183 184 185 178 181 196 ...\n",
      " num [1:32] 81 85 83 80 100 80 80 88 75 97 ...\n"
     ]
    }
   ],
   "source": [
    "str(batters$신장)\n",
    "str(batters$체중)"
   ]
  },
  {
   "cell_type": "markdown",
   "metadata": {},
   "source": [
    "변수 설정"
   ]
  },
  {
   "cell_type": "code",
   "execution_count": 51,
   "metadata": {},
   "outputs": [],
   "source": [
    "batters$안타.타수 = batters$안타 / batters$타수\n",
    "batters$홈런.타수 = batters$홈런 / batters$타수\n",
    "\n",
    "drops = c('타석', '등번호')\n",
    "batters = batters[, !(names(batters) %in% drops)]"
   ]
  },
  {
   "cell_type": "markdown",
   "metadata": {},
   "source": [
    "\n",
    "non-numeric 데이터 제거, normalization, nan 제거"
   ]
  },
  {
   "cell_type": "code",
   "execution_count": 52,
   "metadata": {},
   "outputs": [
    {
     "name": "stdout",
     "output_type": "stream",
     "text": [
      "'data.frame':\t32 obs. of  33 variables:\n",
      " $ X2루타       : num  0.6667 0.4167 0.0833 0.1389 1 ...\n",
      " $ X3루타       : num  0 0 0.143 0 0.286 ...\n",
      " $ 경기         : num  0.865 0.883 0.712 0.279 0.946 ...\n",
      " $ 고의4구      : num  0 0 0 0 0.286 ...\n",
      " $ 대타타율     : num  0.375 0.316 0.059 0.167 1 0.125 0.6 0.533 0.111 0 ...\n",
      " $ 도루         : num  0.409 0.136 0.545 0.136 0.136 ...\n",
      " $ 도루성공률   : num  0.9 1 0.706 0.75 0.75 0 0.684 0 1 0.88 ...\n",
      " $ 도루실패     : num  0.143 0 0.714 0.143 0.143 ...\n",
      " $ 득점         : num  0.4414 0.5676 0.2523 0.0541 1 ...\n",
      " $ 득점권타울   : num  0.347 0.187 0.215 0.264 0.321 ...\n",
      " $ 루타         : num  0.5779 0.4448 0.2208 0.0649 1 ...\n",
      " $ 멀티히트     : num  0.6038 0.3585 0.1698 0.0377 1 ...\n",
      " $ 병살타       : num  0.917 0.5 0 0 0.5 ...\n",
      " $ 볼넷         : num  0.2568 0.7703 0.2162 0.0405 0.6486 ...\n",
      " $ 사구         : num  0.6 0.7333 0.2667 0.0667 0.6 ...\n",
      " $ 삼진         : num  0.3041 0.4797 0.2635 0.0676 0.9932 ...\n",
      " $ 실책         : num  0.286 0.143 0 0.714 0 ...\n",
      " $ 안타         : num  0.7108 0.5181 0.2349 0.0904 1 ...\n",
      " $ 연봉         : num  0.00558 0.05474 0.04714 0.01571 0.23974 ...\n",
      " $ 장타율       : num  0.692 0.576 0.497 0.534 0.985 ...\n",
      " $ 출루율       : num  0.546 0.631 0.372 0.521 0.665 ...\n",
      " $ 출루율.장타율: num  0.671 0.637 0.473 0.562 0.905 ...\n",
      " $ 타수         : num  0.748 0.653 0.36 0.107 1 ...\n",
      " $ 타율         : num  0.569 0.412 0.288 0.53 0.617 ...\n",
      " $ 타점         : num  0.557 0.393 0.197 0.041 0.902 ...\n",
      " $ 홈런         : num  0.353 0.353 0.235 0 1 ...\n",
      " $ 희생번트     : num  0.286 0.857 1 0.286 0 ...\n",
      " $ 희생플라이   : num  0.6 0.5 0.2 0.1 0.1 0 1 0.4 0 0.6 ...\n",
      " $ 나이         : num  0.438 0.625 0.438 0.188 0.688 ...\n",
      " $ 신장         : num  0.2 0.05 0.25 0.3 0.35 0.4 0.45 0.1 0.25 1 ...\n",
      " $ 체중         : num  0.367 0.5 0.433 0.333 1 ...\n",
      " $ 안타.타수    : num  0.567 0.412 0.285 0.529 0.615 ...\n",
      " $ 홈런.타수    : num  0.424 0.484 0.573 0 0.905 ...\n"
     ]
    }
   ],
   "source": [
    "normalize = function(x) {\n",
    "    (x - min(x)) / (max(x) - min(x))\n",
    "}\n",
    "\n",
    "batters[, sapply(batters, is.numeric)] = lapply(batters[, sapply(batters, is.numeric)], normalize)\n",
    "\n",
    "batters = batters[, sapply(batters, is.numeric)]\n",
    "\n",
    "batters = batters[!sapply(batters, function(x) { all(is.nan(x)) })]\n",
    "\n",
    "str(batters)"
   ]
  },
  {
   "cell_type": "markdown",
   "metadata": {},
   "source": [
    "## 상관관계 분석"
   ]
  },
  {
   "cell_type": "code",
   "execution_count": 53,
   "metadata": {},
   "outputs": [],
   "source": [
    "\n",
    "#library(reshape2)"
   ]
  },
  {
   "cell_type": "code",
   "execution_count": 54,
   "metadata": {},
   "outputs": [],
   "source": [
    "#install.packages(\"reshape2\")"
   ]
  },
  {
   "cell_type": "code",
   "execution_count": 55,
   "metadata": {},
   "outputs": [],
   "source": [
    "library(reshape2)"
   ]
  },
  {
   "cell_type": "code",
   "execution_count": 70,
   "metadata": {},
   "outputs": [
    {
     "data": {
      "text/html": [
       "<table>\n",
       "<thead><tr><th></th><th scope=col>Var1</th><th scope=col>Var2</th><th scope=col>value</th></tr></thead>\n",
       "<tbody>\n",
       "\t<tr><th scope=row>67</th><td>X2루타   </td><td>경기     </td><td>0.7923937</td></tr>\n",
       "\t<tr><th scope=row>167</th><td>X3루타   </td><td>도루     </td><td>0.7071550</td></tr>\n",
       "\t<tr><th scope=row>265</th><td>X2루타   </td><td>득점     </td><td>0.9220571</td></tr>\n",
       "\t<tr><th scope=row>267</th><td>경기     </td><td>득점     </td><td>0.8876075</td></tr>\n",
       "\t<tr><th scope=row>331</th><td>X2루타   </td><td>루타     </td><td>0.9519577</td></tr>\n",
       "\t<tr><th scope=row>333</th><td>경기     </td><td>루타     </td><td>0.8658514</td></tr>\n",
       "\t<tr><th scope=row>339</th><td>득점     </td><td>루타     </td><td>0.9689866</td></tr>\n",
       "\t<tr><th scope=row>364</th><td>X2루타   </td><td>멀티히트 </td><td>0.9550283</td></tr>\n",
       "\t<tr><th scope=row>366</th><td>경기     </td><td>멀티히트 </td><td>0.8392826</td></tr>\n",
       "\t<tr><th scope=row>372</th><td>득점     </td><td>멀티히트 </td><td>0.9572216</td></tr>\n",
       "\t<tr><th scope=row>374</th><td>루타     </td><td>멀티히트 </td><td>0.9666764</td></tr>\n",
       "\t<tr><th scope=row>397</th><td>X2루타   </td><td>병살타   </td><td>0.7850594</td></tr>\n",
       "\t<tr><th scope=row>399</th><td>경기     </td><td>병살타   </td><td>0.7640024</td></tr>\n",
       "\t<tr><th scope=row>405</th><td>득점     </td><td>병살타   </td><td>0.7415790</td></tr>\n",
       "\t<tr><th scope=row>407</th><td>루타     </td><td>병살타   </td><td>0.8121870</td></tr>\n",
       "\t<tr><th scope=row>408</th><td>멀티히트 </td><td>병살타   </td><td>0.7878282</td></tr>\n",
       "\t<tr><th scope=row>432</th><td>경기     </td><td>볼넷     </td><td>0.8309412</td></tr>\n",
       "\t<tr><th scope=row>438</th><td>득점     </td><td>볼넷     </td><td>0.8163403</td></tr>\n",
       "\t<tr><th scope=row>440</th><td>루타     </td><td>볼넷     </td><td>0.7776482</td></tr>\n",
       "\t<tr><th scope=row>441</th><td>멀티히트 </td><td>볼넷     </td><td>0.7043998</td></tr>\n",
       "\t<tr><th scope=row>442</th><td>병살타   </td><td>볼넷     </td><td>0.7230444</td></tr>\n",
       "\t<tr><th scope=row>463</th><td>X2루타   </td><td>사구     </td><td>0.7910997</td></tr>\n",
       "\t<tr><th scope=row>465</th><td>경기     </td><td>사구     </td><td>0.7429687</td></tr>\n",
       "\t<tr><th scope=row>471</th><td>득점     </td><td>사구     </td><td>0.7951789</td></tr>\n",
       "\t<tr><th scope=row>473</th><td>루타     </td><td>사구     </td><td>0.8350729</td></tr>\n",
       "\t<tr><th scope=row>474</th><td>멀티히트 </td><td>사구     </td><td>0.7828648</td></tr>\n",
       "\t<tr><th scope=row>475</th><td>병살타   </td><td>사구     </td><td>0.8647160</td></tr>\n",
       "\t<tr><th scope=row>476</th><td>볼넷     </td><td>사구     </td><td>0.7193995</td></tr>\n",
       "\t<tr><th scope=row>496</th><td>X2루타   </td><td>삼진     </td><td>0.7476661</td></tr>\n",
       "\t<tr><th scope=row>498</th><td>경기     </td><td>삼진     </td><td>0.7476450</td></tr>\n",
       "\t<tr><th scope=row>...</th><td>...</td><td>...</td><td>...</td></tr>\n",
       "\t<tr><th scope=row>834</th><td>득점         </td><td>홈런         </td><td>0.8138329    </td></tr>\n",
       "\t<tr><th scope=row>836</th><td>루타         </td><td>홈런         </td><td>0.8851354    </td></tr>\n",
       "\t<tr><th scope=row>837</th><td>멀티히트     </td><td>홈런         </td><td>0.7587288    </td></tr>\n",
       "\t<tr><th scope=row>840</th><td>사구         </td><td>홈런         </td><td>0.7106262    </td></tr>\n",
       "\t<tr><th scope=row>841</th><td>삼진         </td><td>홈런         </td><td>0.7979072    </td></tr>\n",
       "\t<tr><th scope=row>843</th><td>안타         </td><td>홈런         </td><td>0.7453485    </td></tr>\n",
       "\t<tr><th scope=row>844</th><td>연봉         </td><td>홈런         </td><td>0.7257873    </td></tr>\n",
       "\t<tr><th scope=row>845</th><td>장타율       </td><td>홈런         </td><td>0.7159522    </td></tr>\n",
       "\t<tr><th scope=row>848</th><td>타수         </td><td>홈런         </td><td>0.7652298    </td></tr>\n",
       "\t<tr><th scope=row>850</th><td>타점         </td><td>홈런         </td><td>0.9533265    </td></tr>\n",
       "\t<tr><th scope=row>904</th><td>병살타       </td><td>희생플라이   </td><td>0.7873405    </td></tr>\n",
       "\t<tr><th scope=row>906</th><td>사구         </td><td>희생플라이   </td><td>0.8534065    </td></tr>\n",
       "\t<tr><th scope=row>959</th><td>X3루타       </td><td>신장         </td><td>0.8081481    </td></tr>\n",
       "\t<tr><th scope=row>999</th><td>득점         </td><td>체중         </td><td>0.7237745    </td></tr>\n",
       "\t<tr><th scope=row>1001</th><td>루타         </td><td>체중         </td><td>0.7067478    </td></tr>\n",
       "\t<tr><th scope=row>1006</th><td>삼진         </td><td>체중         </td><td>0.8029138    </td></tr>\n",
       "\t<tr><th scope=row>1016</th><td>홈런         </td><td>체중         </td><td>0.7277281    </td></tr>\n",
       "\t<tr><th scope=row>1033</th><td>득점권타울   </td><td>안타.타수    </td><td>0.8255490    </td></tr>\n",
       "\t<tr><th scope=row>1043</th><td>장타율       </td><td>안타.타수    </td><td>0.8251993    </td></tr>\n",
       "\t<tr><th scope=row>1044</th><td>출루율       </td><td>안타.타수    </td><td>0.9428304    </td></tr>\n",
       "\t<tr><th scope=row>1045</th><td>출루율.장타율</td><td>안타.타수    </td><td>0.9097282    </td></tr>\n",
       "\t<tr><th scope=row>1047</th><td>타율         </td><td>안타.타수    </td><td>0.9999938    </td></tr>\n",
       "\t<tr><th scope=row>1060</th><td>고의4구      </td><td>홈런.타수    </td><td>0.7486822    </td></tr>\n",
       "\t<tr><th scope=row>1065</th><td>득점         </td><td>홈런.타수    </td><td>0.7226085    </td></tr>\n",
       "\t<tr><th scope=row>1067</th><td>루타         </td><td>홈런.타수    </td><td>0.8090915    </td></tr>\n",
       "\t<tr><th scope=row>1072</th><td>삼진         </td><td>홈런.타수    </td><td>0.7309626    </td></tr>\n",
       "\t<tr><th scope=row>1079</th><td>타수         </td><td>홈런.타수    </td><td>0.7105314    </td></tr>\n",
       "\t<tr><th scope=row>1081</th><td>타점         </td><td>홈런.타수    </td><td>0.8864652    </td></tr>\n",
       "\t<tr><th scope=row>1082</th><td>홈런         </td><td>홈런.타수    </td><td>0.9473101    </td></tr>\n",
       "\t<tr><th scope=row>1087</th><td>체중         </td><td>홈런.타수    </td><td>0.7093633    </td></tr>\n",
       "</tbody>\n",
       "</table>\n"
      ],
      "text/latex": [
       "\\begin{tabular}{r|lll}\n",
       "  & Var1 & Var2 & value\\\\\n",
       "\\hline\n",
       "\t67 & X2루타    & 경기      & 0.7923937\\\\\n",
       "\t167 & X3루타    & 도루      & 0.7071550\\\\\n",
       "\t265 & X2루타    & 득점      & 0.9220571\\\\\n",
       "\t267 & 경기      & 득점      & 0.8876075\\\\\n",
       "\t331 & X2루타    & 루타      & 0.9519577\\\\\n",
       "\t333 & 경기      & 루타      & 0.8658514\\\\\n",
       "\t339 & 득점      & 루타      & 0.9689866\\\\\n",
       "\t364 & X2루타    & 멀티히트  & 0.9550283\\\\\n",
       "\t366 & 경기      & 멀티히트  & 0.8392826\\\\\n",
       "\t372 & 득점      & 멀티히트  & 0.9572216\\\\\n",
       "\t374 & 루타      & 멀티히트  & 0.9666764\\\\\n",
       "\t397 & X2루타    & 병살타    & 0.7850594\\\\\n",
       "\t399 & 경기      & 병살타    & 0.7640024\\\\\n",
       "\t405 & 득점      & 병살타    & 0.7415790\\\\\n",
       "\t407 & 루타      & 병살타    & 0.8121870\\\\\n",
       "\t408 & 멀티히트  & 병살타    & 0.7878282\\\\\n",
       "\t432 & 경기      & 볼넷      & 0.8309412\\\\\n",
       "\t438 & 득점      & 볼넷      & 0.8163403\\\\\n",
       "\t440 & 루타      & 볼넷      & 0.7776482\\\\\n",
       "\t441 & 멀티히트  & 볼넷      & 0.7043998\\\\\n",
       "\t442 & 병살타    & 볼넷      & 0.7230444\\\\\n",
       "\t463 & X2루타    & 사구      & 0.7910997\\\\\n",
       "\t465 & 경기      & 사구      & 0.7429687\\\\\n",
       "\t471 & 득점      & 사구      & 0.7951789\\\\\n",
       "\t473 & 루타      & 사구      & 0.8350729\\\\\n",
       "\t474 & 멀티히트  & 사구      & 0.7828648\\\\\n",
       "\t475 & 병살타    & 사구      & 0.8647160\\\\\n",
       "\t476 & 볼넷      & 사구      & 0.7193995\\\\\n",
       "\t496 & X2루타    & 삼진      & 0.7476661\\\\\n",
       "\t498 & 경기      & 삼진      & 0.7476450\\\\\n",
       "\t... & ... & ... & ...\\\\\n",
       "\t834 & 득점          & 홈런          & 0.8138329    \\\\\n",
       "\t836 & 루타          & 홈런          & 0.8851354    \\\\\n",
       "\t837 & 멀티히트      & 홈런          & 0.7587288    \\\\\n",
       "\t840 & 사구          & 홈런          & 0.7106262    \\\\\n",
       "\t841 & 삼진          & 홈런          & 0.7979072    \\\\\n",
       "\t843 & 안타          & 홈런          & 0.7453485    \\\\\n",
       "\t844 & 연봉          & 홈런          & 0.7257873    \\\\\n",
       "\t845 & 장타율        & 홈런          & 0.7159522    \\\\\n",
       "\t848 & 타수          & 홈런          & 0.7652298    \\\\\n",
       "\t850 & 타점          & 홈런          & 0.9533265    \\\\\n",
       "\t904 & 병살타        & 희생플라이    & 0.7873405    \\\\\n",
       "\t906 & 사구          & 희생플라이    & 0.8534065    \\\\\n",
       "\t959 & X3루타        & 신장          & 0.8081481    \\\\\n",
       "\t999 & 득점          & 체중          & 0.7237745    \\\\\n",
       "\t1001 & 루타          & 체중          & 0.7067478    \\\\\n",
       "\t1006 & 삼진          & 체중          & 0.8029138    \\\\\n",
       "\t1016 & 홈런          & 체중          & 0.7277281    \\\\\n",
       "\t1033 & 득점권타울    & 안타.타수     & 0.8255490    \\\\\n",
       "\t1043 & 장타율        & 안타.타수     & 0.8251993    \\\\\n",
       "\t1044 & 출루율        & 안타.타수     & 0.9428304    \\\\\n",
       "\t1045 & 출루율.장타율 & 안타.타수     & 0.9097282    \\\\\n",
       "\t1047 & 타율          & 안타.타수     & 0.9999938    \\\\\n",
       "\t1060 & 고의4구       & 홈런.타수     & 0.7486822    \\\\\n",
       "\t1065 & 득점          & 홈런.타수     & 0.7226085    \\\\\n",
       "\t1067 & 루타          & 홈런.타수     & 0.8090915    \\\\\n",
       "\t1072 & 삼진          & 홈런.타수     & 0.7309626    \\\\\n",
       "\t1079 & 타수          & 홈런.타수     & 0.7105314    \\\\\n",
       "\t1081 & 타점          & 홈런.타수     & 0.8864652    \\\\\n",
       "\t1082 & 홈런          & 홈런.타수     & 0.9473101    \\\\\n",
       "\t1087 & 체중          & 홈런.타수     & 0.7093633    \\\\\n",
       "\\end{tabular}\n"
      ],
      "text/markdown": [
       "\n",
       "| <!--/--> | Var1 | Var2 | value |\n",
       "|---|---|---|---|\n",
       "| 67 | X2루타    | 경기      | 0.7923937 |\n",
       "| 167 | X3루타    | 도루      | 0.7071550 |\n",
       "| 265 | X2루타    | 득점      | 0.9220571 |\n",
       "| 267 | 경기      | 득점      | 0.8876075 |\n",
       "| 331 | X2루타    | 루타      | 0.9519577 |\n",
       "| 333 | 경기      | 루타      | 0.8658514 |\n",
       "| 339 | 득점      | 루타      | 0.9689866 |\n",
       "| 364 | X2루타    | 멀티히트  | 0.9550283 |\n",
       "| 366 | 경기      | 멀티히트  | 0.8392826 |\n",
       "| 372 | 득점      | 멀티히트  | 0.9572216 |\n",
       "| 374 | 루타      | 멀티히트  | 0.9666764 |\n",
       "| 397 | X2루타    | 병살타    | 0.7850594 |\n",
       "| 399 | 경기      | 병살타    | 0.7640024 |\n",
       "| 405 | 득점      | 병살타    | 0.7415790 |\n",
       "| 407 | 루타      | 병살타    | 0.8121870 |\n",
       "| 408 | 멀티히트  | 병살타    | 0.7878282 |\n",
       "| 432 | 경기      | 볼넷      | 0.8309412 |\n",
       "| 438 | 득점      | 볼넷      | 0.8163403 |\n",
       "| 440 | 루타      | 볼넷      | 0.7776482 |\n",
       "| 441 | 멀티히트  | 볼넷      | 0.7043998 |\n",
       "| 442 | 병살타    | 볼넷      | 0.7230444 |\n",
       "| 463 | X2루타    | 사구      | 0.7910997 |\n",
       "| 465 | 경기      | 사구      | 0.7429687 |\n",
       "| 471 | 득점      | 사구      | 0.7951789 |\n",
       "| 473 | 루타      | 사구      | 0.8350729 |\n",
       "| 474 | 멀티히트  | 사구      | 0.7828648 |\n",
       "| 475 | 병살타    | 사구      | 0.8647160 |\n",
       "| 476 | 볼넷      | 사구      | 0.7193995 |\n",
       "| 496 | X2루타    | 삼진      | 0.7476661 |\n",
       "| 498 | 경기      | 삼진      | 0.7476450 |\n",
       "| ... | ... | ... | ... |\n",
       "| 834 | 득점          | 홈런          | 0.8138329     |\n",
       "| 836 | 루타          | 홈런          | 0.8851354     |\n",
       "| 837 | 멀티히트      | 홈런          | 0.7587288     |\n",
       "| 840 | 사구          | 홈런          | 0.7106262     |\n",
       "| 841 | 삼진          | 홈런          | 0.7979072     |\n",
       "| 843 | 안타          | 홈런          | 0.7453485     |\n",
       "| 844 | 연봉          | 홈런          | 0.7257873     |\n",
       "| 845 | 장타율        | 홈런          | 0.7159522     |\n",
       "| 848 | 타수          | 홈런          | 0.7652298     |\n",
       "| 850 | 타점          | 홈런          | 0.9533265     |\n",
       "| 904 | 병살타        | 희생플라이    | 0.7873405     |\n",
       "| 906 | 사구          | 희생플라이    | 0.8534065     |\n",
       "| 959 | X3루타        | 신장          | 0.8081481     |\n",
       "| 999 | 득점          | 체중          | 0.7237745     |\n",
       "| 1001 | 루타          | 체중          | 0.7067478     |\n",
       "| 1006 | 삼진          | 체중          | 0.8029138     |\n",
       "| 1016 | 홈런          | 체중          | 0.7277281     |\n",
       "| 1033 | 득점권타울    | 안타.타수     | 0.8255490     |\n",
       "| 1043 | 장타율        | 안타.타수     | 0.8251993     |\n",
       "| 1044 | 출루율        | 안타.타수     | 0.9428304     |\n",
       "| 1045 | 출루율.장타율 | 안타.타수     | 0.9097282     |\n",
       "| 1047 | 타율          | 안타.타수     | 0.9999938     |\n",
       "| 1060 | 고의4구       | 홈런.타수     | 0.7486822     |\n",
       "| 1065 | 득점          | 홈런.타수     | 0.7226085     |\n",
       "| 1067 | 루타          | 홈런.타수     | 0.8090915     |\n",
       "| 1072 | 삼진          | 홈런.타수     | 0.7309626     |\n",
       "| 1079 | 타수          | 홈런.타수     | 0.7105314     |\n",
       "| 1081 | 타점          | 홈런.타수     | 0.8864652     |\n",
       "| 1082 | 홈런          | 홈런.타수     | 0.9473101     |\n",
       "| 1087 | 체중          | 홈런.타수     | 0.7093633     |\n",
       "\n"
      ],
      "text/plain": [
       "     Var1          Var2       value    \n",
       "67   X2루타        경기       0.7923937\n",
       "167  X3루타        도루       0.7071550\n",
       "265  X2루타        득점       0.9220571\n",
       "267  경기          득점       0.8876075\n",
       "331  X2루타        루타       0.9519577\n",
       "333  경기          루타       0.8658514\n",
       "339  득점          루타       0.9689866\n",
       "364  X2루타        멀티히트   0.9550283\n",
       "366  경기          멀티히트   0.8392826\n",
       "372  득점          멀티히트   0.9572216\n",
       "374  루타          멀티히트   0.9666764\n",
       "397  X2루타        병살타     0.7850594\n",
       "399  경기          병살타     0.7640024\n",
       "405  득점          병살타     0.7415790\n",
       "407  루타          병살타     0.8121870\n",
       "408  멀티히트      병살타     0.7878282\n",
       "432  경기          볼넷       0.8309412\n",
       "438  득점          볼넷       0.8163403\n",
       "440  루타          볼넷       0.7776482\n",
       "441  멀티히트      볼넷       0.7043998\n",
       "442  병살타        볼넷       0.7230444\n",
       "463  X2루타        사구       0.7910997\n",
       "465  경기          사구       0.7429687\n",
       "471  득점          사구       0.7951789\n",
       "473  루타          사구       0.8350729\n",
       "474  멀티히트      사구       0.7828648\n",
       "475  병살타        사구       0.8647160\n",
       "476  볼넷          사구       0.7193995\n",
       "496  X2루타        삼진       0.7476661\n",
       "498  경기          삼진       0.7476450\n",
       "...  ...           ...        ...      \n",
       "834  득점          홈런       0.8138329\n",
       "836  루타          홈런       0.8851354\n",
       "837  멀티히트      홈런       0.7587288\n",
       "840  사구          홈런       0.7106262\n",
       "841  삼진          홈런       0.7979072\n",
       "843  안타          홈런       0.7453485\n",
       "844  연봉          홈런       0.7257873\n",
       "845  장타율        홈런       0.7159522\n",
       "848  타수          홈런       0.7652298\n",
       "850  타점          홈런       0.9533265\n",
       "904  병살타        희생플라이 0.7873405\n",
       "906  사구          희생플라이 0.8534065\n",
       "959  X3루타        신장       0.8081481\n",
       "999  득점          체중       0.7237745\n",
       "1001 루타          체중       0.7067478\n",
       "1006 삼진          체중       0.8029138\n",
       "1016 홈런          체중       0.7277281\n",
       "1033 득점권타울    안타.타수  0.8255490\n",
       "1043 장타율        안타.타수  0.8251993\n",
       "1044 출루율        안타.타수  0.9428304\n",
       "1045 출루율.장타율 안타.타수  0.9097282\n",
       "1047 타율          안타.타수  0.9999938\n",
       "1060 고의4구       홈런.타수  0.7486822\n",
       "1065 득점          홈런.타수  0.7226085\n",
       "1067 루타          홈런.타수  0.8090915\n",
       "1072 삼진          홈런.타수  0.7309626\n",
       "1079 타수          홈런.타수  0.7105314\n",
       "1081 타점          홈런.타수  0.8864652\n",
       "1082 홈런          홈런.타수  0.9473101\n",
       "1087 체중          홈런.타수  0.7093633"
      ]
     },
     "metadata": {},
     "output_type": "display_data"
    },
    {
     "data": {
      "text/html": [
       "<table>\n",
       "<thead><tr><th scope=col>Var1</th><th scope=col>Var2</th><th scope=col>value</th></tr></thead>\n",
       "<tbody>\n",
       "</tbody>\n",
       "</table>\n"
      ],
      "text/latex": [
       "\\begin{tabular}{r|lll}\n",
       " Var1 & Var2 & value\\\\\n",
       "\\hline\n",
       "\\end{tabular}\n"
      ],
      "text/markdown": [
       "\n",
       "| Var1 | Var2 | value |\n",
       "|---|---|---|\n",
       "\n"
      ],
      "text/plain": [
       "     Var1 Var2 value"
      ]
     },
     "metadata": {},
     "output_type": "display_data"
    }
   ],
   "source": [
    "CM = cor(batters)\n",
    "CM[lower.tri(CM, diag = TRUE)] = NA\n",
    "subset(melt(CM, na.rm = TRUE), value >= .70)\n",
    "subset(melt(CM, na.rm = TRUE), value <= -.70)"
   ]
  },
  {
   "cell_type": "markdown",
   "metadata": {},
   "source": [
    "## 다중회귀분석"
   ]
  },
  {
   "cell_type": "code",
   "execution_count": 57,
   "metadata": {},
   "outputs": [
    {
     "data": {
      "text/plain": [
       "\n",
       "Call:\n",
       "lm(formula = 연봉 ~ ., data = batters)\n",
       "\n",
       "Residuals:\n",
       "       Min         1Q     Median         3Q        Max \n",
       "-1.151e-15 -2.841e-16  0.000e+00  2.841e-16  1.151e-15 \n",
       "\n",
       "Coefficients: (16 not defined because of singularities)\n",
       "                Estimate Std. Error    t value Pr(>|t|)    \n",
       "(Intercept)    3.966e+00  1.729e-14  2.294e+14   <2e-16 ***\n",
       "X2루타        -8.044e+00  3.575e-14 -2.250e+14   <2e-16 ***\n",
       "X3루타        -6.895e-01  1.476e-15 -4.672e+14   <2e-16 ***\n",
       "경기           2.668e+00  1.189e-14  2.244e+14   <2e-16 ***\n",
       "고의4구        7.804e-01  3.859e-15  2.023e+14   <2e-16 ***\n",
       "대타타율      -1.828e-01  2.139e-15 -8.548e+13   <2e-16 ***\n",
       "도루           1.612e+00  3.695e-15  4.362e+14   <2e-16 ***\n",
       "도루성공률    -3.869e+00  1.659e-14 -2.332e+14   <2e-16 ***\n",
       "도루실패      -5.731e+00  2.386e-14 -2.402e+14   <2e-16 ***\n",
       "득점           4.036e+00  1.858e-14  2.172e+14   <2e-16 ***\n",
       "득점권타울    -5.163e-01  1.407e-15 -3.670e+14   <2e-16 ***\n",
       "루타          -1.177e+01  4.466e-14 -2.635e+14   <2e-16 ***\n",
       "멀티히트       1.429e+01  5.774e-14  2.475e+14   <2e-16 ***\n",
       "병살타        -1.883e+00  7.710e-15 -2.442e+14   <2e-16 ***\n",
       "볼넷          -3.853e+00  1.879e-14 -2.050e+14   <2e-16 ***\n",
       "사구           3.181e+00  1.375e-14  2.314e+14   <2e-16 ***\n",
       "삼진           5.922e-01  3.169e-15  1.869e+14   <2e-16 ***\n",
       "실책                  NA         NA         NA       NA    \n",
       "안타                  NA         NA         NA       NA    \n",
       "장타율                NA         NA         NA       NA    \n",
       "출루율                NA         NA         NA       NA    \n",
       "출루율.장타율         NA         NA         NA       NA    \n",
       "타수                  NA         NA         NA       NA    \n",
       "타율                  NA         NA         NA       NA    \n",
       "타점                  NA         NA         NA       NA    \n",
       "홈런                  NA         NA         NA       NA    \n",
       "희생번트              NA         NA         NA       NA    \n",
       "희생플라이            NA         NA         NA       NA    \n",
       "나이                  NA         NA         NA       NA    \n",
       "신장                  NA         NA         NA       NA    \n",
       "체중                  NA         NA         NA       NA    \n",
       "안타.타수             NA         NA         NA       NA    \n",
       "홈런.타수             NA         NA         NA       NA    \n",
       "---\n",
       "Signif. codes:  0 '***' 0.001 '**' 0.01 '*' 0.05 '.' 0.1 ' ' 1\n",
       "\n",
       "Residual standard error: 5.67e-16 on 15 degrees of freedom\n",
       "Multiple R-squared:      1,\tAdjusted R-squared:      1 \n",
       "F-statistic: 3.96e+29 on 16 and 15 DF,  p-value: < 2.2e-16\n"
      ]
     },
     "metadata": {},
     "output_type": "display_data"
    }
   ],
   "source": [
    "salary_model = lm(연봉 ~ ., data=batters)\n",
    "summary(salary_model)"
   ]
  },
  {
   "cell_type": "markdown",
   "metadata": {},
   "source": [
    "데이터가 적어서 결과가 잘 나오지 않는다"
   ]
  },
  {
   "cell_type": "markdown",
   "metadata": {},
   "source": [
    "## PCA 분석"
   ]
  },
  {
   "cell_type": "code",
   "execution_count": 58,
   "metadata": {},
   "outputs": [
    {
     "data": {
      "text/plain": [
       "Importance of components:\n",
       "                         PC1    PC2     PC3     PC4     PC5     PC6     PC7\n",
       "Standard deviation     3.943 2.1489 1.66119 1.51690 1.22882 1.19695 1.03012\n",
       "Proportion of Variance 0.486 0.1443 0.08624 0.07191 0.04719 0.04477 0.03316\n",
       "Cumulative Proportion  0.486 0.6303 0.71652 0.78842 0.83561 0.88038 0.91354\n",
       "                           PC8     PC9   PC10    PC11    PC12    PC13    PC14\n",
       "Standard deviation     0.91513 0.82429 0.6171 0.49272 0.47425 0.42184 0.35456\n",
       "Proportion of Variance 0.02617 0.02123 0.0119 0.00759 0.00703 0.00556 0.00393\n",
       "Cumulative Proportion  0.93971 0.96095 0.9728 0.98043 0.98746 0.99302 0.99695\n",
       "                          PC15    PC16      PC17      PC18      PC19      PC20\n",
       "Standard deviation     0.27036 0.15648 3.472e-16 3.472e-16 3.472e-16 3.472e-16\n",
       "Proportion of Variance 0.00228 0.00077 0.000e+00 0.000e+00 0.000e+00 0.000e+00\n",
       "Cumulative Proportion  0.99923 1.00000 1.000e+00 1.000e+00 1.000e+00 1.000e+00\n",
       "                            PC21      PC22      PC23      PC24      PC25\n",
       "Standard deviation     3.472e-16 3.472e-16 3.472e-16 3.472e-16 3.472e-16\n",
       "Proportion of Variance 0.000e+00 0.000e+00 0.000e+00 0.000e+00 0.000e+00\n",
       "Cumulative Proportion  1.000e+00 1.000e+00 1.000e+00 1.000e+00 1.000e+00\n",
       "                            PC26      PC27      PC28      PC29      PC30\n",
       "Standard deviation     3.472e-16 3.472e-16 3.472e-16 3.472e-16 3.472e-16\n",
       "Proportion of Variance 0.000e+00 0.000e+00 0.000e+00 0.000e+00 0.000e+00\n",
       "Cumulative Proportion  1.000e+00 1.000e+00 1.000e+00 1.000e+00 1.000e+00\n",
       "                            PC31      PC32\n",
       "Standard deviation     3.472e-16 1.401e-16\n",
       "Proportion of Variance 0.000e+00 0.000e+00\n",
       "Cumulative Proportion  1.000e+00 1.000e+00"
      ]
     },
     "metadata": {},
     "output_type": "display_data"
    }
   ],
   "source": [
    "batters_pca = prcomp(batters[,!(names(batters) == c('연봉'))], center=TRUE, scale=TRUE)\n",
    "\n",
    "summary(batters_pca)"
   ]
  },
  {
   "cell_type": "code",
   "execution_count": 59,
   "metadata": {},
   "outputs": [
    {
     "data": {
      "image/png": "[encoded data removed]",
      "text/plain": [
       "Plot with title \"batters_pca\""
      ]
     },
     "metadata": {},
     "output_type": "display_data"
    }
   ],
   "source": [
    "plot(batters_pca, type = \"l\")"
   ]
  },
  {
   "cell_type": "markdown",
   "metadata": {},
   "source": [
    "각 Principal Component에 따른 데이터의 분산을 그려보았다(분산이 클수록 해당 주성분이 데이터의 분포를 많이 설명한다는 뜻이다)."
   ]
  },
  {
   "cell_type": "code",
   "execution_count": 71,
   "metadata": {},
   "outputs": [
    {
     "data": {
      "text/html": [
       "<table>\n",
       "<thead><tr><th></th><th scope=col>PC1</th><th scope=col>PC2</th></tr></thead>\n",
       "<tbody>\n",
       "\t<tr><th scope=row>X2루타</th><td>-0.230758619</td><td> 0.018545885</td></tr>\n",
       "\t<tr><th scope=row>X3루타</th><td>-0.150289080</td><td> 0.122263206</td></tr>\n",
       "\t<tr><th scope=row>경기</th><td>-0.215563430</td><td> 0.193817894</td></tr>\n",
       "\t<tr><th scope=row>고의4구</th><td>-0.176866626</td><td>-0.009891932</td></tr>\n",
       "\t<tr><th scope=row>대타타율</th><td>-0.077886494</td><td>-0.283016835</td></tr>\n",
       "\t<tr><th scope=row>도루</th><td>-0.093133330</td><td> 0.140648658</td></tr>\n",
       "\t<tr><th scope=row>도루성공률</th><td> 0.077904545</td><td>-0.013518026</td></tr>\n",
       "\t<tr><th scope=row>도루실패</th><td>-0.070426562</td><td> 0.174136793</td></tr>\n",
       "\t<tr><th scope=row>득점</th><td>-0.241270733</td><td> 0.077701696</td></tr>\n",
       "\t<tr><th scope=row>득점권타울</th><td>-0.082431049</td><td>-0.351589837</td></tr>\n",
       "\t<tr><th scope=row>루타</th><td>-0.248479333</td><td> 0.054060550</td></tr>\n",
       "\t<tr><th scope=row>멀티히트</th><td>-0.239132426</td><td> 0.047622981</td></tr>\n",
       "\t<tr><th scope=row>병살타</th><td>-0.211355815</td><td> 0.033896048</td></tr>\n",
       "\t<tr><th scope=row>볼넷</th><td>-0.205658120</td><td> 0.071839415</td></tr>\n",
       "\t<tr><th scope=row>사구</th><td>-0.214654117</td><td> 0.041132427</td></tr>\n",
       "\t<tr><th scope=row>삼진</th><td>-0.202984140</td><td> 0.127561121</td></tr>\n",
       "\t<tr><th scope=row>실책</th><td>-0.045024737</td><td>-0.046007562</td></tr>\n",
       "\t<tr><th scope=row>안타</th><td>-0.242913650</td><td> 0.057493630</td></tr>\n",
       "\t<tr><th scope=row>장타율</th><td>-0.195397338</td><td>-0.257742649</td></tr>\n",
       "\t<tr><th scope=row>출루율</th><td>-0.134813774</td><td>-0.358432732</td></tr>\n",
       "\t<tr><th scope=row>출루율.장타율</th><td>-0.179773926</td><td>-0.309914947</td></tr>\n",
       "\t<tr><th scope=row>타수</th><td>-0.241705533</td><td> 0.100674323</td></tr>\n",
       "\t<tr><th scope=row>타율</th><td>-0.125628446</td><td>-0.379563229</td></tr>\n",
       "\t<tr><th scope=row>타점</th><td>-0.241610073</td><td> 0.045167221</td></tr>\n",
       "\t<tr><th scope=row>홈런</th><td>-0.217089172</td><td> 0.038746844</td></tr>\n",
       "\t<tr><th scope=row>희생번트</th><td> 0.006705339</td><td> 0.158917792</td></tr>\n",
       "\t<tr><th scope=row>희생플라이</th><td>-0.164629184</td><td> 0.041594324</td></tr>\n",
       "\t<tr><th scope=row>나이</th><td>-0.117145100</td><td> 0.098985762</td></tr>\n",
       "\t<tr><th scope=row>신장</th><td>-0.076141673</td><td> 0.028451946</td></tr>\n",
       "\t<tr><th scope=row>체중</th><td>-0.173857784</td><td> 0.129861197</td></tr>\n",
       "\t<tr><th scope=row>안타.타수</th><td>-0.125381691</td><td>-0.379869280</td></tr>\n",
       "\t<tr><th scope=row>홈런.타수</th><td>-0.201088315</td><td> 0.068290476</td></tr>\n",
       "</tbody>\n",
       "</table>\n"
      ],
      "text/latex": [
       "\\begin{tabular}{r|ll}\n",
       "  & PC1 & PC2\\\\\n",
       "\\hline\n",
       "\tX2루타 & -0.230758619 &  0.018545885\\\\\n",
       "\tX3루타 & -0.150289080 &  0.122263206\\\\\n",
       "\t경기 & -0.215563430 &  0.193817894\\\\\n",
       "\t고의4구 & -0.176866626 & -0.009891932\\\\\n",
       "\t대타타율 & -0.077886494 & -0.283016835\\\\\n",
       "\t도루 & -0.093133330 &  0.140648658\\\\\n",
       "\t도루성공률 &  0.077904545 & -0.013518026\\\\\n",
       "\t도루실패 & -0.070426562 &  0.174136793\\\\\n",
       "\t득점 & -0.241270733 &  0.077701696\\\\\n",
       "\t득점권타울 & -0.082431049 & -0.351589837\\\\\n",
       "\t루타 & -0.248479333 &  0.054060550\\\\\n",
       "\t멀티히트 & -0.239132426 &  0.047622981\\\\\n",
       "\t병살타 & -0.211355815 &  0.033896048\\\\\n",
       "\t볼넷 & -0.205658120 &  0.071839415\\\\\n",
       "\t사구 & -0.214654117 &  0.041132427\\\\\n",
       "\t삼진 & -0.202984140 &  0.127561121\\\\\n",
       "\t실책 & -0.045024737 & -0.046007562\\\\\n",
       "\t안타 & -0.242913650 &  0.057493630\\\\\n",
       "\t장타율 & -0.195397338 & -0.257742649\\\\\n",
       "\t출루율 & -0.134813774 & -0.358432732\\\\\n",
       "\t출루율.장타율 & -0.179773926 & -0.309914947\\\\\n",
       "\t타수 & -0.241705533 &  0.100674323\\\\\n",
       "\t타율 & -0.125628446 & -0.379563229\\\\\n",
       "\t타점 & -0.241610073 &  0.045167221\\\\\n",
       "\t홈런 & -0.217089172 &  0.038746844\\\\\n",
       "\t희생번트 &  0.006705339 &  0.158917792\\\\\n",
       "\t희생플라이 & -0.164629184 &  0.041594324\\\\\n",
       "\t나이 & -0.117145100 &  0.098985762\\\\\n",
       "\t신장 & -0.076141673 &  0.028451946\\\\\n",
       "\t체중 & -0.173857784 &  0.129861197\\\\\n",
       "\t안타.타수 & -0.125381691 & -0.379869280\\\\\n",
       "\t홈런.타수 & -0.201088315 &  0.068290476\\\\\n",
       "\\end{tabular}\n"
      ],
      "text/markdown": [
       "\n",
       "| <!--/--> | PC1 | PC2 |\n",
       "|---|---|---|\n",
       "| X2루타 | -0.230758619 |  0.018545885 |\n",
       "| X3루타 | -0.150289080 |  0.122263206 |\n",
       "| 경기 | -0.215563430 |  0.193817894 |\n",
       "| 고의4구 | -0.176866626 | -0.009891932 |\n",
       "| 대타타율 | -0.077886494 | -0.283016835 |\n",
       "| 도루 | -0.093133330 |  0.140648658 |\n",
       "| 도루성공률 |  0.077904545 | -0.013518026 |\n",
       "| 도루실패 | -0.070426562 |  0.174136793 |\n",
       "| 득점 | -0.241270733 |  0.077701696 |\n",
       "| 득점권타울 | -0.082431049 | -0.351589837 |\n",
       "| 루타 | -0.248479333 |  0.054060550 |\n",
       "| 멀티히트 | -0.239132426 |  0.047622981 |\n",
       "| 병살타 | -0.211355815 |  0.033896048 |\n",
       "| 볼넷 | -0.205658120 |  0.071839415 |\n",
       "| 사구 | -0.214654117 |  0.041132427 |\n",
       "| 삼진 | -0.202984140 |  0.127561121 |\n",
       "| 실책 | -0.045024737 | -0.046007562 |\n",
       "| 안타 | -0.242913650 |  0.057493630 |\n",
       "| 장타율 | -0.195397338 | -0.257742649 |\n",
       "| 출루율 | -0.134813774 | -0.358432732 |\n",
       "| 출루율.장타율 | -0.179773926 | -0.309914947 |\n",
       "| 타수 | -0.241705533 |  0.100674323 |\n",
       "| 타율 | -0.125628446 | -0.379563229 |\n",
       "| 타점 | -0.241610073 |  0.045167221 |\n",
       "| 홈런 | -0.217089172 |  0.038746844 |\n",
       "| 희생번트 |  0.006705339 |  0.158917792 |\n",
       "| 희생플라이 | -0.164629184 |  0.041594324 |\n",
       "| 나이 | -0.117145100 |  0.098985762 |\n",
       "| 신장 | -0.076141673 |  0.028451946 |\n",
       "| 체중 | -0.173857784 |  0.129861197 |\n",
       "| 안타.타수 | -0.125381691 | -0.379869280 |\n",
       "| 홈런.타수 | -0.201088315 |  0.068290476 |\n",
       "\n"
      ],
      "text/plain": [
       "              PC1          PC2         \n",
       "X2루타        -0.230758619  0.018545885\n",
       "X3루타        -0.150289080  0.122263206\n",
       "경기          -0.215563430  0.193817894\n",
       "고의4구       -0.176866626 -0.009891932\n",
       "대타타율      -0.077886494 -0.283016835\n",
       "도루          -0.093133330  0.140648658\n",
       "도루성공률     0.077904545 -0.013518026\n",
       "도루실패      -0.070426562  0.174136793\n",
       "득점          -0.241270733  0.077701696\n",
       "득점권타울    -0.082431049 -0.351589837\n",
       "루타          -0.248479333  0.054060550\n",
       "멀티히트      -0.239132426  0.047622981\n",
       "병살타        -0.211355815  0.033896048\n",
       "볼넷          -0.205658120  0.071839415\n",
       "사구          -0.214654117  0.041132427\n",
       "삼진          -0.202984140  0.127561121\n",
       "실책          -0.045024737 -0.046007562\n",
       "안타          -0.242913650  0.057493630\n",
       "장타율        -0.195397338 -0.257742649\n",
       "출루율        -0.134813774 -0.358432732\n",
       "출루율.장타율 -0.179773926 -0.309914947\n",
       "타수          -0.241705533  0.100674323\n",
       "타율          -0.125628446 -0.379563229\n",
       "타점          -0.241610073  0.045167221\n",
       "홈런          -0.217089172  0.038746844\n",
       "희생번트       0.006705339  0.158917792\n",
       "희생플라이    -0.164629184  0.041594324\n",
       "나이          -0.117145100  0.098985762\n",
       "신장          -0.076141673  0.028451946\n",
       "체중          -0.173857784  0.129861197\n",
       "안타.타수     -0.125381691 -0.379869280\n",
       "홈런.타수     -0.201088315  0.068290476"
      ]
     },
     "metadata": {},
     "output_type": "display_data"
    }
   ],
   "source": [
    "batters_pca$rotation[, 1:2]"
   ]
  },
  {
   "cell_type": "code",
   "execution_count": 27,
   "metadata": {},
   "outputs": [
    {
     "name": "stderr",
     "output_type": "stream",
     "text": [
      "also installing the dependencies 'utf8', 'sys', 'BH', 'pillar', 'pkgconfig', 'vctrs', 'askpass', 'credentials', 'zip', 'gitcreds', 'ini', 'lazyeval', 'later', 'highr', 'markdown', 'xfun', 'diffobj', 'rematch2', 'tibble', 'clipr', 'curl', 'fs', 'gert', 'gh', 'lifecycle', 'purrr', 'rappdirs', 'rprojroot', 'whisker', 'yaml', 'processx', 'R6', 'assertthat', 'fansi', 'rex', 'htmlwidgets', 'crosstalk', 'promises', 'mime', 'openssl', 'prettyunits', 'xopen', 'brew', 'commonmark', 'knitr', 'xml2', 'brio', 'praise', 'ps', 'waldo', 'usethis', 'callr', 'cli', 'covr', 'desc', 'DT', 'ellipsis', 'httr', 'jsonlite', 'memoise', 'pkgbuild', 'pkgload', 'rcmdcheck', 'remotes', 'rlang', 'roxygen2', 'rstudioapi', 'rversions', 'sessioninfo', 'testthat', 'withr'\n",
      "\n"
     ]
    },
    {
     "name": "stdout",
     "output_type": "stream",
     "text": [
      "package 'utf8' successfully unpacked and MD5 sums checked\n",
      "package 'sys' successfully unpacked and MD5 sums checked\n",
      "package 'BH' successfully unpacked and MD5 sums checked\n",
      "package 'pillar' successfully unpacked and MD5 sums checked\n",
      "package 'pkgconfig' successfully unpacked and MD5 sums checked\n",
      "package 'vctrs' successfully unpacked and MD5 sums checked\n",
      "package 'askpass' successfully unpacked and MD5 sums checked\n",
      "package 'credentials' successfully unpacked and MD5 sums checked\n",
      "package 'zip' successfully unpacked and MD5 sums checked\n",
      "package 'gitcreds' successfully unpacked and MD5 sums checked\n",
      "package 'ini' successfully unpacked and MD5 sums checked\n",
      "package 'lazyeval' successfully unpacked and MD5 sums checked\n",
      "package 'later' successfully unpacked and MD5 sums checked\n",
      "package 'highr' successfully unpacked and MD5 sums checked\n",
      "package 'markdown' successfully unpacked and MD5 sums checked\n",
      "package 'xfun' successfully unpacked and MD5 sums checked\n",
      "package 'diffobj' successfully unpacked and MD5 sums checked\n",
      "package 'rematch2' successfully unpacked and MD5 sums checked\n",
      "package 'tibble' successfully unpacked and MD5 sums checked\n",
      "package 'clipr' successfully unpacked and MD5 sums checked\n",
      "package 'curl' successfully unpacked and MD5 sums checked\n",
      "package 'fs' successfully unpacked and MD5 sums checked\n",
      "package 'gert' successfully unpacked and MD5 sums checked\n",
      "package 'gh' successfully unpacked and MD5 sums checked\n",
      "package 'lifecycle' successfully unpacked and MD5 sums checked\n",
      "package 'purrr' successfully unpacked and MD5 sums checked\n",
      "package 'rappdirs' successfully unpacked and MD5 sums checked\n",
      "package 'rprojroot' successfully unpacked and MD5 sums checked\n",
      "package 'whisker' successfully unpacked and MD5 sums checked\n",
      "package 'yaml' successfully unpacked and MD5 sums checked\n",
      "package 'processx' successfully unpacked and MD5 sums checked\n",
      "package 'R6' successfully unpacked and MD5 sums checked\n",
      "package 'assertthat' successfully unpacked and MD5 sums checked\n",
      "package 'fansi' successfully unpacked and MD5 sums checked\n",
      "package 'rex' successfully unpacked and MD5 sums checked\n",
      "package 'htmlwidgets' successfully unpacked and MD5 sums checked\n",
      "package 'crosstalk' successfully unpacked and MD5 sums checked\n",
      "package 'promises' successfully unpacked and MD5 sums checked\n",
      "package 'mime' successfully unpacked and MD5 sums checked\n",
      "package 'openssl' successfully unpacked and MD5 sums checked\n",
      "package 'prettyunits' successfully unpacked and MD5 sums checked\n",
      "package 'xopen' successfully unpacked and MD5 sums checked\n",
      "package 'brew' successfully unpacked and MD5 sums checked\n",
      "package 'commonmark' successfully unpacked and MD5 sums checked\n",
      "package 'knitr' successfully unpacked and MD5 sums checked\n",
      "package 'xml2' successfully unpacked and MD5 sums checked\n",
      "package 'brio' successfully unpacked and MD5 sums checked\n",
      "package 'praise' successfully unpacked and MD5 sums checked\n",
      "package 'ps' successfully unpacked and MD5 sums checked\n",
      "package 'waldo' successfully unpacked and MD5 sums checked\n",
      "package 'usethis' successfully unpacked and MD5 sums checked\n",
      "package 'callr' successfully unpacked and MD5 sums checked\n",
      "package 'cli' successfully unpacked and MD5 sums checked\n",
      "package 'covr' successfully unpacked and MD5 sums checked\n",
      "package 'desc' successfully unpacked and MD5 sums checked\n",
      "package 'DT' successfully unpacked and MD5 sums checked\n",
      "package 'ellipsis' successfully unpacked and MD5 sums checked\n",
      "package 'httr' successfully unpacked and MD5 sums checked\n",
      "package 'jsonlite' successfully unpacked and MD5 sums checked\n"
     ]
    },
    {
     "name": "stderr",
     "output_type": "stream",
     "text": [
      "Warning message:\n",
      "\"cannot remove prior installation of package 'jsonlite'\"Warning message in file.copy(savedcopy, lib, recursive = TRUE):\n",
      "\"C:\\Users\\user\\anaconda3\\Lib\\R\\library\\00LOCK\\jsonlite\\libs\\x64\\jsonlite.dll를 C:\\Users\\user\\anaconda3\\Lib\\R\\library\\jsonlite\\libs\\x64\\jsonlite.dll로 복사하는데 문제가 발생했습니다: Permission denied\"Warning message:\n",
      "\"restored 'jsonlite'\""
     ]
    },
    {
     "name": "stdout",
     "output_type": "stream",
     "text": [
      "package 'memoise' successfully unpacked and MD5 sums checked\n",
      "package 'pkgbuild' successfully unpacked and MD5 sums checked\n",
      "package 'pkgload' successfully unpacked and MD5 sums checked\n",
      "package 'rcmdcheck' successfully unpacked and MD5 sums checked\n",
      "package 'remotes' successfully unpacked and MD5 sums checked\n",
      "package 'rlang' successfully unpacked and MD5 sums checked\n",
      "package 'roxygen2' successfully unpacked and MD5 sums checked\n",
      "package 'rstudioapi' successfully unpacked and MD5 sums checked\n",
      "package 'rversions' successfully unpacked and MD5 sums checked\n",
      "package 'sessioninfo' successfully unpacked and MD5 sums checked\n",
      "package 'testthat' successfully unpacked and MD5 sums checked\n",
      "package 'withr' successfully unpacked and MD5 sums checked\n",
      "package 'devtools' successfully unpacked and MD5 sums checked\n",
      "\n",
      "The downloaded binary packages are in\n",
      "\tC:\\Users\\user\\AppData\\Local\\Temp\\RtmpekTpzm\\downloaded_packages\n"
     ]
    }
   ],
   "source": [
    "install.packages(\"devtools\")"
   ]
  },
  {
   "cell_type": "code",
   "execution_count": 60,
   "metadata": {},
   "outputs": [
    {
     "name": "stderr",
     "output_type": "stream",
     "text": [
      "Warning message:\n",
      "\"package 'devtools' was built under R version 3.6.3\"Loading required package: usethis\n",
      "Warning message:\n",
      "\"package 'usethis' was built under R version 3.6.3\"Error: package or namespace load failed for 'usethis' in loadNamespace(j <- i[[1L]], c(lib.loc, .libPaths()), versionCheck = vI[[j]]):\n",
      " there is no package called 'glue'\n"
     ]
    },
    {
     "ename": "ERROR",
     "evalue": "Error: package 'usethis' could not be loaded\n",
     "output_type": "error",
     "traceback": [
      "Error: package 'usethis' could not be loaded\nTraceback:\n",
      "1. library(devtools)",
      "2. .getRequiredPackages2(pkgInfo, quietly = quietly)",
      "3. stop(gettextf(\"package %s could not be loaded\", sQuote(pkg)), \n .     call. = FALSE, domain = NA)"
     ]
    }
   ],
   "source": [
    "library(devtools)"
   ]
  },
  {
   "cell_type": "code",
   "execution_count": 30,
   "metadata": {},
   "outputs": [
    {
     "name": "stderr",
     "output_type": "stream",
     "text": [
      "WARNING: Rtools is required to build R packages, but is not currently installed.\n",
      "\n",
      "Please download and install Rtools 3.5 from https://cran.r-project.org/bin/windows/Rtools/.\n",
      "Downloading GitHub repo vqv/ggbiplot@HEAD\n"
     ]
    },
    {
     "name": "stdout",
     "output_type": "stream",
     "text": [
      "digest       (NA    -> 0.6.27 ) [CRAN]\n",
      "viridisLite  (NA    -> 0.3.0  ) [CRAN]\n",
      "RColorBrewer (NA    -> 1.1-2  ) [CRAN]\n",
      "munsell      (NA    -> 0.5.0  ) [CRAN]\n",
      "labeling     (NA    -> 0.4.2  ) [CRAN]\n",
      "farver       (NA    -> 2.0.3  ) [CRAN]\n",
      "lattice      (NA    -> 0.20-41) [CRAN]\n",
      "Matrix       (NA    -> 1.2-18 ) [CRAN]\n",
      "nlme         (NA    -> 3.1-151) [CRAN]\n",
      "jsonlite     (1.6   -> 1.7.2  ) [CRAN]\n",
      "evaluate     (0.13  -> 0.14   ) [CRAN]\n",
      "Rcpp         (1.0.1 -> 1.0.5  ) [CRAN]\n",
      "scales       (NA    -> 1.1.1  ) [CRAN]\n",
      "mgcv         (NA    -> 1.8-33 ) [CRAN]\n",
      "MASS         (NA    -> 7.3-53 ) [CRAN]\n",
      "isoband      (NA    -> 0.2.3  ) [CRAN]\n",
      "gtable       (NA    -> 0.3.0  ) [CRAN]\n",
      "ggplot2      (NA    -> 3.3.2  ) [CRAN]\n"
     ]
    },
    {
     "name": "stderr",
     "output_type": "stream",
     "text": [
      "Installing 18 packages: digest, viridisLite, RColorBrewer, munsell, labeling, farver, lattice, Matrix, nlme, jsonlite, evaluate, Rcpp, scales, mgcv, MASS, isoband, gtable, ggplot2\n"
     ]
    },
    {
     "name": "stdout",
     "output_type": "stream",
     "text": [
      "package 'digest' successfully unpacked and MD5 sums checked\n"
     ]
    },
    {
     "ename": "ERROR",
     "evalue": "Error: Failed to install 'ggbiplot' from GitHub:\n  (converted from warning) cannot remove prior installation of package 'digest'\n",
     "output_type": "error",
     "traceback": [
      "Error: Failed to install 'ggbiplot' from GitHub:\n  (converted from warning) cannot remove prior installation of package 'digest'\nTraceback:\n",
      "1. install_github(\"vqv/ggbiplot\")",
      "2. pkgbuild::with_build_tools({\n .     ellipsis::check_dots_used(action = getOption(\"devtools.ellipsis_action\", \n .         rlang::warn))\n .     {\n .         remotes <- lapply(repo, github_remote, ref = ref, subdir = subdir, \n .             auth_token = auth_token, host = host)\n .         install_remotes(remotes, auth_token = auth_token, host = host, \n .             dependencies = dependencies, upgrade = upgrade, force = force, \n .             quiet = quiet, build = build, build_opts = build_opts, \n .             build_manual = build_manual, build_vignettes = build_vignettes, \n .             repos = repos, type = type, ...)\n .     }\n . }, required = FALSE)",
      "3. install_remotes(remotes, auth_token = auth_token, host = host, \n .     dependencies = dependencies, upgrade = upgrade, force = force, \n .     quiet = quiet, build = build, build_opts = build_opts, build_manual = build_manual, \n .     build_vignettes = build_vignettes, repos = repos, type = type, \n .     ...)",
      "4. tryCatch(res[[i]] <- install_remote(remotes[[i]], ...), error = function(e) {\n .     stop(remote_install_error(remotes[[i]], e))\n . })",
      "5. tryCatchList(expr, classes, parentenv, handlers)",
      "6. tryCatchOne(expr, names, parentenv, handlers[[1L]])",
      "7. value[[3L]](cond)"
     ]
    }
   ],
   "source": [
    "install_github(\"vqv/ggbiplot\")"
   ]
  },
  {
   "cell_type": "markdown",
   "metadata": {},
   "source": [
    "## PCA + 다중회귀분석"
   ]
  },
  {
   "cell_type": "code",
   "execution_count": 64,
   "metadata": {},
   "outputs": [
    {
     "name": "stdout",
     "output_type": "stream",
     "text": [
      "'data.frame':\t32 obs. of  3 variables:\n",
      " $ PC1   : num  -1.264 -0.524 2.345 4.12 -5.579 ...\n",
      " $ PC2   : num  -0.437 0.682 1.916 -1.397 -0.736 ...\n",
      " $ salary: num  0.00558 0.05474 0.04714 0.01571 0.23974 ...\n"
     ]
    }
   ],
   "source": [
    "batters2d = data.frame(predict(batters_pca, batters)[, 1:2])\n",
    "batters2d$salary = batters$연봉\n",
    "str(batters2d)"
   ]
  },
  {
   "cell_type": "code",
   "execution_count": 65,
   "metadata": {},
   "outputs": [
    {
     "data": {
      "text/plain": [
       "\n",
       "Call:\n",
       "lm(formula = salary ~ ., data = batters2d)\n",
       "\n",
       "Residuals:\n",
       "     Min       1Q   Median       3Q      Max \n",
       "-0.21502 -0.12684 -0.01805  0.05729  0.60890 \n",
       "\n",
       "Coefficients:\n",
       "              Estimate Std. Error t value Pr(>|t|)    \n",
       "(Intercept)  0.1655791  0.0349252   4.741 5.21e-05 ***\n",
       "PC1         -0.0433379  0.0089981  -4.816 4.23e-05 ***\n",
       "PC2         -0.0005681  0.0165123  -0.034    0.973    \n",
       "---\n",
       "Signif. codes:  0 '***' 0.001 '**' 0.01 '*' 0.05 '.' 0.1 ' ' 1\n",
       "\n",
       "Residual standard error: 0.1976 on 29 degrees of freedom\n",
       "Multiple R-squared:  0.4444,\tAdjusted R-squared:  0.4061 \n",
       "F-statistic:  11.6 on 2 and 29 DF,  p-value: 0.000199\n"
      ]
     },
     "metadata": {},
     "output_type": "display_data"
    }
   ],
   "source": [
    "salary2d = lm(salary ~ ., data=batters2d)\n",
    "summary(salary2d)"
   ]
  },
  {
   "cell_type": "markdown",
   "metadata": {},
   "source": [
    "아까의 선형결합 식에 다중회귀의 계수를 곱해 대략적인 의미파악"
   ]
  },
  {
   "cell_type": "code",
   "execution_count": 66,
   "metadata": {},
   "outputs": [
    {
     "data": {
      "text/html": [
       "<dl class=dl-horizontal>\n",
       "\t<dt>루타</dt>\n",
       "\t\t<dd>0.0107378477996511</dd>\n",
       "\t<dt>안타</dt>\n",
       "\t\t<dd>0.0104946927017043</dd>\n",
       "\t<dt>타점</dt>\n",
       "\t\t<dd>0.0104452012285202</dd>\n",
       "\t<dt>타수</dt>\n",
       "\t\t<dd>0.0104178041384377</dd>\n",
       "\t<dt>득점</dt>\n",
       "\t\t<dd>0.0104120117962591</dd>\n",
       "\t<dt>멀티히트</dt>\n",
       "\t\t<dd>0.0103364301734664</dd>\n",
       "\t<dt>X2루타</dt>\n",
       "\t\t<dd>0.00999004634931116</dd>\n",
       "\t<dt>홈런</dt>\n",
       "\t\t<dd>0.00938616555501914</dd>\n",
       "\t<dt>사구</dt>\n",
       "\t\t<dd>0.00927928021934655</dd>\n",
       "\t<dt>경기</dt>\n",
       "\t\t<dd>0.00923194581792436</dd>\n",
       "\t<dt>병살타</dt>\n",
       "\t\t<dd>0.009140449977085</dd>\n",
       "\t<dt>볼넷</dt>\n",
       "\t\t<dd>0.00887196812170642</dd>\n",
       "\t<dt>삼진</dt>\n",
       "\t\t<dd>0.00872442755940801</dd>\n",
       "\t<dt>홈런.타수</dt>\n",
       "\t\t<dd>0.00867593879995027</dd>\n",
       "\t<dt>장타율</dt>\n",
       "\t\t<dd>0.00861452664581973</dd>\n",
       "\t<dt>출루율.장타율</dt>\n",
       "\t\t<dd>0.00796708113473752</dd>\n",
       "\t<dt>고의4구</dt>\n",
       "\t\t<dd>0.00767063905208317</dd>\n",
       "\t<dt>체중</dt>\n",
       "\t\t<dd>0.00746084721593261</dd>\n",
       "\t<dt>희생플라이</dt>\n",
       "\t\t<dd>0.00711104479145427</dd>\n",
       "\t<dt>X3루타</dt>\n",
       "\t\t<dd>0.0064437467179687</dd>\n",
       "\t<dt>출루율</dt>\n",
       "\t\t<dd>0.00604616820498459</dd>\n",
       "\t<dt>타율</dt>\n",
       "\t\t<dd>0.00566010027133432</dd>\n",
       "\t<dt>안타.타수</dt>\n",
       "\t\t<dd>0.00564958032440728</dd>\n",
       "\t<dt>나이</dt>\n",
       "\t\t<dd>0.00502058204633879</dd>\n",
       "\t<dt>도루</dt>\n",
       "\t\t<dd>0.00395629445325278</dd>\n",
       "\t<dt>득점권타울</dt>\n",
       "\t\t<dd>0.00377212601582173</dd>\n",
       "\t<dt>대타타율</dt>\n",
       "\t\t<dd>0.0035362178006617</dd>\n",
       "\t<dt>신장</dt>\n",
       "\t\t<dd>0.00328365260043626</dd>\n",
       "\t<dt>도루실패</dt>\n",
       "\t\t<dd>0.00295320700081702</dd>\n",
       "\t<dt>실책</dt>\n",
       "\t\t<dd>0.00197741264381185</dd>\n",
       "\t<dt>희생번트</dt>\n",
       "\t\t<dd>-0.000380877687107647</dd>\n",
       "\t<dt>도루성공률</dt>\n",
       "\t\t<dd>-0.00336853578416251</dd>\n",
       "</dl>\n"
      ],
      "text/latex": [
       "\\begin{description*}\n",
       "\\item[루타] 0.0107378477996511\n",
       "\\item[안타] 0.0104946927017043\n",
       "\\item[타점] 0.0104452012285202\n",
       "\\item[타수] 0.0104178041384377\n",
       "\\item[득점] 0.0104120117962591\n",
       "\\item[멀티히트] 0.0103364301734664\n",
       "\\item[X2루타] 0.00999004634931116\n",
       "\\item[홈런] 0.00938616555501914\n",
       "\\item[사구] 0.00927928021934655\n",
       "\\item[경기] 0.00923194581792436\n",
       "\\item[병살타] 0.009140449977085\n",
       "\\item[볼넷] 0.00887196812170642\n",
       "\\item[삼진] 0.00872442755940801\n",
       "\\item[홈런.타수] 0.00867593879995027\n",
       "\\item[장타율] 0.00861452664581973\n",
       "\\item[출루율.장타율] 0.00796708113473752\n",
       "\\item[고의4구] 0.00767063905208317\n",
       "\\item[체중] 0.00746084721593261\n",
       "\\item[희생플라이] 0.00711104479145427\n",
       "\\item[X3루타] 0.0064437467179687\n",
       "\\item[출루율] 0.00604616820498459\n",
       "\\item[타율] 0.00566010027133432\n",
       "\\item[안타.타수] 0.00564958032440728\n",
       "\\item[나이] 0.00502058204633879\n",
       "\\item[도루] 0.00395629445325278\n",
       "\\item[득점권타울] 0.00377212601582173\n",
       "\\item[대타타율] 0.0035362178006617\n",
       "\\item[신장] 0.00328365260043626\n",
       "\\item[도루실패] 0.00295320700081702\n",
       "\\item[실책] 0.00197741264381185\n",
       "\\item[희생번트] -0.000380877687107647\n",
       "\\item[도루성공률] -0.00336853578416251\n",
       "\\end{description*}\n"
      ],
      "text/markdown": [
       "루타\n",
       ":   0.0107378477996511안타\n",
       ":   0.0104946927017043타점\n",
       ":   0.0104452012285202타수\n",
       ":   0.0104178041384377득점\n",
       ":   0.0104120117962591멀티히트\n",
       ":   0.0103364301734664X2루타\n",
       ":   0.00999004634931116홈런\n",
       ":   0.00938616555501914사구\n",
       ":   0.00927928021934655경기\n",
       ":   0.00923194581792436병살타\n",
       ":   0.009140449977085볼넷\n",
       ":   0.00887196812170642삼진\n",
       ":   0.00872442755940801홈런.타수\n",
       ":   0.00867593879995027장타율\n",
       ":   0.00861452664581973출루율.장타율\n",
       ":   0.00796708113473752고의4구\n",
       ":   0.00767063905208317체중\n",
       ":   0.00746084721593261희생플라이\n",
       ":   0.00711104479145427X3루타\n",
       ":   0.0064437467179687출루율\n",
       ":   0.00604616820498459타율\n",
       ":   0.00566010027133432안타.타수\n",
       ":   0.00564958032440728나이\n",
       ":   0.00502058204633879도루\n",
       ":   0.00395629445325278득점권타울\n",
       ":   0.00377212601582173대타타율\n",
       ":   0.0035362178006617신장\n",
       ":   0.00328365260043626도루실패\n",
       ":   0.00295320700081702실책\n",
       ":   0.00197741264381185희생번트\n",
       ":   -0.000380877687107647도루성공률\n",
       ":   -0.00336853578416251\n",
       "\n"
      ],
      "text/plain": [
       "         루타          안타          타점          타수          득점 \n",
       " 0.0107378478  0.0104946927  0.0104452012  0.0104178041  0.0104120118 \n",
       "     멀티히트        X2루타          홈런          사구          경기 \n",
       " 0.0103364302  0.0099900463  0.0093861656  0.0092792802  0.0092319458 \n",
       "       병살타          볼넷          삼진     홈런.타수        장타율 \n",
       " 0.0091404500  0.0088719681  0.0087244276  0.0086759388  0.0086145266 \n",
       "출루율.장타율       고의4구          체중    희생플라이        X3루타 \n",
       " 0.0079670811  0.0076706391  0.0074608472  0.0071110448  0.0064437467 \n",
       "       출루율          타율     안타.타수          나이          도루 \n",
       " 0.0060461682  0.0056601003  0.0056495803  0.0050205820  0.0039562945 \n",
       "   득점권타울      대타타율          신장      도루실패          실책 \n",
       " 0.0037721260  0.0035362178  0.0032836526  0.0029532070  0.0019774126 \n",
       "     희생번트    도루성공률 \n",
       "-0.0003808777 -0.0033685358 "
      ]
     },
     "metadata": {},
     "output_type": "display_data"
    }
   ],
   "source": [
    "salary_factors = salary2d$coefficients['PC1'][[1]] * batters_pca$rotation[,1]\n",
    "salary_factors = salary_factors + salary2d$coefficients['PC2'][[1]] * batters_pca$rotation[,2]\n",
    "sort(salary_factors, decreasing=TRUE)"
   ]
  },
  {
   "cell_type": "code",
   "execution_count": null,
   "metadata": {},
   "outputs": [],
   "source": []
  }
 ],
 "metadata": {
  "kernelspec": {
   "display_name": "R",
   "language": "R",
   "name": "ir"
  },
  "language_info": {
   "codemirror_mode": "r",
   "file_extension": ".r",
   "mimetype": "text/x-r-source",
   "name": "R",
   "pygments_lexer": "r",
   "version": "3.6.1"
  }
 },
 "nbformat": 4,
 "nbformat_minor": 4
}
