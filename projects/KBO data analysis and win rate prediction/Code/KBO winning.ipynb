{
 "cells": [
  {
   "cell_type": "code",
   "execution_count": 1,
   "metadata": {},
   "outputs": [
    {
     "name": "stdout",
     "output_type": "stream",
     "text": [
      "package 'fmsb' successfully unpacked and MD5 sums checked\n",
      "\n",
      "The downloaded binary packages are in\n",
      "\tC:\\Users\\IME1\\AppData\\Local\\Temp\\RtmpAhHodT\\downloaded_packages\n"
     ]
    }
   ],
   "source": [
    "install.packages(\"fmsb\")"
   ]
  },
  {
   "cell_type": "code",
   "execution_count": 2,
   "metadata": {},
   "outputs": [
    {
     "name": "stderr",
     "output_type": "stream",
     "text": [
      "installing the source package 'doMC'\n",
      "\n"
     ]
    }
   ],
   "source": [
    "install.packages(\"doMC\",repos=\"https://R-Forge.R-project.org\")"
   ]
  },
  {
   "cell_type": "markdown",
   "metadata": {},
   "source": [
    "."
   ]
  },
  {
   "cell_type": "code",
   "execution_count": 1,
   "metadata": {},
   "outputs": [
    {
     "name": "stderr",
     "output_type": "stream",
     "text": [
      "Loading required package: lattice\n",
      "Loading required package: ggplot2\n",
      "Registered S3 methods overwritten by 'ggplot2':\n",
      "  method         from \n",
      "  [.quosures     rlang\n",
      "  c.quosures     rlang\n",
      "  print.quosures rlang\n",
      "Loading required package: foreach\n",
      "Loading required package: iterators\n",
      "Loading required package: parallel\n"
     ]
    }
   ],
   "source": [
    "library(IRdisplay)\n",
    "library(fmsb)\n",
    "library(jsonlite)\n",
    "library(caret)\n",
    "library(doMC)\n",
    "source(\"data_manipulation.r.ipynb\")\n",
    "source(\"radar_chart.r.ipynb\")"
   ]
  },
  {
   "cell_type": "markdown",
   "metadata": {},
   "source": [
    "팀별 데이터준비"
   ]
  },
  {
   "cell_type": "code",
   "execution_count": 2,
   "metadata": {},
   "outputs": [],
   "source": [
    "teams = c('ds', 'ss', 'nx', 'nc', 'lg', 'sk', 'lt', 'kia', 'hh')\n",
    "for (team in teams) {\n",
    "    assign(paste(team,'df_batters', sep=''), read_csv(paste('./data/', team, '_batters.csv', sep=''), remove_below=90))\n",
    "    assign(paste(team,'df_pitchers', sep=''), read_csv(paste('./data/', team, '_pitchers.csv', sep=''), remove_below=0))\n",
    "}"
   ]
  },
  {
   "cell_type": "code",
   "execution_count": 3,
   "metadata": {},
   "outputs": [],
   "source": [
    "alldf_batters = list()\n",
    "alldf_pitchers = list()\n",
    "for (team in teams) {\n",
    "    alldf_batters = c(alldf_batters, list(get(paste(team, 'df_batters', sep=''))))\n",
    "    alldf_pitchers = c(alldf_pitchers, list(get(paste(team, 'df_pitchers', sep=''))))\n",
    "}"
   ]
  },
  {
   "cell_type": "code",
   "execution_count": 4,
   "metadata": {},
   "outputs": [],
   "source": [
    "alldf_batters_norm = normalize_whole(alldf_batters, is_pitchers = FALSE)\n",
    "alldf_pitchers_norm = normalize_whole(alldf_pitchers, is_pitchers = TRUE)"
   ]
  },
  {
   "cell_type": "code",
   "execution_count": 5,
   "metadata": {},
   "outputs": [],
   "source": [
    "\n",
    "all_team_norm = list()\n",
    "ptr = 1\n",
    "for (name in teams) {\n",
    "    all_team_norm[[name]] = list('batters'=alldf_batters_norm[[ptr]],\n",
    "                                 'pitchers'=alldf_pitchers_norm[[ptr]])\n",
    "    ptr = ptr + 1\n",
    "}"
   ]
  },
  {
   "cell_type": "code",
   "execution_count": 6,
   "metadata": {},
   "outputs": [],
   "source": [
    "WDL = fromJSON('data/WDL3.json')"
   ]
  },
  {
   "cell_type": "code",
   "execution_count": 7,
   "metadata": {},
   "outputs": [],
   "source": [
    "\n",
    "top4 = data.frame(\n",
    "    'OBP'= c(0.60, 0),\n",
    "    'SLG'= c(0.60, 0),\n",
    "    'AVG'= c(0.60, 0),\n",
    "    'WHIP'= c(0.60, 0),\n",
    "    'QS'= c(0.60, 0),\n",
    "    'FIP'= c(0.60, 0),\n",
    "    'SAVE'=c(0.60, 0)\n",
    ")\n",
    "\n",
    "top4 = rbind(top4, get_radarchart_row(all_team_norm[['ds']][['batters']], all_team_norm[['ds']][['pitchers']]))\n",
    "top4 = rbind(top4, get_radarchart_row(all_team_norm[['ss']][['batters']], all_team_norm[['ss']][['pitchers']]))\n",
    "top4 = rbind(top4, get_radarchart_row(all_team_norm[['nc']][['batters']], all_team_norm[['nc']][['pitchers']]))\n",
    "top4 = rbind(top4, get_radarchart_row(all_team_norm[['nx']][['batters']], all_team_norm[['nx']][['pitchers']]))"
   ]
  },
  {
   "cell_type": "code",
   "execution_count": 8,
   "metadata": {},
   "outputs": [],
   "source": [
    "wprobdf = list(\n",
    "    'Probability'=c()\n",
    ")"
   ]
  },
  {
   "cell_type": "code",
   "execution_count": 9,
   "metadata": {},
   "outputs": [],
   "source": [
    "for (own in teams) {\n",
    "    owndf = get_radarchart_row(all_team_norm[[own]][['batters']], all_team_norm[[own]][['pitchers']])\n",
    "    for (opp in teams) {\n",
    "        if (own != opp) {\n",
    "            oppdf = get_radarchart_row(all_team_norm[[opp]][['batters']], all_team_norm[[opp]][['pitchers']])\n",
    "            W = WDL[[own]][[opp]][['W']]\n",
    "            L = WDL[[own]][[opp]][['L']]\n",
    "            D = WDL[[own]][[opp]][['D']]\n",
    "            T = W + D + L\n",
    "            \n",
    "            for (column in names(owndf)) {\n",
    "                owncol = paste(column, 'own', sep='')\n",
    "                oppcol = paste(column, 'opp', sep='')\n",
    "                wprobdf[[owncol]] = c(wprobdf[[owncol]], owndf[[column]])\n",
    "                wprobdf[[oppcol]] = c(wprobdf[[oppcol]], oppdf[[column]])\n",
    "            }\n",
    "            \n",
    "            wprobdf[['Probability']] = c(wprobdf[['Probability']], W / T)\n",
    "        }\n",
    "    }\n",
    "}"
   ]
  },
  {
   "cell_type": "code",
   "execution_count": 10,
   "metadata": {},
   "outputs": [],
   "source": [
    "wprobdf = data.frame(wprobdf)"
   ]
  },
  {
   "cell_type": "code",
   "execution_count": 11,
   "metadata": {},
   "outputs": [],
   "source": [
    "wmodel = lm(Probability ~ ., data=wprobdf)"
   ]
  },
  {
   "cell_type": "code",
   "execution_count": 12,
   "metadata": {
    "scrolled": true
   },
   "outputs": [
    {
     "data": {
      "text/plain": [
       "\n",
       "Call:\n",
       "lm(formula = Probability ~ ., data = wprobdf)\n",
       "\n",
       "Residuals:\n",
       "      Min        1Q    Median        3Q       Max \n",
       "-0.232052 -0.091793 -0.004838  0.096106  0.243330 \n",
       "\n",
       "Coefficients:\n",
       "            Estimate Std. Error t value Pr(>|t|)    \n",
       "(Intercept)  0.02631    1.31487   0.020 0.984104    \n",
       "OBPown      -1.96131    0.77190  -2.541 0.013805 *  \n",
       "OBPopp       2.74899    0.77190   3.561 0.000753 ***\n",
       "SLGown      -1.28704    1.07632  -1.196 0.236734    \n",
       "SLGopp       2.24811    1.07632   2.089 0.041212 *  \n",
       "AVGown       4.63694    2.17926   2.128 0.037695 *  \n",
       "AVGopp      -6.78348    2.17926  -3.113 0.002897 ** \n",
       "WHIPown     -3.05941    1.88453  -1.623 0.110014    \n",
       "WHIPopp      3.64501    1.88453   1.934 0.058061 .  \n",
       "QSown        0.30571    0.54308   0.563 0.575694    \n",
       "QSopp       -0.61957    0.54308  -1.141 0.258706    \n",
       "FIPown      -1.97470    1.53423  -1.287 0.203263    \n",
       "FIPopp       3.24748    1.53423   2.117 0.038665 *  \n",
       "SAVEown      0.22360    0.13240   1.689 0.096716 .  \n",
       "SAVEopp     -0.30302    0.13240  -2.289 0.025823 *  \n",
       "---\n",
       "Signif. codes:  0 '***' 0.001 '**' 0.01 '*' 0.05 '.' 0.1 ' ' 1\n",
       "\n",
       "Residual standard error: 0.1249 on 57 degrees of freedom\n",
       "Multiple R-squared:  0.4615,\tAdjusted R-squared:  0.3293 \n",
       "F-statistic: 3.489 on 14 and 57 DF,  p-value: 0.0004019\n"
      ]
     },
     "metadata": {},
     "output_type": "display_data"
    }
   ],
   "source": [
    "summary(wmodel)"
   ]
  },
  {
   "cell_type": "code",
   "execution_count": 13,
   "metadata": {
    "scrolled": true
   },
   "outputs": [
    {
     "data": {
      "text/plain": [
       "Importance of components:\n",
       "                         PC1    PC2    PC3    PC4    PC5     PC6     PC7\n",
       "Standard deviation     2.080 1.8344 1.3553 1.1953 0.9685 0.85417 0.76441\n",
       "Proportion of Variance 0.309 0.2404 0.1312 0.1021 0.0670 0.05211 0.04174\n",
       "Cumulative Proportion  0.309 0.5494 0.6806 0.7827 0.8497 0.90178 0.94352\n",
       "                           PC8     PC9    PC10    PC11    PC12    PC13    PC14\n",
       "Standard deviation     0.67415 0.34148 0.30115 0.26126 0.23041 0.06535 0.05764\n",
       "Proportion of Variance 0.03246 0.00833 0.00648 0.00488 0.00379 0.00031 0.00024\n",
       "Cumulative Proportion  0.97598 0.98431 0.99079 0.99567 0.99946 0.99976 1.00000"
      ]
     },
     "metadata": {},
     "output_type": "display_data"
    }
   ],
   "source": [
    "wprob_pca = prcomp(wprobdf[,!(names(wprobdf) == c('Probability'))], center=TRUE, scale=TRUE)\n",
    "summary(wprob_pca)"
   ]
  },
  {
   "cell_type": "code",
   "execution_count": 14,
   "metadata": {},
   "outputs": [
    {
     "data": {
      "image/png": "[encoded data removed]",
      "text/plain": [
       "Plot with title \"wprob_pca\""
      ]
     },
     "metadata": {},
     "output_type": "display_data"
    }
   ],
   "source": [
    "plot(wprob_pca, type = \"l\")"
   ]
  },
  {
   "cell_type": "markdown",
   "metadata": {},
   "source": [
    "그래서 CP(cumulative proportion)이 0.85가 되는 PC5 까지 사용하기로 함."
   ]
  },
  {
   "cell_type": "code",
   "execution_count": 15,
   "metadata": {},
   "outputs": [],
   "source": [
    "wprob5d = data.frame(predict(wprob_pca, wprobdf)[, 1:5])\n",
    "wprob5d$Probability = wprobdf$Probability"
   ]
  },
  {
   "cell_type": "code",
   "execution_count": 16,
   "metadata": {},
   "outputs": [
    {
     "data": {
      "text/plain": [
       "\n",
       "Call:\n",
       "lm(formula = Probability ~ ., data = wprob5d)\n",
       "\n",
       "Residuals:\n",
       "     Min       1Q   Median       3Q      Max \n",
       "-0.31859 -0.10807  0.00586  0.09300  0.33012 \n",
       "\n",
       "Coefficients:\n",
       "              Estimate Std. Error t value Pr(>|t|)    \n",
       "(Intercept)  0.4913194  0.0168974  29.077  < 2e-16 ***\n",
       "PC1         -0.0294837  0.0081806  -3.604 0.000602 ***\n",
       "PC2         -0.0002923  0.0092759  -0.032 0.974954    \n",
       "PC3         -0.0134593  0.0125551  -1.072 0.287615    \n",
       "PC4          0.0039644  0.0142361   0.278 0.781519    \n",
       "PC5          0.0051156  0.0175688   0.291 0.771828    \n",
       "---\n",
       "Signif. codes:  0 '***' 0.001 '**' 0.01 '*' 0.05 '.' 0.1 ' ' 1\n",
       "\n",
       "Residual standard error: 0.1434 on 66 degrees of freedom\n",
       "Multiple R-squared:  0.1781,\tAdjusted R-squared:  0.1158 \n",
       "F-statistic:  2.86 on 5 and 66 DF,  p-value: 0.0213\n"
      ]
     },
     "metadata": {},
     "output_type": "display_data"
    }
   ],
   "source": [
    "wmodel = lm(Probability ~ ., data=wprob5d)\n",
    "summary(wmodel)"
   ]
  },
  {
   "cell_type": "markdown",
   "metadata": {},
   "source": [
    "R-squared 값이 작아 다른 방법 시도"
   ]
  },
  {
   "cell_type": "markdown",
   "metadata": {},
   "source": [
    "## Neural Network "
   ]
  },
  {
   "cell_type": "code",
   "execution_count": 17,
   "metadata": {},
   "outputs": [],
   "source": [
    "wprob5d$X1 = wprob5d$PC1*wprob5d$PC1\n",
    "wprob5d$X2 = wprob5d$PC1*wprob5d$PC2\n",
    "wprob5d$X3 = wprob5d$PC1*wprob5d$PC3\n",
    "wprob5d$X4 = wprob5d$PC1*wprob5d$PC4\n",
    "wprob5d$X5 = wprob5d$PC1*wprob5d$PC5\n",
    "wprob5d$X6 = wprob5d$PC2*wprob5d$PC3\n",
    "wprob5d$X7 = wprob5d$PC2*wprob5d$PC4\n",
    "wprob5d$X8 = wprob5d$PC2*wprob5d$PC5\n",
    "\n",
    "wprob5d$Y1 = wprob5d$PC1/wprob5d$PC2\n",
    "wprob5d$Y2 = wprob5d$PC1/wprob5d$PC3\n",
    "wprob5d$Y3 = wprob5d$PC1/wprob5d$PC4\n",
    "wprob5d$Y4 = wprob5d$PC1/wprob5d$PC5\n",
    "wprob5d$Y5 = wprob5d$PC2/wprob5d$PC1\n",
    "wprob5d$Y6 = wprob5d$PC2/wprob5d$PC3\n",
    "wprob5d$Y7 = wprob5d$PC2/wprob5d$PC4\n",
    "wprob5d$Y8 = wprob5d$PC2/wprob5d$PC5\n",
    "\n",
    "wprob5d$Z2 = wprob5d$PC2*wprob5d$PC2\n",
    "wprob5d$Z3 = wprob5d$PC3*wprob5d$PC3\n",
    "wprob5d$Z4 = wprob5d$PC4*wprob5d$PC4\n",
    "wprob5d$Z5 = wprob5d$PC5*wprob5d$PC5\n",
    "\n",
    "wprob5d$W1 = wprob5d$X1*wprob5d$PC1\n",
    "wprob5d$W2 = wprob5d$X1*wprob5d$PC2\n",
    "wprob5d$W3 = wprob5d$X1*wprob5d$PC3\n",
    "wprob5d$W4 = wprob5d$X1*wprob5d$PC4\n",
    "wprob5d$W5 = wprob5d$X1*wprob5d$PC5\n",
    "wprob5d$W6 = wprob5d$X2*wprob5d$PC3\n",
    "wprob5d$W7 = wprob5d$X2*wprob5d$PC4\n",
    "wprob5d$W8 = wprob5d$X2*wprob5d$PC5"
   ]
  },
  {
   "cell_type": "code",
   "execution_count": 18,
   "metadata": {},
   "outputs": [
    {
     "name": "stdout",
     "output_type": "stream",
     "text": [
      "package 'RSNNS' successfully unpacked and MD5 sums checked\n"
     ]
    },
    {
     "name": "stderr",
     "output_type": "stream",
     "text": [
      "Warning message:\n",
      "\"cannot remove prior installation of package 'RSNNS'\"Warning message in file.copy(savedcopy, lib, recursive = TRUE):\n",
      "\"C:\\Users\\IME1\\anaconda3\\envs\\kbo\\Lib\\R\\library\\00LOCK\\RSNNS\\libs\\x64\\RSNNS.dll를 C:\\Users\\IME1\\anaconda3\\envs\\kbo\\Lib\\R\\library\\RSNNS\\libs\\x64\\RSNNS.dll로 복사하는데 문제가 발생했습니다: Permission denied\"Warning message:\n",
      "\"restored 'RSNNS'\""
     ]
    },
    {
     "name": "stdout",
     "output_type": "stream",
     "text": [
      "\n",
      "The downloaded binary packages are in\n",
      "\tC:\\Users\\IME1\\AppData\\Local\\Temp\\Rtmp2V2BhF\\downloaded_packages\n"
     ]
    }
   ],
   "source": [
    "install.packages(\"RSNNS\")"
   ]
  },
  {
   "cell_type": "code",
   "execution_count": 19,
   "metadata": {},
   "outputs": [
    {
     "name": "stderr",
     "output_type": "stream",
     "text": [
      "Warning message in load(system.file(\"models\", \"models.RData\", package = \"caret\")):\n",
      "\"strings not representable in native encoding will be translated to UTF-8\""
     ]
    }
   ],
   "source": [
    "fit.control <- trainControl(## 10-fold CV\n",
    "                           method = 'repeatedcv',\n",
    "                           number = 10,\n",
    "                           ## repeated ten times\n",
    "                           repeats = 10)\n",
    "set.seed(4335)\n",
    "# registerDoMC(cores = 6)\n",
    "wmodel <- train(Probability ~ PC1+PC2+PC3+PC4+PC5+\n",
    "                              W1+W2+W3+W4+W5+W6+W7+W8+\n",
    "                              X1+X2+X3+X4+X5+X6+X7+X8+\n",
    "                              Y1+Y2+Y3+Y4+Y5+Y6+Y7+Y8+\n",
    "                              Z2+Z3+Z4+Z5,\n",
    "                data=wprob5d,\n",
    "                method = 'mlpWeightDecay',\n",
    "                trControl = fit.control)"
   ]
  },
  {
   "cell_type": "code",
   "execution_count": 20,
   "metadata": {},
   "outputs": [],
   "source": [
    "save(wmodel, file=\"winningprob1.RData\")"
   ]
  },
  {
   "cell_type": "code",
   "execution_count": 21,
   "metadata": {},
   "outputs": [],
   "source": [
    "load(\"winningprob1.RData\")"
   ]
  },
  {
   "cell_type": "code",
   "execution_count": 22,
   "metadata": {},
   "outputs": [
    {
     "data": {
      "text/html": [
       "0.940698165362321"
      ],
      "text/latex": [
       "0.940698165362321"
      ],
      "text/markdown": [
       "0.940698165362321"
      ],
      "text/plain": [
       "[1] 0.9406982"
      ]
     },
     "metadata": {},
     "output_type": "display_data"
    }
   ],
   "source": [
    "cor(predict(wmodel, wprob5d[-6]), wprob5d$Probability)"
   ]
  },
  {
   "cell_type": "markdown",
   "metadata": {},
   "source": []
  },
  {
   "cell_type": "code",
   "execution_count": 23,
   "metadata": {},
   "outputs": [],
   "source": [
    "prepare = function(df) {\n",
    "    df$X1 = df$PC1*df$PC1\n",
    "    df$X2 = df$PC1*df$PC2\n",
    "    df$X3 = df$PC1*df$PC3\n",
    "    df$X4 = df$PC1*df$PC4\n",
    "    df$X5 = df$PC1*df$PC5\n",
    "    df$X6 = df$PC2*df$PC3\n",
    "    df$X7 = df$PC2*df$PC4\n",
    "    df$X8 = df$PC2*df$PC5\n",
    "\n",
    "    df$Y1 = df$PC1/df$PC2\n",
    "    df$Y2 = df$PC1/df$PC3\n",
    "    df$Y3 = df$PC1/df$PC4\n",
    "    df$Y4 = df$PC1/df$PC5\n",
    "    df$Y5 = df$PC2/df$PC1\n",
    "    df$Y6 = df$PC2/df$PC3\n",
    "    df$Y7 = df$PC2/df$PC4\n",
    "    df$Y8 = df$PC2/df$PC5\n",
    "\n",
    "    df$Z2 = df$PC2*df$PC2\n",
    "    df$Z3 = df$PC3*df$PC3\n",
    "    df$Z4 = df$PC4*df$PC4\n",
    "    df$Z5 = df$PC5*df$PC5\n",
    "\n",
    "    df$W1 = df$X1*df$PC1\n",
    "    df$W2 = df$X1*df$PC2\n",
    "    df$W3 = df$X1*df$PC3\n",
    "    df$W4 = df$X1*df$PC4\n",
    "    df$W5 = df$X1*df$PC5\n",
    "    df$W6 = df$X2*df$PC3\n",
    "    df$W7 = df$X2*df$PC4\n",
    "    df$W8 = df$X2*df$PC5\n",
    "    \n",
    "    return(df)\n",
    "}"
   ]
  },
  {
   "cell_type": "code",
   "execution_count": 24,
   "metadata": {},
   "outputs": [],
   "source": [
    "predict_result = function(owndf, oppdf, verbose=TRUE) {\n",
    "    predict_right = list()\n",
    "    predict_reverse = list()\n",
    "    \n",
    "    for (column in names(owndf)) {\n",
    "        owncol = paste(column, 'own', sep='')\n",
    "        oppcol = paste(column, 'opp', sep='')\n",
    "        predict_right[[owncol]] = c(predict_right[[owncol]], owndf[[column]])\n",
    "        predict_right[[oppcol]] = c(predict_right[[oppcol]], oppdf[[column]])\n",
    "        predict_reverse[[owncol]] = c(predict_reverse[[owncol]], oppdf[[column]])\n",
    "        predict_reverse[[oppcol]] = c(predict_reverse[[oppcol]], owndf[[column]])\n",
    "    }\n",
    "    \n",
    "    predict_right = prepare(data.frame(predict(wprob_pca, data.frame(predict_right)))[, 1:5])\n",
    "    predict_reverse = prepare(data.frame(predict(wprob_pca, data.frame(predict_reverse)))[, 1:5])\n",
    "    \n",
    "    winprob = predict(wmodel, predict_right)\n",
    "    losprob = predict(wmodel, predict_reverse)\n",
    "    \n",
    "    if (verbose) {\n",
    "        print('--------')\n",
    "        print(winprob)\n",
    "        print(losprob)\n",
    "        print('--------')\n",
    "    }\n",
    "    \n",
    "    if (winprob - losprob > 0.07) {\n",
    "        return('Win')\n",
    "    } else if (winprob - losprob < -0.07) {\n",
    "        return('Lose')\n",
    "    } else {\n",
    "        return('Draw')\n",
    "    }\n",
    "}"
   ]
  },
  {
   "cell_type": "code",
   "execution_count": 25,
   "metadata": {
    "scrolled": true
   },
   "outputs": [
    {
     "name": "stdout",
     "output_type": "stream",
     "text": [
      "[1] \"--------\"\n",
      "        1 \n",
      "0.4239649 \n",
      "        1 \n",
      "0.5962694 \n",
      "[1] \"--------\"\n",
      "[1] \"ds  vs.  nc predicted:  Lose actual(W/L/D):  7 / 9 / 0\"\n"
     ]
    }
   ],
   "source": [
    "own = 'ds'\n",
    "opp = 'nc'\n",
    "print(paste(own, ' vs. ', opp, 'predicted: ',\n",
    "            predict_result(get_radarchart_row(all_team_norm[[own]][['batters']], all_team_norm[[own]][['pitchers']]),\n",
    "                           get_radarchart_row(all_team_norm[[opp]][['batters']], all_team_norm[[opp]][['pitchers']])),\n",
    "      'actual(W/L/D): ',\n",
    "      toString(WDL[[own]][[opp]][['W']]),'/',toString(WDL[[own]][[opp]][['L']]),'/',toString(WDL[[own]][[opp]][['D']])))"
   ]
  },
  {
   "cell_type": "code",
   "execution_count": 29,
   "metadata": {},
   "outputs": [
    {
     "name": "stdout",
     "output_type": "stream",
     "text": [
      "[1] \"--------\"\n",
      "        1 \n",
      "0.6609514 \n",
      "        1 \n",
      "0.3302851 \n",
      "[1] \"--------\"\n",
      "[1] \"lg  vs.  ds predicted:  Win actual(W/L/D):  11 / 5 / 0\"\n"
     ]
    }
   ],
   "source": [
    "own = 'lg'\n",
    "opp = ''\n",
    "print(paste(own, ' vs. ', opp, 'predicted: ',\n",
    "            predict_result(get_radarchart_row(all_team_norm[[own]][['batters']], all_team_norm[[own]][['pitchers']]),\n",
    "                           get_radarchart_row(all_team_norm[[opp]][['batters']], all_team_norm[[opp]][['pitchers']])),\n",
    "      'actual(W/L/D): ',\n",
    "      toString(WDL[[own]][[opp]][['W']]),'/',toString(WDL[[own]][[opp]][['L']]),'/',toString(WDL[[own]][[opp]][['D']])))"
   ]
  },
  {
   "cell_type": "code",
   "execution_count": 30,
   "metadata": {},
   "outputs": [
    {
     "name": "stdout",
     "output_type": "stream",
     "text": [
      "[1] \"--------\"\n",
      "        1 \n",
      "0.5717806 \n",
      "       1 \n",
      "0.400052 \n",
      "[1] \"--------\"\n",
      "[1] \"ds  vs.  kia predicted:  Win actual(W/L/D):  10 / 6 / 0\"\n"
     ]
    }
   ],
   "source": [
    "own = 'ds'\n",
    "opp = 'kia'\n",
    "print(paste(own, ' vs. ', opp, 'predicted: ',\n",
    "            predict_result(get_radarchart_row(all_team_norm[[own]][['batters']], all_team_norm[[own]][['pitchers']]),\n",
    "                           get_radarchart_row(all_team_norm[[opp]][['batters']], all_team_norm[[opp]][['pitchers']])),\n",
    "      'actual(W/L/D): ',\n",
    "      toString(WDL[[own]][[opp]][['W']]),'/',toString(WDL[[own]][[opp]][['L']]),'/',toString(WDL[[own]][[opp]][['D']])))"
   ]
  },
  {
   "cell_type": "code",
   "execution_count": 31,
   "metadata": {},
   "outputs": [
    {
     "name": "stdout",
     "output_type": "stream",
     "text": [
      "package 'NeuralNetTools' successfully unpacked and MD5 sums checked\n",
      "\n",
      "The downloaded binary packages are in\n",
      "\tC:\\Users\\IME1\\AppData\\Local\\Temp\\Rtmp2V2BhF\\downloaded_packages\n"
     ]
    }
   ],
   "source": [
    "install.packages(\"NeuralNetTools\")"
   ]
  },
  {
   "cell_type": "code",
   "execution_count": 35,
   "metadata": {},
   "outputs": [
    {
     "data": {
      "image/png": "[encoded data removed]",
      "text/plain": [
       "plot without title"
      ]
     },
     "metadata": {},
     "output_type": "display_data"
    }
   ],
   "source": [
    "plot(wmodel, rep = NULL, wmodel.entry = NULL, wmodel.out = NULL,\n",
    "  radius = 0.15, arrow.length = 0.2, intercept = TRUE,\n",
    "  intercept.factor = 0.4, information = TRUE, information.pos = 0.1,\n",
    "  col.entry.synapse = \"black\", col.entry = \"black\",\n",
    "  col.hidden = \"black\", col.hidden.synapse = \"black\",\n",
    "  col.out = \"black\", col.out.synapse = \"black\",\n",
    "  col.intercept = \"blue\", fontsize = 12, dimension = 6,\n",
    "  show.weights = TRUE, file = NULL)"
   ]
  },
  {
   "cell_type": "code",
   "execution_count": null,
   "metadata": {},
   "outputs": [],
   "source": []
  }
 ],
 "metadata": {
  "kernelspec": {
   "display_name": "R",
   "language": "R",
   "name": "ir"
  },
  "language_info": {
   "codemirror_mode": "r",
   "file_extension": ".r",
   "mimetype": "text/x-r-source",
   "name": "R",
   "pygments_lexer": "r",
   "version": "3.6.1"
  }
 },
 "nbformat": 4,
 "nbformat_minor": 4
}
