#-*-coding:utf-8-*-
parseCurrency = function(item) {
    if (length(grep('�޷�', item))) {
        item = as.numeric(substr(item, 1, nchar(item)-2)) * 1130
    } else if (length(grep('����', item))) {
        item = as.numeric(substr(item, 1, nchar(item)-2)) * 10000
    } else {
        item = as.numeric(item)
    }
    return(item)
}

parseAge = function(item) {
    return(2015 - as.numeric(substr(item, 1, 4)))
}

parseHeight = function(item) {
    height = strsplit(item, "/")[[1]][[1]]
    return(as.numeric(substr(height, 1, nchar(height)-2)))
}
parseWeight = function(item) {
    weight = strsplit(item, "/")[[1]][[2]]
    return(as.numeric(substr(weight, 1, nchar(weight)-2)))
}

normalize.maxmin = function(x) {
    return((x - min(x)) / (max(x) - min(x)))
    # return((scale(x) - min(scale(x))) / (max(scale(x)) - min(scale(x))))
    # return(scale(x))
}

read_csv = function(filename, remove_below=0) {
    df = read.csv(filename, stringsAsFactors=FALSE)
    df$���� = sapply(df$����, parseCurrency)
    df$���� = sapply(df$�������, parseAge)
    df$���� = sapply(df$����.ü��, parseHeight)
    df$ü�� = sapply(df$����.ü��, parseWeight)
    df = df[df$��� >= remove_below,]
    # df = df[, sapply(df, is.numeric)]
    return(df)
}

FIP = function(item) {
    return((item[['Ȩ��']] * 13 + 3 * (item[['����']]+item[['����']])+2*item[['����']])/(1+item[['�̴�']]))
}

DIO = function(item) {
    return((item[['Ȩ��']] * 13 + 3 * (item[['����']]+item[['�籸']]-item[['����4��']])-2*item[['����']])/(item[['����']]/3)+3.52)
}

normalize_whole = function(dfs, is_pitchers=FALSE) {
    nrows = c()
    combined = dfs[[1]][0,]
    # Combine data.frames
    for (df in dfs) {
        nrows = c(nrows, nrow(df))
        combined = rbind(combined, df[,])
    }

    # Create some new variables
    if (is_pitchers) {
        combined$FIP = apply(combined[, sapply(combined, is.numeric)], 1, FIP)
        combined$SAVEP = combined$���̺� / combined$���
    } else {
        combined$DIO = apply(combined[, sapply(combined, is.numeric)], 1, DIO)
    }

    # Normalize
    do_not_normalize = c('�̴״�.�������', '�̴�')

    combined[, sapply(combined, is.numeric) & !(names(combined) %in% do_not_normalize)] =
                            lapply(combined[, sapply(combined, is.numeric) & !(names(combined) %in% do_not_normalize)],
                                   normalize.maxmin)
    # combined = combined[, sapply(combined, is.numeric)] # non-numeric�̶�� �� �� ������ �ϴ°� �ƴ��ݾƿ�?
    
    prev = 1
    ret = list()
    # Split data.frame
    for (rs in nrows) {
        ret = c(ret, list(combined[prev:(prev+rs-1),]))
        prev = prev + rs
    }

    # Remove NaN entries.
    for (x in 1:length(ret)) {
        ret[[x]] = ret[[x]][!sapply(ret[[x]], function(x) { all(is.nan(x)) })]
    }
    
    return(ret)
}
