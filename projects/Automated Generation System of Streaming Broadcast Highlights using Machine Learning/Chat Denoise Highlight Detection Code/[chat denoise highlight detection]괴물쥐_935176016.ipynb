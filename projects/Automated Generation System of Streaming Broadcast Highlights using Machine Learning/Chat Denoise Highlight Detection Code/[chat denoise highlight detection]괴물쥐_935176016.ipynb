{
 "cells": [
  {
   "cell_type": "code",
   "execution_count": 8,
   "metadata": {},
   "outputs": [],
   "source": [
    "import numpy as np\n",
    "import pandas as pd\n",
    "import seaborn as sns\n",
    "import matplotlib.pyplot as plt\n",
    "import statsmodels.api as sm\n",
    "import statsmodels.formula.api as smf\n",
    "import random as rd\n",
    "from scipy.stats import ttest_1samp\n",
    "from scipy.stats import ttest_ind\n",
    "from sklearn.linear_model import LinearRegression\n",
    "from pandas import DataFrame\n",
    "from pandas import read_csv\n",
    "from matplotlib import pyplot\n",
    "import numpy"
   ]
  },
  {
   "cell_type": "markdown",
   "metadata": {},
   "source": [
    "# 괴물쥐_935176016"
   ]
  },
  {
   "cell_type": "markdown",
   "metadata": {},
   "source": [
    "### 채팅 데이터 불러오기"
   ]
  },
  {
   "cell_type": "code",
   "execution_count": 9,
   "metadata": {},
   "outputs": [
    {
     "data": {
      "text/html": [
       "<div>\n",
       "<style scoped>\n",
       "    .dataframe tbody tr th:only-of-type {\n",
       "        vertical-align: middle;\n",
       "    }\n",
       "\n",
       "    .dataframe tbody tr th {\n",
       "        vertical-align: top;\n",
       "    }\n",
       "\n",
       "    .dataframe thead th {\n",
       "        text-align: right;\n",
       "    }\n",
       "</style>\n",
       "<table border=\"1\" class=\"dataframe\">\n",
       "  <thead>\n",
       "    <tr style=\"text-align: right;\">\n",
       "      <th></th>\n",
       "      <th>일시</th>\n",
       "      <th>시청자ID</th>\n",
       "      <th>채팅내용</th>\n",
       "    </tr>\n",
       "  </thead>\n",
       "  <tbody>\n",
       "    <tr>\n",
       "      <th>0</th>\n",
       "      <td>0:00:14</td>\n",
       "      <td>변스코</td>\n",
       "      <td>ㅎㅇ</td>\n",
       "    </tr>\n",
       "    <tr>\n",
       "      <th>1</th>\n",
       "      <td>0:00:16</td>\n",
       "      <td>jms1205</td>\n",
       "      <td>ㅎㅇㅎㅇ</td>\n",
       "    </tr>\n",
       "    <tr>\n",
       "      <th>2</th>\n",
       "      <td>0:00:17</td>\n",
       "      <td>변스코</td>\n",
       "      <td>지각 안햇네</td>\n",
       "    </tr>\n",
       "    <tr>\n",
       "      <th>3</th>\n",
       "      <td>0:00:20</td>\n",
       "      <td>아니키라불러</td>\n",
       "      <td>어셈블</td>\n",
       "    </tr>\n",
       "    <tr>\n",
       "      <th>4</th>\n",
       "      <td>0:00:26</td>\n",
       "      <td>누구일까나</td>\n",
       "      <td>ㅡ</td>\n",
       "    </tr>\n",
       "    <tr>\n",
       "      <th>...</th>\n",
       "      <td>...</td>\n",
       "      <td>...</td>\n",
       "      <td>...</td>\n",
       "    </tr>\n",
       "    <tr>\n",
       "      <th>58948</th>\n",
       "      <td>8:03:22</td>\n",
       "      <td>뽀송세연</td>\n",
       "      <td>HeyGuys HeyGuys HeyGuys HeyGuys</td>\n",
       "    </tr>\n",
       "    <tr>\n",
       "      <th>58949</th>\n",
       "      <td>8:03:22</td>\n",
       "      <td>포테이토더블치즈엣지</td>\n",
       "      <td>BibleThump BibleThump BibleThump BibleThump Bi...</td>\n",
       "    </tr>\n",
       "    <tr>\n",
       "      <th>58950</th>\n",
       "      <td>8:03:23</td>\n",
       "      <td>나태24</td>\n",
       "      <td>HeyGuys</td>\n",
       "    </tr>\n",
       "    <tr>\n",
       "      <th>58951</th>\n",
       "      <td>8:03:23</td>\n",
       "      <td>석박이_</td>\n",
       "      <td>BibleThump</td>\n",
       "    </tr>\n",
       "    <tr>\n",
       "      <th>58952</th>\n",
       "      <td>8:03:23</td>\n",
       "      <td>놀래는놀래미</td>\n",
       "      <td>LUL LUL LUL LUL LUL LUL LUL LUL LUL BibleThump...</td>\n",
       "    </tr>\n",
       "  </tbody>\n",
       "</table>\n",
       "<p>58953 rows × 3 columns</p>\n",
       "</div>"
      ],
      "text/plain": [
       "            일시       시청자ID                                               채팅내용\n",
       "0      0:00:14         변스코                                                 ㅎㅇ\n",
       "1      0:00:16     jms1205                                               ㅎㅇㅎㅇ\n",
       "2      0:00:17         변스코                                             지각 안햇네\n",
       "3      0:00:20      아니키라불러                                                어셈블\n",
       "4      0:00:26       누구일까나                                                  ㅡ\n",
       "...        ...         ...                                                ...\n",
       "58948  8:03:22        뽀송세연                    HeyGuys HeyGuys HeyGuys HeyGuys\n",
       "58949  8:03:22  포테이토더블치즈엣지  BibleThump BibleThump BibleThump BibleThump Bi...\n",
       "58950  8:03:23        나태24                                            HeyGuys\n",
       "58951  8:03:23        석박이_                                         BibleThump\n",
       "58952  8:03:23      놀래는놀래미  LUL LUL LUL LUL LUL LUL LUL LUL LUL BibleThump...\n",
       "\n",
       "[58953 rows x 3 columns]"
      ]
     },
     "execution_count": 9,
     "metadata": {},
     "output_type": "execute_result"
    }
   ],
   "source": [
    "chat = pd.read_csv(\"chat data/game/935176016.csv\", names=['일시','시청자ID','채팅내용'])\n",
    "chat"
   ]
  },
  {
   "cell_type": "markdown",
   "metadata": {},
   "source": [
    "### 채팅 데이터 노이즈(채팅봇, 아스키아트) 제거"
   ]
  },
  {
   "cell_type": "code",
   "execution_count": 10,
   "metadata": {},
   "outputs": [
    {
     "data": {
      "text/html": [
       "<div>\n",
       "<style scoped>\n",
       "    .dataframe tbody tr th:only-of-type {\n",
       "        vertical-align: middle;\n",
       "    }\n",
       "\n",
       "    .dataframe tbody tr th {\n",
       "        vertical-align: top;\n",
       "    }\n",
       "\n",
       "    .dataframe thead th {\n",
       "        text-align: right;\n",
       "    }\n",
       "</style>\n",
       "<table border=\"1\" class=\"dataframe\">\n",
       "  <thead>\n",
       "    <tr style=\"text-align: right;\">\n",
       "      <th></th>\n",
       "      <th>일시</th>\n",
       "      <th>시청자ID</th>\n",
       "      <th>채팅내용</th>\n",
       "    </tr>\n",
       "  </thead>\n",
       "  <tbody>\n",
       "    <tr>\n",
       "      <th>0</th>\n",
       "      <td>0:00:14</td>\n",
       "      <td>변스코</td>\n",
       "      <td>ㅎㅇ</td>\n",
       "    </tr>\n",
       "    <tr>\n",
       "      <th>1</th>\n",
       "      <td>0:00:16</td>\n",
       "      <td>jms1205</td>\n",
       "      <td>ㅎㅇㅎㅇ</td>\n",
       "    </tr>\n",
       "    <tr>\n",
       "      <th>2</th>\n",
       "      <td>0:00:17</td>\n",
       "      <td>변스코</td>\n",
       "      <td>지각 안햇네</td>\n",
       "    </tr>\n",
       "    <tr>\n",
       "      <th>3</th>\n",
       "      <td>0:00:20</td>\n",
       "      <td>아니키라불러</td>\n",
       "      <td>어셈블</td>\n",
       "    </tr>\n",
       "    <tr>\n",
       "      <th>4</th>\n",
       "      <td>0:00:26</td>\n",
       "      <td>누구일까나</td>\n",
       "      <td>ㅡ</td>\n",
       "    </tr>\n",
       "    <tr>\n",
       "      <th>...</th>\n",
       "      <td>...</td>\n",
       "      <td>...</td>\n",
       "      <td>...</td>\n",
       "    </tr>\n",
       "    <tr>\n",
       "      <th>58948</th>\n",
       "      <td>8:03:22</td>\n",
       "      <td>뽀송세연</td>\n",
       "      <td>HeyGuys HeyGuys HeyGuys HeyGuys</td>\n",
       "    </tr>\n",
       "    <tr>\n",
       "      <th>58949</th>\n",
       "      <td>8:03:22</td>\n",
       "      <td>포테이토더블치즈엣지</td>\n",
       "      <td>BibleThump BibleThump BibleThump BibleThump Bi...</td>\n",
       "    </tr>\n",
       "    <tr>\n",
       "      <th>58950</th>\n",
       "      <td>8:03:23</td>\n",
       "      <td>나태24</td>\n",
       "      <td>HeyGuys</td>\n",
       "    </tr>\n",
       "    <tr>\n",
       "      <th>58951</th>\n",
       "      <td>8:03:23</td>\n",
       "      <td>석박이_</td>\n",
       "      <td>BibleThump</td>\n",
       "    </tr>\n",
       "    <tr>\n",
       "      <th>58952</th>\n",
       "      <td>8:03:23</td>\n",
       "      <td>놀래는놀래미</td>\n",
       "      <td>LUL LUL LUL LUL LUL LUL LUL LUL LUL BibleThump...</td>\n",
       "    </tr>\n",
       "  </tbody>\n",
       "</table>\n",
       "<p>58951 rows × 3 columns</p>\n",
       "</div>"
      ],
      "text/plain": [
       "            일시       시청자ID                                               채팅내용\n",
       "0      0:00:14         변스코                                                 ㅎㅇ\n",
       "1      0:00:16     jms1205                                               ㅎㅇㅎㅇ\n",
       "2      0:00:17         변스코                                             지각 안햇네\n",
       "3      0:00:20      아니키라불러                                                어셈블\n",
       "4      0:00:26       누구일까나                                                  ㅡ\n",
       "...        ...         ...                                                ...\n",
       "58948  8:03:22        뽀송세연                    HeyGuys HeyGuys HeyGuys HeyGuys\n",
       "58949  8:03:22  포테이토더블치즈엣지  BibleThump BibleThump BibleThump BibleThump Bi...\n",
       "58950  8:03:23        나태24                                            HeyGuys\n",
       "58951  8:03:23        석박이_                                         BibleThump\n",
       "58952  8:03:23      놀래는놀래미  LUL LUL LUL LUL LUL LUL LUL LUL LUL BibleThump...\n",
       "\n",
       "[58951 rows x 3 columns]"
      ]
     },
     "execution_count": 10,
     "metadata": {},
     "output_type": "execute_result"
    }
   ],
   "source": [
    "chat_dot = chat.채팅내용.str.contains('[⠁⠃⠉⠙⠑⠋⠛⠓⠊⠚⠅⠇⠍⠝⠕⠏⠟⠗⠎⠞⠥⠧⠺⠭⠽⠵⠠⠁⠃⠉⠙⠑⠋⠛⠓⠊⠚]',na=False) \n",
    "chat = chat[~chat_dot]\n",
    "chat = chat[chat['시청자ID'] != \"Nightbot\"]\n",
    "chat"
   ]
  },
  {
   "cell_type": "code",
   "execution_count": 11,
   "metadata": {},
   "outputs": [
    {
     "data": {
      "text/plain": [
       "일시\n",
       "0:00:14     1\n",
       "0:00:16     1\n",
       "0:00:17     1\n",
       "0:00:20     1\n",
       "0:00:26     1\n",
       "           ..\n",
       "8:03:19     5\n",
       "8:03:20     4\n",
       "8:03:21    10\n",
       "8:03:22    11\n",
       "8:03:23     3\n",
       "Name: 채팅내용, Length: 21577, dtype: int64"
      ]
     },
     "execution_count": 11,
     "metadata": {},
     "output_type": "execute_result"
    }
   ],
   "source": [
    "chat_number = chat.groupby('일시')['채팅내용'].count()\n",
    "chat_number"
   ]
  },
  {
   "cell_type": "code",
   "execution_count": 12,
   "metadata": {},
   "outputs": [
    {
     "data": {
      "text/html": [
       "<div>\n",
       "<style scoped>\n",
       "    .dataframe tbody tr th:only-of-type {\n",
       "        vertical-align: middle;\n",
       "    }\n",
       "\n",
       "    .dataframe tbody tr th {\n",
       "        vertical-align: top;\n",
       "    }\n",
       "\n",
       "    .dataframe thead th {\n",
       "        text-align: right;\n",
       "    }\n",
       "</style>\n",
       "<table border=\"1\" class=\"dataframe\">\n",
       "  <thead>\n",
       "    <tr style=\"text-align: right;\">\n",
       "      <th></th>\n",
       "      <th>시간</th>\n",
       "      <th>채팅수</th>\n",
       "    </tr>\n",
       "  </thead>\n",
       "  <tbody>\n",
       "    <tr>\n",
       "      <th>0</th>\n",
       "      <td>0:00:14</td>\n",
       "      <td>1</td>\n",
       "    </tr>\n",
       "    <tr>\n",
       "      <th>1</th>\n",
       "      <td>0:00:16</td>\n",
       "      <td>1</td>\n",
       "    </tr>\n",
       "    <tr>\n",
       "      <th>2</th>\n",
       "      <td>0:00:17</td>\n",
       "      <td>1</td>\n",
       "    </tr>\n",
       "    <tr>\n",
       "      <th>3</th>\n",
       "      <td>0:00:20</td>\n",
       "      <td>1</td>\n",
       "    </tr>\n",
       "    <tr>\n",
       "      <th>4</th>\n",
       "      <td>0:00:26</td>\n",
       "      <td>1</td>\n",
       "    </tr>\n",
       "    <tr>\n",
       "      <th>...</th>\n",
       "      <td>...</td>\n",
       "      <td>...</td>\n",
       "    </tr>\n",
       "    <tr>\n",
       "      <th>21572</th>\n",
       "      <td>8:03:19</td>\n",
       "      <td>5</td>\n",
       "    </tr>\n",
       "    <tr>\n",
       "      <th>21573</th>\n",
       "      <td>8:03:20</td>\n",
       "      <td>4</td>\n",
       "    </tr>\n",
       "    <tr>\n",
       "      <th>21574</th>\n",
       "      <td>8:03:21</td>\n",
       "      <td>10</td>\n",
       "    </tr>\n",
       "    <tr>\n",
       "      <th>21575</th>\n",
       "      <td>8:03:22</td>\n",
       "      <td>11</td>\n",
       "    </tr>\n",
       "    <tr>\n",
       "      <th>21576</th>\n",
       "      <td>8:03:23</td>\n",
       "      <td>3</td>\n",
       "    </tr>\n",
       "  </tbody>\n",
       "</table>\n",
       "<p>21577 rows × 2 columns</p>\n",
       "</div>"
      ],
      "text/plain": [
       "            시간  채팅수\n",
       "0      0:00:14    1\n",
       "1      0:00:16    1\n",
       "2      0:00:17    1\n",
       "3      0:00:20    1\n",
       "4      0:00:26    1\n",
       "...        ...  ...\n",
       "21572  8:03:19    5\n",
       "21573  8:03:20    4\n",
       "21574  8:03:21   10\n",
       "21575  8:03:22   11\n",
       "21576  8:03:23    3\n",
       "\n",
       "[21577 rows x 2 columns]"
      ]
     },
     "execution_count": 12,
     "metadata": {},
     "output_type": "execute_result"
    }
   ],
   "source": [
    "df1 = DataFrame(chat_number)\n",
    "df1 = df1.reset_index()\n",
    "df1.rename(columns= {'일시':'시간', '채팅내용':'채팅수'}, inplace=True)\n",
    "df1"
   ]
  },
  {
   "cell_type": "code",
   "execution_count": 13,
   "metadata": {},
   "outputs": [],
   "source": [
    "df1['시간'] = pd.to_datetime(df1['시간'])\n",
    "df1 = df1.set_index('시간')\n",
    "date_index = pd.date_range('00:00:00', '08:03:23', freq='s')\n",
    "df1 = df1.reindex(date_index, fill_value=0)"
   ]
  },
  {
   "cell_type": "code",
   "execution_count": 14,
   "metadata": {},
   "outputs": [
    {
     "data": {
      "text/html": [
       "<div>\n",
       "<style scoped>\n",
       "    .dataframe tbody tr th:only-of-type {\n",
       "        vertical-align: middle;\n",
       "    }\n",
       "\n",
       "    .dataframe tbody tr th {\n",
       "        vertical-align: top;\n",
       "    }\n",
       "\n",
       "    .dataframe thead th {\n",
       "        text-align: right;\n",
       "    }\n",
       "</style>\n",
       "<table border=\"1\" class=\"dataframe\">\n",
       "  <thead>\n",
       "    <tr style=\"text-align: right;\">\n",
       "      <th></th>\n",
       "      <th>시간</th>\n",
       "      <th>채팅수</th>\n",
       "    </tr>\n",
       "  </thead>\n",
       "  <tbody>\n",
       "    <tr>\n",
       "      <th>0</th>\n",
       "      <td>00:00:00</td>\n",
       "      <td>0</td>\n",
       "    </tr>\n",
       "    <tr>\n",
       "      <th>1</th>\n",
       "      <td>00:00:01</td>\n",
       "      <td>0</td>\n",
       "    </tr>\n",
       "    <tr>\n",
       "      <th>2</th>\n",
       "      <td>00:00:02</td>\n",
       "      <td>0</td>\n",
       "    </tr>\n",
       "    <tr>\n",
       "      <th>3</th>\n",
       "      <td>00:00:03</td>\n",
       "      <td>0</td>\n",
       "    </tr>\n",
       "    <tr>\n",
       "      <th>4</th>\n",
       "      <td>00:00:04</td>\n",
       "      <td>0</td>\n",
       "    </tr>\n",
       "    <tr>\n",
       "      <th>...</th>\n",
       "      <td>...</td>\n",
       "      <td>...</td>\n",
       "    </tr>\n",
       "    <tr>\n",
       "      <th>28999</th>\n",
       "      <td>08:03:19</td>\n",
       "      <td>5</td>\n",
       "    </tr>\n",
       "    <tr>\n",
       "      <th>29000</th>\n",
       "      <td>08:03:20</td>\n",
       "      <td>4</td>\n",
       "    </tr>\n",
       "    <tr>\n",
       "      <th>29001</th>\n",
       "      <td>08:03:21</td>\n",
       "      <td>10</td>\n",
       "    </tr>\n",
       "    <tr>\n",
       "      <th>29002</th>\n",
       "      <td>08:03:22</td>\n",
       "      <td>11</td>\n",
       "    </tr>\n",
       "    <tr>\n",
       "      <th>29003</th>\n",
       "      <td>08:03:23</td>\n",
       "      <td>3</td>\n",
       "    </tr>\n",
       "  </tbody>\n",
       "</table>\n",
       "<p>29004 rows × 2 columns</p>\n",
       "</div>"
      ],
      "text/plain": [
       "             시간  채팅수\n",
       "0      00:00:00    0\n",
       "1      00:00:01    0\n",
       "2      00:00:02    0\n",
       "3      00:00:03    0\n",
       "4      00:00:04    0\n",
       "...         ...  ...\n",
       "28999  08:03:19    5\n",
       "29000  08:03:20    4\n",
       "29001  08:03:21   10\n",
       "29002  08:03:22   11\n",
       "29003  08:03:23    3\n",
       "\n",
       "[29004 rows x 2 columns]"
      ]
     },
     "execution_count": 14,
     "metadata": {},
     "output_type": "execute_result"
    }
   ],
   "source": [
    "df1 = df1.reset_index()\n",
    "df1.rename(columns= {'index':'시간'}, inplace=True)\n",
    "df1['시간'] = df1['시간'].dt.strftime('%H:%M:%S')\n",
    "df1"
   ]
  },
  {
   "cell_type": "code",
   "execution_count": 15,
   "metadata": {},
   "outputs": [
    {
     "name": "stderr",
     "output_type": "stream",
     "text": [
      "C:\\Users\\jaegun\\Anaconda3\\lib\\site-packages\\matplotlib\\backends\\backend_agg.py:238: RuntimeWarning: Glyph 52292 missing from current font.\n",
      "  font.set_text(s, 0.0, flags=flags)\n",
      "C:\\Users\\jaegun\\Anaconda3\\lib\\site-packages\\matplotlib\\backends\\backend_agg.py:238: RuntimeWarning: Glyph 54021 missing from current font.\n",
      "  font.set_text(s, 0.0, flags=flags)\n",
      "C:\\Users\\jaegun\\Anaconda3\\lib\\site-packages\\matplotlib\\backends\\backend_agg.py:238: RuntimeWarning: Glyph 49688 missing from current font.\n",
      "  font.set_text(s, 0.0, flags=flags)\n",
      "C:\\Users\\jaegun\\Anaconda3\\lib\\site-packages\\matplotlib\\backends\\backend_agg.py:201: RuntimeWarning: Glyph 52292 missing from current font.\n",
      "  font.set_text(s, 0, flags=flags)\n",
      "C:\\Users\\jaegun\\Anaconda3\\lib\\site-packages\\matplotlib\\backends\\backend_agg.py:201: RuntimeWarning: Glyph 54021 missing from current font.\n",
      "  font.set_text(s, 0, flags=flags)\n",
      "C:\\Users\\jaegun\\Anaconda3\\lib\\site-packages\\matplotlib\\backends\\backend_agg.py:201: RuntimeWarning: Glyph 49688 missing from current font.\n",
      "  font.set_text(s, 0, flags=flags)\n"
     ]
    },
    {
     "data": {
      "image/png": "[encoded data removed]",
      "text/plain": [
       "<Figure size 1440x720 with 1 Axes>"
      ]
     },
     "metadata": {
      "needs_background": "light"
     },
     "output_type": "display_data"
    }
   ],
   "source": [
    "df1.plot(kind='line', figsize=(20,10), color='mediumpurple')\n",
    "plt.xlabel(\"seconds\")\n",
    "plt.ylabel(\"chat counts\")\n",
    "plt.savefig('./935176016.png')"
   ]
  },
  {
   "cell_type": "markdown",
   "metadata": {},
   "source": [
    "## 채팅 트래픽 기반 하이라이트 추출"
   ]
  },
  {
   "cell_type": "markdown",
   "metadata": {},
   "source": [
    "### 하이라이트 알고리즘 parameter 설정"
   ]
  },
  {
   "cell_type": "code",
   "execution_count": 16,
   "metadata": {},
   "outputs": [
    {
     "data": {
      "text/plain": [
       "일시       58951\n",
       "시청자ID    58951\n",
       "채팅내용     58949\n",
       "dtype: int64"
      ]
     },
     "execution_count": 16,
     "metadata": {},
     "output_type": "execute_result"
    }
   ],
   "source": [
    "chat.count()"
   ]
  },
  {
   "cell_type": "code",
   "execution_count": 17,
   "metadata": {},
   "outputs": [
    {
     "data": {
      "text/plain": [
       "11.0"
      ]
     },
     "execution_count": 17,
     "metadata": {},
     "output_type": "execute_result"
    }
   ],
   "source": [
    "a = np.percentile(df1['채팅수'], 99) \n",
    "a"
   ]
  },
  {
   "cell_type": "code",
   "execution_count": 18,
   "metadata": {},
   "outputs": [
    {
     "data": {
      "text/plain": [
       "2.0324438008550545"
      ]
     },
     "execution_count": 18,
     "metadata": {},
     "output_type": "execute_result"
    }
   ],
   "source": [
    "b = df1['채팅수'].mean()\n",
    "b"
   ]
  },
  {
   "cell_type": "code",
   "execution_count": 19,
   "metadata": {},
   "outputs": [
    {
     "data": {
      "text/plain": [
       "2.2549878086933903"
      ]
     },
     "execution_count": 19,
     "metadata": {},
     "output_type": "execute_result"
    }
   ],
   "source": [
    "c = np.std(df1['채팅수'])\n",
    "c"
   ]
  },
  {
   "cell_type": "code",
   "execution_count": 20,
   "metadata": {},
   "outputs": [
    {
     "data": {
      "text/plain": [
       "3.9767648253233907"
      ]
     },
     "execution_count": 20,
     "metadata": {},
     "output_type": "execute_result"
    }
   ],
   "source": [
    "t = (a - b) / c\n",
    "t"
   ]
  },
  {
   "cell_type": "code",
   "execution_count": 21,
   "metadata": {},
   "outputs": [
    {
     "data": {
      "text/plain": [
       "0         0\n",
       "1         0\n",
       "2         0\n",
       "3         0\n",
       "4         0\n",
       "         ..\n",
       "28999     5\n",
       "29000     4\n",
       "29001    10\n",
       "29002    11\n",
       "29003     3\n",
       "Name: 채팅수, Length: 29004, dtype: int64"
      ]
     },
     "execution_count": 21,
     "metadata": {},
     "output_type": "execute_result"
    }
   ],
   "source": [
    "df1['채팅수']"
   ]
  },
  {
   "cell_type": "markdown",
   "metadata": {},
   "source": [
    "### 하이라이트 선정 알고리즘"
   ]
  },
  {
   "cell_type": "code",
   "execution_count": 28,
   "metadata": {},
   "outputs": [
    {
     "data": {
      "image/png": "[encoded data removed]",
      "text/plain": [
       "<Figure size 432x288 with 2 Axes>"
      ]
     },
     "metadata": {
      "needs_background": "light"
     },
     "output_type": "display_data"
    }
   ],
   "source": [
    "import numpy as np\n",
    "import pylab\n",
    "\n",
    "\n",
    "def init(x, lag, threshold, influence):\n",
    "\n",
    "    labels = np.zeros(lag) \n",
    "    filtered_y = np.array(x[0:lag]) \n",
    "    avg_filter = np.zeros(lag)\n",
    "    std_filter = np.zeros(lag)\n",
    "    var_filter = np.zeros(lag)\n",
    "\n",
    "    avg_filter[lag - 1] = np.mean(x[0:lag])\n",
    "    std_filter[lag - 1] = np.std(x[0:lag])\n",
    "    var_filter[lag - 1] = np.var(x[0:lag])\n",
    "\n",
    "    return dict(avg=avg_filter[lag - 1],\n",
    "                var=var_filter[lag - 1],\n",
    "                std=std_filter[lag - 1],\n",
    "                filtered_y=filtered_y,\n",
    "                labels=labels)\n",
    "\n",
    "def add(esult, single_value, lag, threshold, influence):\n",
    "    previous_avg = result['avg']\n",
    "    previous_var = result['var']\n",
    "    previous_std = result['std']\n",
    "    filtered_y = result['filtered_y']\n",
    "    labels = result['labels']\n",
    "\n",
    "    if abs(single_value - previous_avg) > threshold * previous_std:\n",
    "        if single_value > previous_avg:\n",
    "            labels = np.append(labels, 1)\n",
    "        else:\n",
    "            labels = np.append(labels, -1)\n",
    "\n",
    "        filtered_y = np.append(filtered_y, influence * single_value\n",
    "                               + (1 - influence) * filtered_y[-1])\n",
    "    else:\n",
    "        labels = np.append(labels, 0)\n",
    "        filtered_y = np.append(filtered_y, single_value)\n",
    "\n",
    "    current_avg_filter = previous_avg + 1. / lag * (filtered_y[-1]\n",
    "            - filtered_y[len(filtered_y) - lag - 1])\n",
    "\n",
    "    current_var_filter = previous_var + 1. / lag * ((filtered_y[-1]\n",
    "            - previous_avg) ** 2 - (filtered_y[len(filtered_y) - 1\n",
    "            - lag] - previous_avg) ** 2 - (filtered_y[-1]\n",
    "            - filtered_y[len(filtered_y) - 1 - lag]) ** 2 / lag)  \n",
    "    \n",
    "    current_std_filter = np.sqrt(current_var_filter)\n",
    "\n",
    "    return dict(avg=current_avg_filter,\n",
    "                var=current_var_filter,\n",
    "                std=current_std_filter,\n",
    "                filtered_y=filtered_y[1:],\n",
    "                labels=labels)\n",
    "\n",
    "lag = 25\n",
    "threshold = t\n",
    "influence = 0\n",
    "\n",
    "y = df1['채팅수']\n",
    "\n",
    "result = init(y[:lag], lag=lag, threshold=threshold, influence=influence)\n",
    "\n",
    "for i in y[lag:]:\n",
    "    result = add(result, i, lag, threshold, influence)\n",
    "\n",
    "pylab.subplot(211)\n",
    "pylab.plot(np.arange(1, len(y) + 1), y)\n",
    "pylab.subplot(212)\n",
    "pylab.step(np.arange(1, len(y) + 1), result['labels'], color='red',\n",
    "           lw=2)\n",
    "pylab.ylim(-1.5, 1.5)\n",
    "pylab.show()"
   ]
  },
  {
   "cell_type": "code",
   "execution_count": 29,
   "metadata": {},
   "outputs": [
    {
     "data": {
      "text/plain": [
       "array([0., 0., 0., ..., 0., 0., 0.])"
      ]
     },
     "execution_count": 29,
     "metadata": {},
     "output_type": "execute_result"
    }
   ],
   "source": [
    "highlight_result = result['labels']\n",
    "highlight_result"
   ]
  },
  {
   "cell_type": "code",
   "execution_count": 30,
   "metadata": {},
   "outputs": [
    {
     "data": {
      "text/html": [
       "<div>\n",
       "<style scoped>\n",
       "    .dataframe tbody tr th:only-of-type {\n",
       "        vertical-align: middle;\n",
       "    }\n",
       "\n",
       "    .dataframe tbody tr th {\n",
       "        vertical-align: top;\n",
       "    }\n",
       "\n",
       "    .dataframe thead th {\n",
       "        text-align: right;\n",
       "    }\n",
       "</style>\n",
       "<table border=\"1\" class=\"dataframe\">\n",
       "  <thead>\n",
       "    <tr style=\"text-align: right;\">\n",
       "      <th></th>\n",
       "      <th>하이라이트 여부</th>\n",
       "    </tr>\n",
       "  </thead>\n",
       "  <tbody>\n",
       "    <tr>\n",
       "      <th>0</th>\n",
       "      <td>X</td>\n",
       "    </tr>\n",
       "    <tr>\n",
       "      <th>1</th>\n",
       "      <td>X</td>\n",
       "    </tr>\n",
       "    <tr>\n",
       "      <th>2</th>\n",
       "      <td>X</td>\n",
       "    </tr>\n",
       "    <tr>\n",
       "      <th>3</th>\n",
       "      <td>X</td>\n",
       "    </tr>\n",
       "    <tr>\n",
       "      <th>4</th>\n",
       "      <td>X</td>\n",
       "    </tr>\n",
       "    <tr>\n",
       "      <th>...</th>\n",
       "      <td>...</td>\n",
       "    </tr>\n",
       "    <tr>\n",
       "      <th>28999</th>\n",
       "      <td>X</td>\n",
       "    </tr>\n",
       "    <tr>\n",
       "      <th>29000</th>\n",
       "      <td>X</td>\n",
       "    </tr>\n",
       "    <tr>\n",
       "      <th>29001</th>\n",
       "      <td>X</td>\n",
       "    </tr>\n",
       "    <tr>\n",
       "      <th>29002</th>\n",
       "      <td>X</td>\n",
       "    </tr>\n",
       "    <tr>\n",
       "      <th>29003</th>\n",
       "      <td>X</td>\n",
       "    </tr>\n",
       "  </tbody>\n",
       "</table>\n",
       "<p>29004 rows × 1 columns</p>\n",
       "</div>"
      ],
      "text/plain": [
       "      하이라이트 여부\n",
       "0            X\n",
       "1            X\n",
       "2            X\n",
       "3            X\n",
       "4            X\n",
       "...        ...\n",
       "28999        X\n",
       "29000        X\n",
       "29001        X\n",
       "29002        X\n",
       "29003        X\n",
       "\n",
       "[29004 rows x 1 columns]"
      ]
     },
     "execution_count": 30,
     "metadata": {},
     "output_type": "execute_result"
    }
   ],
   "source": [
    "column_highlight = ['하이라이트 여부']\n",
    "df2 = pd.DataFrame(highlight_result, columns=column_highlight)\n",
    "df2 = df2.replace(0.0, \"X\")\n",
    "df2 = df2.replace(1.0, \"O\")\n",
    "df2"
   ]
  },
  {
   "cell_type": "code",
   "execution_count": 31,
   "metadata": {},
   "outputs": [
    {
     "data": {
      "text/html": [
       "<div>\n",
       "<style scoped>\n",
       "    .dataframe tbody tr th:only-of-type {\n",
       "        vertical-align: middle;\n",
       "    }\n",
       "\n",
       "    .dataframe tbody tr th {\n",
       "        vertical-align: top;\n",
       "    }\n",
       "\n",
       "    .dataframe thead th {\n",
       "        text-align: right;\n",
       "    }\n",
       "</style>\n",
       "<table border=\"1\" class=\"dataframe\">\n",
       "  <thead>\n",
       "    <tr style=\"text-align: right;\">\n",
       "      <th></th>\n",
       "      <th>시간</th>\n",
       "      <th>채팅수</th>\n",
       "      <th>하이라이트 여부</th>\n",
       "    </tr>\n",
       "  </thead>\n",
       "  <tbody>\n",
       "    <tr>\n",
       "      <th>0</th>\n",
       "      <td>00:00:00</td>\n",
       "      <td>0</td>\n",
       "      <td>X</td>\n",
       "    </tr>\n",
       "    <tr>\n",
       "      <th>1</th>\n",
       "      <td>00:00:01</td>\n",
       "      <td>0</td>\n",
       "      <td>X</td>\n",
       "    </tr>\n",
       "    <tr>\n",
       "      <th>2</th>\n",
       "      <td>00:00:02</td>\n",
       "      <td>0</td>\n",
       "      <td>X</td>\n",
       "    </tr>\n",
       "    <tr>\n",
       "      <th>3</th>\n",
       "      <td>00:00:03</td>\n",
       "      <td>0</td>\n",
       "      <td>X</td>\n",
       "    </tr>\n",
       "    <tr>\n",
       "      <th>4</th>\n",
       "      <td>00:00:04</td>\n",
       "      <td>0</td>\n",
       "      <td>X</td>\n",
       "    </tr>\n",
       "    <tr>\n",
       "      <th>...</th>\n",
       "      <td>...</td>\n",
       "      <td>...</td>\n",
       "      <td>...</td>\n",
       "    </tr>\n",
       "    <tr>\n",
       "      <th>28999</th>\n",
       "      <td>08:03:19</td>\n",
       "      <td>5</td>\n",
       "      <td>X</td>\n",
       "    </tr>\n",
       "    <tr>\n",
       "      <th>29000</th>\n",
       "      <td>08:03:20</td>\n",
       "      <td>4</td>\n",
       "      <td>X</td>\n",
       "    </tr>\n",
       "    <tr>\n",
       "      <th>29001</th>\n",
       "      <td>08:03:21</td>\n",
       "      <td>10</td>\n",
       "      <td>X</td>\n",
       "    </tr>\n",
       "    <tr>\n",
       "      <th>29002</th>\n",
       "      <td>08:03:22</td>\n",
       "      <td>11</td>\n",
       "      <td>X</td>\n",
       "    </tr>\n",
       "    <tr>\n",
       "      <th>29003</th>\n",
       "      <td>08:03:23</td>\n",
       "      <td>3</td>\n",
       "      <td>X</td>\n",
       "    </tr>\n",
       "  </tbody>\n",
       "</table>\n",
       "<p>29004 rows × 3 columns</p>\n",
       "</div>"
      ],
      "text/plain": [
       "             시간  채팅수 하이라이트 여부\n",
       "0      00:00:00    0        X\n",
       "1      00:00:01    0        X\n",
       "2      00:00:02    0        X\n",
       "3      00:00:03    0        X\n",
       "4      00:00:04    0        X\n",
       "...         ...  ...      ...\n",
       "28999  08:03:19    5        X\n",
       "29000  08:03:20    4        X\n",
       "29001  08:03:21   10        X\n",
       "29002  08:03:22   11        X\n",
       "29003  08:03:23    3        X\n",
       "\n",
       "[29004 rows x 3 columns]"
      ]
     },
     "execution_count": 31,
     "metadata": {},
     "output_type": "execute_result"
    }
   ],
   "source": [
    "chat_highlightall = pd.concat([df1, df2], axis=1)\n",
    "chat_highlightall"
   ]
  },
  {
   "cell_type": "code",
   "execution_count": null,
   "metadata": {},
   "outputs": [],
   "source": [
    "chat_highlight = chat_highlightall[chat_highlightall['하이라이트 여부'] == \"O\"]\n",
    "chat_highlight"
   ]
  },
  {
   "cell_type": "code",
   "execution_count": null,
   "metadata": {},
   "outputs": [],
   "source": [
    "# csv로 변환 후 비교해보기\n",
    "\n",
    "chat_highlight.to_csv(\"[Chat Highlight]괴물쥐_935176016.csv\")"
   ]
  },
  {
   "cell_type": "code",
   "execution_count": null,
   "metadata": {},
   "outputs": [],
   "source": []
  }
 ],
 "metadata": {
  "kernelspec": {
   "display_name": "Python 3",
   "language": "python",
   "name": "python3"
  },
  "language_info": {
   "codemirror_mode": {
    "name": "ipython",
    "version": 3
   },
   "file_extension": ".py",
   "mimetype": "text/x-python",
   "name": "python",
   "nbconvert_exporter": "python",
   "pygments_lexer": "ipython3",
   "version": "3.8.5"
  }
 },
 "nbformat": 4,
 "nbformat_minor": 4
}
