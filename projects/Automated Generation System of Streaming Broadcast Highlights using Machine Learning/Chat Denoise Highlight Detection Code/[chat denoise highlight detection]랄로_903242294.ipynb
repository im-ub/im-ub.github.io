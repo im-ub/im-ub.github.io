{
 "cells": [
  {
   "cell_type": "code",
   "execution_count": 2,
   "metadata": {},
   "outputs": [],
   "source": [
    "import numpy as np\n",
    "import pandas as pd\n",
    "import seaborn as sns\n",
    "import matplotlib.pyplot as plt\n",
    "import statsmodels.api as sm\n",
    "import statsmodels.formula.api as smf\n",
    "import random as rd\n",
    "from scipy.stats import ttest_1samp\n",
    "from scipy.stats import ttest_ind\n",
    "from sklearn.linear_model import LinearRegression\n",
    "from pandas import DataFrame\n",
    "from pandas import read_csv\n",
    "from matplotlib import pyplot\n",
    "import numpy"
   ]
  },
  {
   "cell_type": "markdown",
   "metadata": {},
   "source": [
    "# 랄로_903242294"
   ]
  },
  {
   "cell_type": "markdown",
   "metadata": {},
   "source": [
    "### 채팅 데이터 불러오기"
   ]
  },
  {
   "cell_type": "code",
   "execution_count": 3,
   "metadata": {},
   "outputs": [
    {
     "data": {
      "text/html": [
       "<div>\n",
       "<style scoped>\n",
       "    .dataframe tbody tr th:only-of-type {\n",
       "        vertical-align: middle;\n",
       "    }\n",
       "\n",
       "    .dataframe tbody tr th {\n",
       "        vertical-align: top;\n",
       "    }\n",
       "\n",
       "    .dataframe thead th {\n",
       "        text-align: right;\n",
       "    }\n",
       "</style>\n",
       "<table border=\"1\" class=\"dataframe\">\n",
       "  <thead>\n",
       "    <tr style=\"text-align: right;\">\n",
       "      <th></th>\n",
       "      <th>일시</th>\n",
       "      <th>시청자ID</th>\n",
       "      <th>채팅내용</th>\n",
       "    </tr>\n",
       "  </thead>\n",
       "  <tbody>\n",
       "    <tr>\n",
       "      <th>0</th>\n",
       "      <td>0:00:18</td>\n",
       "      <td>맘만먹으면골드가는사람</td>\n",
       "      <td>BabyRage BabyRage</td>\n",
       "    </tr>\n",
       "    <tr>\n",
       "      <th>1</th>\n",
       "      <td>0:00:19</td>\n",
       "      <td>삼방동_김찬호</td>\n",
       "      <td>NotLikeThis NotLikeThis NotLikeThis</td>\n",
       "    </tr>\n",
       "    <tr>\n",
       "      <th>2</th>\n",
       "      <td>0:00:20</td>\n",
       "      <td>3억딜량돈즈리얼</td>\n",
       "      <td>FootYellow FootYellow FootYellow FootYellow Fo...</td>\n",
       "    </tr>\n",
       "    <tr>\n",
       "      <th>3</th>\n",
       "      <td>0:00:22</td>\n",
       "      <td>Xormralgh</td>\n",
       "      <td>ResidentSleeper ResidentSleeper ResidentSleeper</td>\n",
       "    </tr>\n",
       "    <tr>\n",
       "      <th>4</th>\n",
       "      <td>0:00:25</td>\n",
       "      <td>선홍빛하늘색</td>\n",
       "      <td>HeyGuys</td>\n",
       "    </tr>\n",
       "    <tr>\n",
       "      <th>...</th>\n",
       "      <td>...</td>\n",
       "      <td>...</td>\n",
       "      <td>...</td>\n",
       "    </tr>\n",
       "    <tr>\n",
       "      <th>79898</th>\n",
       "      <td>5:02:14</td>\n",
       "      <td>trip0414</td>\n",
       "      <td>BibleThump BibleThump BibleThump BibleThump</td>\n",
       "    </tr>\n",
       "    <tr>\n",
       "      <th>79899</th>\n",
       "      <td>5:02:14</td>\n",
       "      <td>빵뺭빵</td>\n",
       "      <td>BibleThump BibleThump BibleThump BibleThump Bi...</td>\n",
       "    </tr>\n",
       "    <tr>\n",
       "      <th>79900</th>\n",
       "      <td>5:02:14</td>\n",
       "      <td>han5814</td>\n",
       "      <td>BibleThump BibleThump BibleThump BibleThump</td>\n",
       "    </tr>\n",
       "    <tr>\n",
       "      <th>79901</th>\n",
       "      <td>5:02:14</td>\n",
       "      <td>손디손디</td>\n",
       "      <td>BibleThump BibleThump BibleThump BibleThump Bi...</td>\n",
       "    </tr>\n",
       "    <tr>\n",
       "      <th>79902</th>\n",
       "      <td>5:02:14</td>\n",
       "      <td>paopaoboy76</td>\n",
       "      <td>NotLikeThis NotLikeThis NotLikeThis NotLikeThi...</td>\n",
       "    </tr>\n",
       "  </tbody>\n",
       "</table>\n",
       "<p>79903 rows × 3 columns</p>\n",
       "</div>"
      ],
      "text/plain": [
       "            일시        시청자ID                                               채팅내용\n",
       "0      0:00:18  맘만먹으면골드가는사람                                  BabyRage BabyRage\n",
       "1      0:00:19      삼방동_김찬호                NotLikeThis NotLikeThis NotLikeThis\n",
       "2      0:00:20     3억딜량돈즈리얼  FootYellow FootYellow FootYellow FootYellow Fo...\n",
       "3      0:00:22    Xormralgh    ResidentSleeper ResidentSleeper ResidentSleeper\n",
       "4      0:00:25       선홍빛하늘색                                            HeyGuys\n",
       "...        ...          ...                                                ...\n",
       "79898  5:02:14     trip0414        BibleThump BibleThump BibleThump BibleThump\n",
       "79899  5:02:14          빵뺭빵  BibleThump BibleThump BibleThump BibleThump Bi...\n",
       "79900  5:02:14      han5814        BibleThump BibleThump BibleThump BibleThump\n",
       "79901  5:02:14         손디손디  BibleThump BibleThump BibleThump BibleThump Bi...\n",
       "79902  5:02:14  paopaoboy76  NotLikeThis NotLikeThis NotLikeThis NotLikeThi...\n",
       "\n",
       "[79903 rows x 3 columns]"
      ]
     },
     "execution_count": 3,
     "metadata": {},
     "output_type": "execute_result"
    }
   ],
   "source": [
    "chat = pd.read_csv(\"chat data/game/903242294.csv\", names=['일시','시청자ID','채팅내용'])\n",
    "chat"
   ]
  },
  {
   "cell_type": "markdown",
   "metadata": {},
   "source": [
    "### 채팅 데이터 노이즈(채팅봇, 아스키아트) 제거"
   ]
  },
  {
   "cell_type": "code",
   "execution_count": 4,
   "metadata": {},
   "outputs": [
    {
     "data": {
      "text/html": [
       "<div>\n",
       "<style scoped>\n",
       "    .dataframe tbody tr th:only-of-type {\n",
       "        vertical-align: middle;\n",
       "    }\n",
       "\n",
       "    .dataframe tbody tr th {\n",
       "        vertical-align: top;\n",
       "    }\n",
       "\n",
       "    .dataframe thead th {\n",
       "        text-align: right;\n",
       "    }\n",
       "</style>\n",
       "<table border=\"1\" class=\"dataframe\">\n",
       "  <thead>\n",
       "    <tr style=\"text-align: right;\">\n",
       "      <th></th>\n",
       "      <th>일시</th>\n",
       "      <th>시청자ID</th>\n",
       "      <th>채팅내용</th>\n",
       "    </tr>\n",
       "  </thead>\n",
       "  <tbody>\n",
       "    <tr>\n",
       "      <th>0</th>\n",
       "      <td>0:00:18</td>\n",
       "      <td>맘만먹으면골드가는사람</td>\n",
       "      <td>BabyRage BabyRage</td>\n",
       "    </tr>\n",
       "    <tr>\n",
       "      <th>1</th>\n",
       "      <td>0:00:19</td>\n",
       "      <td>삼방동_김찬호</td>\n",
       "      <td>NotLikeThis NotLikeThis NotLikeThis</td>\n",
       "    </tr>\n",
       "    <tr>\n",
       "      <th>2</th>\n",
       "      <td>0:00:20</td>\n",
       "      <td>3억딜량돈즈리얼</td>\n",
       "      <td>FootYellow FootYellow FootYellow FootYellow Fo...</td>\n",
       "    </tr>\n",
       "    <tr>\n",
       "      <th>3</th>\n",
       "      <td>0:00:22</td>\n",
       "      <td>Xormralgh</td>\n",
       "      <td>ResidentSleeper ResidentSleeper ResidentSleeper</td>\n",
       "    </tr>\n",
       "    <tr>\n",
       "      <th>4</th>\n",
       "      <td>0:00:25</td>\n",
       "      <td>선홍빛하늘색</td>\n",
       "      <td>HeyGuys</td>\n",
       "    </tr>\n",
       "    <tr>\n",
       "      <th>...</th>\n",
       "      <td>...</td>\n",
       "      <td>...</td>\n",
       "      <td>...</td>\n",
       "    </tr>\n",
       "    <tr>\n",
       "      <th>79898</th>\n",
       "      <td>5:02:14</td>\n",
       "      <td>trip0414</td>\n",
       "      <td>BibleThump BibleThump BibleThump BibleThump</td>\n",
       "    </tr>\n",
       "    <tr>\n",
       "      <th>79899</th>\n",
       "      <td>5:02:14</td>\n",
       "      <td>빵뺭빵</td>\n",
       "      <td>BibleThump BibleThump BibleThump BibleThump Bi...</td>\n",
       "    </tr>\n",
       "    <tr>\n",
       "      <th>79900</th>\n",
       "      <td>5:02:14</td>\n",
       "      <td>han5814</td>\n",
       "      <td>BibleThump BibleThump BibleThump BibleThump</td>\n",
       "    </tr>\n",
       "    <tr>\n",
       "      <th>79901</th>\n",
       "      <td>5:02:14</td>\n",
       "      <td>손디손디</td>\n",
       "      <td>BibleThump BibleThump BibleThump BibleThump Bi...</td>\n",
       "    </tr>\n",
       "    <tr>\n",
       "      <th>79902</th>\n",
       "      <td>5:02:14</td>\n",
       "      <td>paopaoboy76</td>\n",
       "      <td>NotLikeThis NotLikeThis NotLikeThis NotLikeThi...</td>\n",
       "    </tr>\n",
       "  </tbody>\n",
       "</table>\n",
       "<p>79903 rows × 3 columns</p>\n",
       "</div>"
      ],
      "text/plain": [
       "            일시        시청자ID                                               채팅내용\n",
       "0      0:00:18  맘만먹으면골드가는사람                                  BabyRage BabyRage\n",
       "1      0:00:19      삼방동_김찬호                NotLikeThis NotLikeThis NotLikeThis\n",
       "2      0:00:20     3억딜량돈즈리얼  FootYellow FootYellow FootYellow FootYellow Fo...\n",
       "3      0:00:22    Xormralgh    ResidentSleeper ResidentSleeper ResidentSleeper\n",
       "4      0:00:25       선홍빛하늘색                                            HeyGuys\n",
       "...        ...          ...                                                ...\n",
       "79898  5:02:14     trip0414        BibleThump BibleThump BibleThump BibleThump\n",
       "79899  5:02:14          빵뺭빵  BibleThump BibleThump BibleThump BibleThump Bi...\n",
       "79900  5:02:14      han5814        BibleThump BibleThump BibleThump BibleThump\n",
       "79901  5:02:14         손디손디  BibleThump BibleThump BibleThump BibleThump Bi...\n",
       "79902  5:02:14  paopaoboy76  NotLikeThis NotLikeThis NotLikeThis NotLikeThi...\n",
       "\n",
       "[79903 rows x 3 columns]"
      ]
     },
     "execution_count": 4,
     "metadata": {},
     "output_type": "execute_result"
    }
   ],
   "source": [
    "chat_dot = chat.채팅내용.str.contains('[⠁⠃⠉⠙⠑⠋⠛⠓⠊⠚⠅⠇⠍⠝⠕⠏⠟⠗⠎⠞⠥⠧⠺⠭⠽⠵⠠⠁⠃⠉⠙⠑⠋⠛⠓⠊⠚]',na=False) \n",
    "chat = chat[~chat_dot]\n",
    "chat = chat[chat['시청자ID'] != \"Nightbot\"]\n",
    "chat"
   ]
  },
  {
   "cell_type": "code",
   "execution_count": 5,
   "metadata": {},
   "outputs": [
    {
     "data": {
      "text/plain": [
       "일시\n",
       "0:00:18     1\n",
       "0:00:19     1\n",
       "0:00:20     1\n",
       "0:00:22     1\n",
       "0:00:25     1\n",
       "           ..\n",
       "5:02:10     9\n",
       "5:02:11    15\n",
       "5:02:12     7\n",
       "5:02:13    10\n",
       "5:02:14     8\n",
       "Name: 채팅내용, Length: 16411, dtype: int64"
      ]
     },
     "execution_count": 5,
     "metadata": {},
     "output_type": "execute_result"
    }
   ],
   "source": [
    "chat_number = chat.groupby('일시')['채팅내용'].count()\n",
    "chat_number"
   ]
  },
  {
   "cell_type": "code",
   "execution_count": 6,
   "metadata": {},
   "outputs": [
    {
     "data": {
      "text/html": [
       "<div>\n",
       "<style scoped>\n",
       "    .dataframe tbody tr th:only-of-type {\n",
       "        vertical-align: middle;\n",
       "    }\n",
       "\n",
       "    .dataframe tbody tr th {\n",
       "        vertical-align: top;\n",
       "    }\n",
       "\n",
       "    .dataframe thead th {\n",
       "        text-align: right;\n",
       "    }\n",
       "</style>\n",
       "<table border=\"1\" class=\"dataframe\">\n",
       "  <thead>\n",
       "    <tr style=\"text-align: right;\">\n",
       "      <th></th>\n",
       "      <th>시간</th>\n",
       "      <th>채팅수</th>\n",
       "    </tr>\n",
       "  </thead>\n",
       "  <tbody>\n",
       "    <tr>\n",
       "      <th>0</th>\n",
       "      <td>0:00:18</td>\n",
       "      <td>1</td>\n",
       "    </tr>\n",
       "    <tr>\n",
       "      <th>1</th>\n",
       "      <td>0:00:19</td>\n",
       "      <td>1</td>\n",
       "    </tr>\n",
       "    <tr>\n",
       "      <th>2</th>\n",
       "      <td>0:00:20</td>\n",
       "      <td>1</td>\n",
       "    </tr>\n",
       "    <tr>\n",
       "      <th>3</th>\n",
       "      <td>0:00:22</td>\n",
       "      <td>1</td>\n",
       "    </tr>\n",
       "    <tr>\n",
       "      <th>4</th>\n",
       "      <td>0:00:25</td>\n",
       "      <td>1</td>\n",
       "    </tr>\n",
       "    <tr>\n",
       "      <th>...</th>\n",
       "      <td>...</td>\n",
       "      <td>...</td>\n",
       "    </tr>\n",
       "    <tr>\n",
       "      <th>16406</th>\n",
       "      <td>5:02:10</td>\n",
       "      <td>9</td>\n",
       "    </tr>\n",
       "    <tr>\n",
       "      <th>16407</th>\n",
       "      <td>5:02:11</td>\n",
       "      <td>15</td>\n",
       "    </tr>\n",
       "    <tr>\n",
       "      <th>16408</th>\n",
       "      <td>5:02:12</td>\n",
       "      <td>7</td>\n",
       "    </tr>\n",
       "    <tr>\n",
       "      <th>16409</th>\n",
       "      <td>5:02:13</td>\n",
       "      <td>10</td>\n",
       "    </tr>\n",
       "    <tr>\n",
       "      <th>16410</th>\n",
       "      <td>5:02:14</td>\n",
       "      <td>8</td>\n",
       "    </tr>\n",
       "  </tbody>\n",
       "</table>\n",
       "<p>16411 rows × 2 columns</p>\n",
       "</div>"
      ],
      "text/plain": [
       "            시간  채팅수\n",
       "0      0:00:18    1\n",
       "1      0:00:19    1\n",
       "2      0:00:20    1\n",
       "3      0:00:22    1\n",
       "4      0:00:25    1\n",
       "...        ...  ...\n",
       "16406  5:02:10    9\n",
       "16407  5:02:11   15\n",
       "16408  5:02:12    7\n",
       "16409  5:02:13   10\n",
       "16410  5:02:14    8\n",
       "\n",
       "[16411 rows x 2 columns]"
      ]
     },
     "execution_count": 6,
     "metadata": {},
     "output_type": "execute_result"
    }
   ],
   "source": [
    "df1 = DataFrame(chat_number)\n",
    "df1 = df1.reset_index()\n",
    "df1.rename(columns= {'일시':'시간', '채팅내용':'채팅수'}, inplace=True)\n",
    "df1"
   ]
  },
  {
   "cell_type": "code",
   "execution_count": 7,
   "metadata": {},
   "outputs": [],
   "source": [
    "df1['시간'] = pd.to_datetime(df1['시간'])\n",
    "df1 = df1.set_index('시간')\n",
    "date_index = pd.date_range('00:00:00', '05:02:14', freq='s')\n",
    "df1 = df1.reindex(date_index, fill_value=0)"
   ]
  },
  {
   "cell_type": "code",
   "execution_count": 8,
   "metadata": {},
   "outputs": [
    {
     "data": {
      "text/html": [
       "<div>\n",
       "<style scoped>\n",
       "    .dataframe tbody tr th:only-of-type {\n",
       "        vertical-align: middle;\n",
       "    }\n",
       "\n",
       "    .dataframe tbody tr th {\n",
       "        vertical-align: top;\n",
       "    }\n",
       "\n",
       "    .dataframe thead th {\n",
       "        text-align: right;\n",
       "    }\n",
       "</style>\n",
       "<table border=\"1\" class=\"dataframe\">\n",
       "  <thead>\n",
       "    <tr style=\"text-align: right;\">\n",
       "      <th></th>\n",
       "      <th>시간</th>\n",
       "      <th>채팅수</th>\n",
       "    </tr>\n",
       "  </thead>\n",
       "  <tbody>\n",
       "    <tr>\n",
       "      <th>0</th>\n",
       "      <td>00:00:00</td>\n",
       "      <td>0</td>\n",
       "    </tr>\n",
       "    <tr>\n",
       "      <th>1</th>\n",
       "      <td>00:00:01</td>\n",
       "      <td>0</td>\n",
       "    </tr>\n",
       "    <tr>\n",
       "      <th>2</th>\n",
       "      <td>00:00:02</td>\n",
       "      <td>0</td>\n",
       "    </tr>\n",
       "    <tr>\n",
       "      <th>3</th>\n",
       "      <td>00:00:03</td>\n",
       "      <td>0</td>\n",
       "    </tr>\n",
       "    <tr>\n",
       "      <th>4</th>\n",
       "      <td>00:00:04</td>\n",
       "      <td>0</td>\n",
       "    </tr>\n",
       "    <tr>\n",
       "      <th>...</th>\n",
       "      <td>...</td>\n",
       "      <td>...</td>\n",
       "    </tr>\n",
       "    <tr>\n",
       "      <th>18130</th>\n",
       "      <td>05:02:10</td>\n",
       "      <td>9</td>\n",
       "    </tr>\n",
       "    <tr>\n",
       "      <th>18131</th>\n",
       "      <td>05:02:11</td>\n",
       "      <td>15</td>\n",
       "    </tr>\n",
       "    <tr>\n",
       "      <th>18132</th>\n",
       "      <td>05:02:12</td>\n",
       "      <td>7</td>\n",
       "    </tr>\n",
       "    <tr>\n",
       "      <th>18133</th>\n",
       "      <td>05:02:13</td>\n",
       "      <td>10</td>\n",
       "    </tr>\n",
       "    <tr>\n",
       "      <th>18134</th>\n",
       "      <td>05:02:14</td>\n",
       "      <td>8</td>\n",
       "    </tr>\n",
       "  </tbody>\n",
       "</table>\n",
       "<p>18135 rows × 2 columns</p>\n",
       "</div>"
      ],
      "text/plain": [
       "             시간  채팅수\n",
       "0      00:00:00    0\n",
       "1      00:00:01    0\n",
       "2      00:00:02    0\n",
       "3      00:00:03    0\n",
       "4      00:00:04    0\n",
       "...         ...  ...\n",
       "18130  05:02:10    9\n",
       "18131  05:02:11   15\n",
       "18132  05:02:12    7\n",
       "18133  05:02:13   10\n",
       "18134  05:02:14    8\n",
       "\n",
       "[18135 rows x 2 columns]"
      ]
     },
     "execution_count": 8,
     "metadata": {},
     "output_type": "execute_result"
    }
   ],
   "source": [
    "df1 = df1.reset_index()\n",
    "df1.rename(columns= {'index':'시간'}, inplace=True)\n",
    "df1['시간'] = df1['시간'].dt.strftime('%H:%M:%S')\n",
    "df1"
   ]
  },
  {
   "cell_type": "code",
   "execution_count": 9,
   "metadata": {},
   "outputs": [
    {
     "name": "stderr",
     "output_type": "stream",
     "text": [
      "C:\\Users\\jaegun\\Anaconda3\\lib\\site-packages\\matplotlib\\backends\\backend_agg.py:238: RuntimeWarning: Glyph 52292 missing from current font.\n",
      "  font.set_text(s, 0.0, flags=flags)\n",
      "C:\\Users\\jaegun\\Anaconda3\\lib\\site-packages\\matplotlib\\backends\\backend_agg.py:238: RuntimeWarning: Glyph 54021 missing from current font.\n",
      "  font.set_text(s, 0.0, flags=flags)\n",
      "C:\\Users\\jaegun\\Anaconda3\\lib\\site-packages\\matplotlib\\backends\\backend_agg.py:238: RuntimeWarning: Glyph 49688 missing from current font.\n",
      "  font.set_text(s, 0.0, flags=flags)\n",
      "C:\\Users\\jaegun\\Anaconda3\\lib\\site-packages\\matplotlib\\backends\\backend_agg.py:201: RuntimeWarning: Glyph 52292 missing from current font.\n",
      "  font.set_text(s, 0, flags=flags)\n",
      "C:\\Users\\jaegun\\Anaconda3\\lib\\site-packages\\matplotlib\\backends\\backend_agg.py:201: RuntimeWarning: Glyph 54021 missing from current font.\n",
      "  font.set_text(s, 0, flags=flags)\n",
      "C:\\Users\\jaegun\\Anaconda3\\lib\\site-packages\\matplotlib\\backends\\backend_agg.py:201: RuntimeWarning: Glyph 49688 missing from current font.\n",
      "  font.set_text(s, 0, flags=flags)\n"
     ]
    },
    {
     "data": {
      "image/png": "[encoded data removed]",
      "text/plain": [
       "<Figure size 1440x720 with 1 Axes>"
      ]
     },
     "metadata": {
      "needs_background": "light"
     },
     "output_type": "display_data"
    }
   ],
   "source": [
    "df1.plot(kind='line', figsize=(20,10), color='mediumpurple')\n",
    "plt.xlabel(\"seconds\")\n",
    "plt.ylabel(\"chat counts\")\n",
    "plt.savefig('./903242294.png')"
   ]
  },
  {
   "cell_type": "markdown",
   "metadata": {},
   "source": [
    "## 채팅 트래픽 기반 하이라이트 추출"
   ]
  },
  {
   "cell_type": "markdown",
   "metadata": {},
   "source": [
    "### 하이라이트 알고리즘 parameter 설정"
   ]
  },
  {
   "cell_type": "code",
   "execution_count": 10,
   "metadata": {},
   "outputs": [
    {
     "data": {
      "text/plain": [
       "일시       79903\n",
       "시청자ID    79903\n",
       "채팅내용     79903\n",
       "dtype: int64"
      ]
     },
     "execution_count": 10,
     "metadata": {},
     "output_type": "execute_result"
    }
   ],
   "source": [
    "chat.count()"
   ]
  },
  {
   "cell_type": "code",
   "execution_count": 11,
   "metadata": {},
   "outputs": [
    {
     "data": {
      "text/plain": [
       "15.0"
      ]
     },
     "execution_count": 11,
     "metadata": {},
     "output_type": "execute_result"
    }
   ],
   "source": [
    "a = np.percentile(df1['채팅수'], 99) \n",
    "a"
   ]
  },
  {
   "cell_type": "code",
   "execution_count": 12,
   "metadata": {},
   "outputs": [
    {
     "data": {
      "text/plain": [
       "4.406010476978219"
      ]
     },
     "execution_count": 12,
     "metadata": {},
     "output_type": "execute_result"
    }
   ],
   "source": [
    "b = df1['채팅수'].mean()\n",
    "b"
   ]
  },
  {
   "cell_type": "code",
   "execution_count": 13,
   "metadata": {},
   "outputs": [
    {
     "data": {
      "text/plain": [
       "3.627709011113276"
      ]
     },
     "execution_count": 13,
     "metadata": {},
     "output_type": "execute_result"
    }
   ],
   "source": [
    "c = np.std(df1['채팅수'])\n",
    "c"
   ]
  },
  {
   "cell_type": "code",
   "execution_count": 14,
   "metadata": {},
   "outputs": [
    {
     "data": {
      "text/plain": [
       "2.920297490941999"
      ]
     },
     "execution_count": 14,
     "metadata": {},
     "output_type": "execute_result"
    }
   ],
   "source": [
    "t = (a - b) / c\n",
    "t"
   ]
  },
  {
   "cell_type": "code",
   "execution_count": 15,
   "metadata": {},
   "outputs": [
    {
     "data": {
      "text/plain": [
       "0         0\n",
       "1         0\n",
       "2         0\n",
       "3         0\n",
       "4         0\n",
       "         ..\n",
       "18130     9\n",
       "18131    15\n",
       "18132     7\n",
       "18133    10\n",
       "18134     8\n",
       "Name: 채팅수, Length: 18135, dtype: int64"
      ]
     },
     "execution_count": 15,
     "metadata": {},
     "output_type": "execute_result"
    }
   ],
   "source": [
    "df1['채팅수']"
   ]
  },
  {
   "cell_type": "markdown",
   "metadata": {},
   "source": [
    "### 하이라이트 선정 알고리즘"
   ]
  },
  {
   "cell_type": "code",
   "execution_count": 16,
   "metadata": {},
   "outputs": [
    {
     "data": {
      "image/png": "[encoded data removed]",
      "text/plain": [
       "<Figure size 432x288 with 2 Axes>"
      ]
     },
     "metadata": {
      "needs_background": "light"
     },
     "output_type": "display_data"
    }
   ],
   "source": [
    "import numpy as np\n",
    "import pylab\n",
    "\n",
    "\n",
    "def init(x, lag, threshold, influence):\n",
    "\n",
    "    labels = np.zeros(lag) \n",
    "    filtered_y = np.array(x[0:lag]) \n",
    "    avg_filter = np.zeros(lag)\n",
    "    std_filter = np.zeros(lag)\n",
    "    var_filter = np.zeros(lag)\n",
    "\n",
    "    avg_filter[lag - 1] = np.mean(x[0:lag])\n",
    "    std_filter[lag - 1] = np.std(x[0:lag])\n",
    "    var_filter[lag - 1] = np.var(x[0:lag])\n",
    "\n",
    "    return dict(avg=avg_filter[lag - 1],\n",
    "                var=var_filter[lag - 1],\n",
    "                std=std_filter[lag - 1],\n",
    "                filtered_y=filtered_y,\n",
    "                labels=labels)\n",
    "\n",
    "def add(esult, single_value, lag, threshold, influence):\n",
    "    previous_avg = result['avg']\n",
    "    previous_var = result['var']\n",
    "    previous_std = result['std']\n",
    "    filtered_y = result['filtered_y']\n",
    "    labels = result['labels']\n",
    "\n",
    "    if abs(single_value - previous_avg) > threshold * previous_std:\n",
    "        if single_value > previous_avg:\n",
    "            labels = np.append(labels, 1)\n",
    "        else:\n",
    "            labels = np.append(labels, -1)\n",
    "\n",
    "        filtered_y = np.append(filtered_y, influence * single_value\n",
    "                               + (1 - influence) * filtered_y[-1])\n",
    "    else:\n",
    "        labels = np.append(labels, 0)\n",
    "        filtered_y = np.append(filtered_y, single_value)\n",
    "\n",
    "    current_avg_filter = previous_avg + 1. / lag * (filtered_y[-1]\n",
    "            - filtered_y[len(filtered_y) - lag - 1])\n",
    "\n",
    "    current_var_filter = previous_var + 1. / lag * ((filtered_y[-1]\n",
    "            - previous_avg) ** 2 - (filtered_y[len(filtered_y) - 1\n",
    "            - lag] - previous_avg) ** 2 - (filtered_y[-1]\n",
    "            - filtered_y[len(filtered_y) - 1 - lag]) ** 2 / lag)  \n",
    "    \n",
    "    current_std_filter = np.sqrt(current_var_filter)\n",
    "\n",
    "    return dict(avg=current_avg_filter,\n",
    "                var=current_var_filter,\n",
    "                std=current_std_filter,\n",
    "                filtered_y=filtered_y[1:],\n",
    "                labels=labels)\n",
    "\n",
    "lag = 150\n",
    "threshold = t\n",
    "influence = 0\n",
    "\n",
    "y = df1['채팅수']\n",
    "\n",
    "result = init(y[:lag], lag=lag, threshold=threshold, influence=influence)\n",
    "\n",
    "for i in y[lag:]:\n",
    "    result = add(result, i, lag, threshold, influence)\n",
    "\n",
    "pylab.subplot(211)\n",
    "pylab.plot(np.arange(1, len(y) + 1), y)\n",
    "pylab.subplot(212)\n",
    "pylab.step(np.arange(1, len(y) + 1), result['labels'], color='red',\n",
    "           lw=2)\n",
    "pylab.ylim(-1.5, 1.5)\n",
    "pylab.show()"
   ]
  },
  {
   "cell_type": "code",
   "execution_count": 17,
   "metadata": {},
   "outputs": [
    {
     "data": {
      "text/plain": [
       "array([0., 0., 0., ..., 0., 0., 0.])"
      ]
     },
     "execution_count": 17,
     "metadata": {},
     "output_type": "execute_result"
    }
   ],
   "source": [
    "highlight_result = result['labels']\n",
    "highlight_result"
   ]
  },
  {
   "cell_type": "code",
   "execution_count": 18,
   "metadata": {},
   "outputs": [
    {
     "data": {
      "text/html": [
       "<div>\n",
       "<style scoped>\n",
       "    .dataframe tbody tr th:only-of-type {\n",
       "        vertical-align: middle;\n",
       "    }\n",
       "\n",
       "    .dataframe tbody tr th {\n",
       "        vertical-align: top;\n",
       "    }\n",
       "\n",
       "    .dataframe thead th {\n",
       "        text-align: right;\n",
       "    }\n",
       "</style>\n",
       "<table border=\"1\" class=\"dataframe\">\n",
       "  <thead>\n",
       "    <tr style=\"text-align: right;\">\n",
       "      <th></th>\n",
       "      <th>하이라이트 여부</th>\n",
       "    </tr>\n",
       "  </thead>\n",
       "  <tbody>\n",
       "    <tr>\n",
       "      <th>0</th>\n",
       "      <td>X</td>\n",
       "    </tr>\n",
       "    <tr>\n",
       "      <th>1</th>\n",
       "      <td>X</td>\n",
       "    </tr>\n",
       "    <tr>\n",
       "      <th>2</th>\n",
       "      <td>X</td>\n",
       "    </tr>\n",
       "    <tr>\n",
       "      <th>3</th>\n",
       "      <td>X</td>\n",
       "    </tr>\n",
       "    <tr>\n",
       "      <th>4</th>\n",
       "      <td>X</td>\n",
       "    </tr>\n",
       "    <tr>\n",
       "      <th>...</th>\n",
       "      <td>...</td>\n",
       "    </tr>\n",
       "    <tr>\n",
       "      <th>18130</th>\n",
       "      <td>X</td>\n",
       "    </tr>\n",
       "    <tr>\n",
       "      <th>18131</th>\n",
       "      <td>O</td>\n",
       "    </tr>\n",
       "    <tr>\n",
       "      <th>18132</th>\n",
       "      <td>X</td>\n",
       "    </tr>\n",
       "    <tr>\n",
       "      <th>18133</th>\n",
       "      <td>X</td>\n",
       "    </tr>\n",
       "    <tr>\n",
       "      <th>18134</th>\n",
       "      <td>X</td>\n",
       "    </tr>\n",
       "  </tbody>\n",
       "</table>\n",
       "<p>18135 rows × 1 columns</p>\n",
       "</div>"
      ],
      "text/plain": [
       "      하이라이트 여부\n",
       "0            X\n",
       "1            X\n",
       "2            X\n",
       "3            X\n",
       "4            X\n",
       "...        ...\n",
       "18130        X\n",
       "18131        O\n",
       "18132        X\n",
       "18133        X\n",
       "18134        X\n",
       "\n",
       "[18135 rows x 1 columns]"
      ]
     },
     "execution_count": 18,
     "metadata": {},
     "output_type": "execute_result"
    }
   ],
   "source": [
    "column_highlight = ['하이라이트 여부']\n",
    "df2 = pd.DataFrame(highlight_result, columns=column_highlight)\n",
    "df2 = df2.replace(0.0, \"X\")\n",
    "df2 = df2.replace(1.0, \"O\")\n",
    "df2"
   ]
  },
  {
   "cell_type": "code",
   "execution_count": 19,
   "metadata": {},
   "outputs": [
    {
     "data": {
      "text/html": [
       "<div>\n",
       "<style scoped>\n",
       "    .dataframe tbody tr th:only-of-type {\n",
       "        vertical-align: middle;\n",
       "    }\n",
       "\n",
       "    .dataframe tbody tr th {\n",
       "        vertical-align: top;\n",
       "    }\n",
       "\n",
       "    .dataframe thead th {\n",
       "        text-align: right;\n",
       "    }\n",
       "</style>\n",
       "<table border=\"1\" class=\"dataframe\">\n",
       "  <thead>\n",
       "    <tr style=\"text-align: right;\">\n",
       "      <th></th>\n",
       "      <th>시간</th>\n",
       "      <th>채팅수</th>\n",
       "      <th>하이라이트 여부</th>\n",
       "    </tr>\n",
       "  </thead>\n",
       "  <tbody>\n",
       "    <tr>\n",
       "      <th>0</th>\n",
       "      <td>00:00:00</td>\n",
       "      <td>0</td>\n",
       "      <td>X</td>\n",
       "    </tr>\n",
       "    <tr>\n",
       "      <th>1</th>\n",
       "      <td>00:00:01</td>\n",
       "      <td>0</td>\n",
       "      <td>X</td>\n",
       "    </tr>\n",
       "    <tr>\n",
       "      <th>2</th>\n",
       "      <td>00:00:02</td>\n",
       "      <td>0</td>\n",
       "      <td>X</td>\n",
       "    </tr>\n",
       "    <tr>\n",
       "      <th>3</th>\n",
       "      <td>00:00:03</td>\n",
       "      <td>0</td>\n",
       "      <td>X</td>\n",
       "    </tr>\n",
       "    <tr>\n",
       "      <th>4</th>\n",
       "      <td>00:00:04</td>\n",
       "      <td>0</td>\n",
       "      <td>X</td>\n",
       "    </tr>\n",
       "    <tr>\n",
       "      <th>...</th>\n",
       "      <td>...</td>\n",
       "      <td>...</td>\n",
       "      <td>...</td>\n",
       "    </tr>\n",
       "    <tr>\n",
       "      <th>18130</th>\n",
       "      <td>05:02:10</td>\n",
       "      <td>9</td>\n",
       "      <td>X</td>\n",
       "    </tr>\n",
       "    <tr>\n",
       "      <th>18131</th>\n",
       "      <td>05:02:11</td>\n",
       "      <td>15</td>\n",
       "      <td>O</td>\n",
       "    </tr>\n",
       "    <tr>\n",
       "      <th>18132</th>\n",
       "      <td>05:02:12</td>\n",
       "      <td>7</td>\n",
       "      <td>X</td>\n",
       "    </tr>\n",
       "    <tr>\n",
       "      <th>18133</th>\n",
       "      <td>05:02:13</td>\n",
       "      <td>10</td>\n",
       "      <td>X</td>\n",
       "    </tr>\n",
       "    <tr>\n",
       "      <th>18134</th>\n",
       "      <td>05:02:14</td>\n",
       "      <td>8</td>\n",
       "      <td>X</td>\n",
       "    </tr>\n",
       "  </tbody>\n",
       "</table>\n",
       "<p>18135 rows × 3 columns</p>\n",
       "</div>"
      ],
      "text/plain": [
       "             시간  채팅수 하이라이트 여부\n",
       "0      00:00:00    0        X\n",
       "1      00:00:01    0        X\n",
       "2      00:00:02    0        X\n",
       "3      00:00:03    0        X\n",
       "4      00:00:04    0        X\n",
       "...         ...  ...      ...\n",
       "18130  05:02:10    9        X\n",
       "18131  05:02:11   15        O\n",
       "18132  05:02:12    7        X\n",
       "18133  05:02:13   10        X\n",
       "18134  05:02:14    8        X\n",
       "\n",
       "[18135 rows x 3 columns]"
      ]
     },
     "execution_count": 19,
     "metadata": {},
     "output_type": "execute_result"
    }
   ],
   "source": [
    "chat_highlightall = pd.concat([df1, df2], axis=1)\n",
    "chat_highlightall"
   ]
  },
  {
   "cell_type": "code",
   "execution_count": 20,
   "metadata": {},
   "outputs": [
    {
     "data": {
      "text/html": [
       "<div>\n",
       "<style scoped>\n",
       "    .dataframe tbody tr th:only-of-type {\n",
       "        vertical-align: middle;\n",
       "    }\n",
       "\n",
       "    .dataframe tbody tr th {\n",
       "        vertical-align: top;\n",
       "    }\n",
       "\n",
       "    .dataframe thead th {\n",
       "        text-align: right;\n",
       "    }\n",
       "</style>\n",
       "<table border=\"1\" class=\"dataframe\">\n",
       "  <thead>\n",
       "    <tr style=\"text-align: right;\">\n",
       "      <th></th>\n",
       "      <th>시간</th>\n",
       "      <th>채팅수</th>\n",
       "      <th>하이라이트 여부</th>\n",
       "    </tr>\n",
       "  </thead>\n",
       "  <tbody>\n",
       "    <tr>\n",
       "      <th>1291</th>\n",
       "      <td>00:21:31</td>\n",
       "      <td>15</td>\n",
       "      <td>O</td>\n",
       "    </tr>\n",
       "    <tr>\n",
       "      <th>1519</th>\n",
       "      <td>00:25:19</td>\n",
       "      <td>14</td>\n",
       "      <td>O</td>\n",
       "    </tr>\n",
       "    <tr>\n",
       "      <th>1522</th>\n",
       "      <td>00:25:22</td>\n",
       "      <td>15</td>\n",
       "      <td>O</td>\n",
       "    </tr>\n",
       "    <tr>\n",
       "      <th>1717</th>\n",
       "      <td>00:28:37</td>\n",
       "      <td>13</td>\n",
       "      <td>O</td>\n",
       "    </tr>\n",
       "    <tr>\n",
       "      <th>1727</th>\n",
       "      <td>00:28:47</td>\n",
       "      <td>15</td>\n",
       "      <td>O</td>\n",
       "    </tr>\n",
       "    <tr>\n",
       "      <th>...</th>\n",
       "      <td>...</td>\n",
       "      <td>...</td>\n",
       "      <td>...</td>\n",
       "    </tr>\n",
       "    <tr>\n",
       "      <th>18117</th>\n",
       "      <td>05:01:57</td>\n",
       "      <td>15</td>\n",
       "      <td>O</td>\n",
       "    </tr>\n",
       "    <tr>\n",
       "      <th>18120</th>\n",
       "      <td>05:02:00</td>\n",
       "      <td>15</td>\n",
       "      <td>O</td>\n",
       "    </tr>\n",
       "    <tr>\n",
       "      <th>18122</th>\n",
       "      <td>05:02:02</td>\n",
       "      <td>15</td>\n",
       "      <td>O</td>\n",
       "    </tr>\n",
       "    <tr>\n",
       "      <th>18123</th>\n",
       "      <td>05:02:03</td>\n",
       "      <td>15</td>\n",
       "      <td>O</td>\n",
       "    </tr>\n",
       "    <tr>\n",
       "      <th>18131</th>\n",
       "      <td>05:02:11</td>\n",
       "      <td>15</td>\n",
       "      <td>O</td>\n",
       "    </tr>\n",
       "  </tbody>\n",
       "</table>\n",
       "<p>645 rows × 3 columns</p>\n",
       "</div>"
      ],
      "text/plain": [
       "             시간  채팅수 하이라이트 여부\n",
       "1291   00:21:31   15        O\n",
       "1519   00:25:19   14        O\n",
       "1522   00:25:22   15        O\n",
       "1717   00:28:37   13        O\n",
       "1727   00:28:47   15        O\n",
       "...         ...  ...      ...\n",
       "18117  05:01:57   15        O\n",
       "18120  05:02:00   15        O\n",
       "18122  05:02:02   15        O\n",
       "18123  05:02:03   15        O\n",
       "18131  05:02:11   15        O\n",
       "\n",
       "[645 rows x 3 columns]"
      ]
     },
     "execution_count": 20,
     "metadata": {},
     "output_type": "execute_result"
    }
   ],
   "source": [
    "chat_highlight = chat_highlightall[chat_highlightall['하이라이트 여부'] == \"O\"]\n",
    "chat_highlight"
   ]
  },
  {
   "cell_type": "code",
   "execution_count": 21,
   "metadata": {},
   "outputs": [],
   "source": [
    "# csv로 변환 후 비교해보기\n",
    "\n",
    "chat_highlight.to_csv(\"[Chat Highlight]랄로_903242294.csv\")"
   ]
  },
  {
   "cell_type": "code",
   "execution_count": null,
   "metadata": {},
   "outputs": [],
   "source": []
  }
 ],
 "metadata": {
  "kernelspec": {
   "display_name": "Python 3",
   "language": "python",
   "name": "python3"
  },
  "language_info": {
   "codemirror_mode": {
    "name": "ipython",
    "version": 3
   },
   "file_extension": ".py",
   "mimetype": "text/x-python",
   "name": "python",
   "nbconvert_exporter": "python",
   "pygments_lexer": "ipython3",
   "version": "3.8.5"
  }
 },
 "nbformat": 4,
 "nbformat_minor": 4
}
